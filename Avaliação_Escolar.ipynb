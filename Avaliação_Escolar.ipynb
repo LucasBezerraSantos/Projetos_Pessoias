{
  "nbformat": 4,
  "nbformat_minor": 0,
  "metadata": {
    "colab": {
      "provenance": [],
      "collapsed_sections": [
        "_k5NRAaYZXaF",
        "jxVQNBeNBXMT",
        "cF3sVERMNlFT",
        "t2oQyHSPbtcN",
        "m-JUTfhsJYyL",
        "O2JETkoINRhD",
        "-kYbsY5SMDYA",
        "TaABwZnmMF0L",
        "3JqvM0OWNvt6",
        "o3kukMP4QTnJ",
        "PQ3X7euRScc8",
        "PCmRAqeqV2pZ"
      ],
      "authorship_tag": "ABX9TyPK1V15ho56aRacE2LOcCB7",
      "include_colab_link": true
    },
    "kernelspec": {
      "name": "python3",
      "display_name": "Python 3"
    },
    "language_info": {
      "name": "python"
    }
  },
  "cells": [
    {
      "cell_type": "markdown",
      "metadata": {
        "id": "view-in-github",
        "colab_type": "text"
      },
      "source": [
        "<a href=\"https://colab.research.google.com/github/LucasBezerraSantos/Projetos_Pessoias/blob/master/Avalia%C3%A7%C3%A3o_Escolar.ipynb\" target=\"_parent\"><img src=\"https://colab.research.google.com/assets/colab-badge.svg\" alt=\"Open In Colab\"/></a>"
      ]
    },
    {
      "cell_type": "markdown",
      "source": [
        "## Avaliação Escolar\n",
        "---\n",
        "Lucas Bezerra Santos - Machine Learning"
      ],
      "metadata": {
        "id": "YIprXfWB_pW0"
      }
    },
    {
      "cell_type": "markdown",
      "source": [
        "Inspirado em uma necessidade de negócio real, esse projeto tem o objetivo de mensurar caracteristicas acadêmicas com modelos de Machine Learning para classificar alunos (as) como \"Formados\" ou \"Cancelamento\".\n",
        "\n",
        "O objetivo é que o modelo seja capaz de retornar com boa acuracia quais alunos tem mais chances de se formar ou cancelar o curso de acordo com o seu histórico acadêmico, o qual inclui notas, reprovações, trancamentos, Estado e gênero. "
      ],
      "metadata": {
        "id": "fVW1NDrX_8BU"
      }
    },
    {
      "cell_type": "markdown",
      "source": [
        "## Análise exploratória e transformação de dados"
      ],
      "metadata": {
        "id": "_k5NRAaYZXaF"
      }
    },
    {
      "cell_type": "markdown",
      "source": [
        "### Leitura de dados e Bibliotecas"
      ],
      "metadata": {
        "id": "-8_betto_j7s"
      }
    },
    {
      "cell_type": "code",
      "execution_count": 1,
      "metadata": {
        "colab": {
          "base_uri": "https://localhost:8080/"
        },
        "id": "yUPPvdVfo3YJ",
        "outputId": "09d7f17e-c98a-4b2d-c609-e3dee22a47c7"
      },
      "outputs": [
        {
          "output_type": "stream",
          "name": "stdout",
          "text": [
            "Drive already mounted at /content/drive; to attempt to forcibly remount, call drive.mount(\"/content/drive\", force_remount=True).\n"
          ]
        }
      ],
      "source": [
        "from google.colab import drive\n",
        "drive.mount('/content/drive')"
      ]
    },
    {
      "cell_type": "code",
      "source": [
        "import pandas as pd\n",
        "import numpy as np\n",
        "\n",
        "from sklearn.metrics import accuracy_score\n",
        "from sklearn.tree import DecisionTreeClassifier\n",
        "from sklearn.svm import SVC, LinearSVC\n",
        "from sklearn.model_selection import train_test_split\n",
        "from sklearn.preprocessing import StandardScaler\n",
        "from sklearn.dummy import DummyClassifier\n",
        "\n",
        "import matplotlib.pyplot as plt\n",
        "import seaborn as sns\n",
        "\n",
        "from sklearn.tree import export_graphviz\n",
        "import graphviz"
      ],
      "metadata": {
        "id": "aTD-aknX9a1z"
      },
      "execution_count": 2,
      "outputs": []
    },
    {
      "cell_type": "code",
      "source": [
        "!pip install graphviz==0.10"
      ],
      "metadata": {
        "colab": {
          "base_uri": "https://localhost:8080/"
        },
        "id": "-Rlxt4t-9aun",
        "outputId": "c0d2e279-deef-482b-877a-b68dfbe78ea6"
      },
      "execution_count": 3,
      "outputs": [
        {
          "output_type": "stream",
          "name": "stdout",
          "text": [
            "Looking in indexes: https://pypi.org/simple, https://us-python.pkg.dev/colab-wheels/public/simple/\n",
            "Requirement already satisfied: graphviz==0.10 in /usr/local/lib/python3.8/dist-packages (0.10)\n"
          ]
        }
      ]
    },
    {
      "cell_type": "markdown",
      "source": [
        "### Análise exploratória e transformação de dados"
      ],
      "metadata": {
        "id": "jxVQNBeNBXMT"
      }
    },
    {
      "cell_type": "code",
      "source": [
        "historico = pd.read_csv('/content/drive/MyDrive/Colab Notebooks/Projetos_pessoias/dados/avaliacao_notas.csv', sep=\";\")"
      ],
      "metadata": {
        "id": "QfDycgU7Bcnk"
      },
      "execution_count": 4,
      "outputs": []
    },
    {
      "cell_type": "code",
      "source": [
        "historico.head()"
      ],
      "metadata": {
        "colab": {
          "base_uri": "https://localhost:8080/",
          "height": 206
        },
        "id": "0vp2mlyqCcZg",
        "outputId": "63d7ada8-6c54-4590-b254-bc1b03bfd996"
      },
      "execution_count": 5,
      "outputs": [
        {
          "output_type": "execute_result",
          "data": {
            "text/plain": [
              "                Etapa Pronome  Reprovacao  Trancamento        Estado  \\\n",
              "0  Formado 2S c/ Cert     Ela           1            0     São Paulo   \n",
              "1  Formado 2S c/ Cert     Ele           3            1        Paraná   \n",
              "2  Formado 2S c/ Cert     Ele           2            0  Minas Gerais   \n",
              "3  Formado 2S c/ Cert     Ele           0            0     São Paulo   \n",
              "4  Formado 2S c/ Cert     Ela           1            0      Amazonas   \n",
              "\n",
              "   Modulo 1  Modulo 2  Modulo 3  Modulo 4  Modulo 5  Modulo 6  \n",
              "0         8         9         6         2         8         9  \n",
              "1         9         8         7         7         9        10  \n",
              "2        10         9         9         7         9        10  \n",
              "3         7         9        10         8         8        10  \n",
              "4         9         7         7        10         9         9  "
            ],
            "text/html": [
              "\n",
              "  <div id=\"df-28b0f15c-559c-43d3-a5af-4266020fcea9\">\n",
              "    <div class=\"colab-df-container\">\n",
              "      <div>\n",
              "<style scoped>\n",
              "    .dataframe tbody tr th:only-of-type {\n",
              "        vertical-align: middle;\n",
              "    }\n",
              "\n",
              "    .dataframe tbody tr th {\n",
              "        vertical-align: top;\n",
              "    }\n",
              "\n",
              "    .dataframe thead th {\n",
              "        text-align: right;\n",
              "    }\n",
              "</style>\n",
              "<table border=\"1\" class=\"dataframe\">\n",
              "  <thead>\n",
              "    <tr style=\"text-align: right;\">\n",
              "      <th></th>\n",
              "      <th>Etapa</th>\n",
              "      <th>Pronome</th>\n",
              "      <th>Reprovacao</th>\n",
              "      <th>Trancamento</th>\n",
              "      <th>Estado</th>\n",
              "      <th>Modulo 1</th>\n",
              "      <th>Modulo 2</th>\n",
              "      <th>Modulo 3</th>\n",
              "      <th>Modulo 4</th>\n",
              "      <th>Modulo 5</th>\n",
              "      <th>Modulo 6</th>\n",
              "    </tr>\n",
              "  </thead>\n",
              "  <tbody>\n",
              "    <tr>\n",
              "      <th>0</th>\n",
              "      <td>Formado 2S c/ Cert</td>\n",
              "      <td>Ela</td>\n",
              "      <td>1</td>\n",
              "      <td>0</td>\n",
              "      <td>São Paulo</td>\n",
              "      <td>8</td>\n",
              "      <td>9</td>\n",
              "      <td>6</td>\n",
              "      <td>2</td>\n",
              "      <td>8</td>\n",
              "      <td>9</td>\n",
              "    </tr>\n",
              "    <tr>\n",
              "      <th>1</th>\n",
              "      <td>Formado 2S c/ Cert</td>\n",
              "      <td>Ele</td>\n",
              "      <td>3</td>\n",
              "      <td>1</td>\n",
              "      <td>Paraná</td>\n",
              "      <td>9</td>\n",
              "      <td>8</td>\n",
              "      <td>7</td>\n",
              "      <td>7</td>\n",
              "      <td>9</td>\n",
              "      <td>10</td>\n",
              "    </tr>\n",
              "    <tr>\n",
              "      <th>2</th>\n",
              "      <td>Formado 2S c/ Cert</td>\n",
              "      <td>Ele</td>\n",
              "      <td>2</td>\n",
              "      <td>0</td>\n",
              "      <td>Minas Gerais</td>\n",
              "      <td>10</td>\n",
              "      <td>9</td>\n",
              "      <td>9</td>\n",
              "      <td>7</td>\n",
              "      <td>9</td>\n",
              "      <td>10</td>\n",
              "    </tr>\n",
              "    <tr>\n",
              "      <th>3</th>\n",
              "      <td>Formado 2S c/ Cert</td>\n",
              "      <td>Ele</td>\n",
              "      <td>0</td>\n",
              "      <td>0</td>\n",
              "      <td>São Paulo</td>\n",
              "      <td>7</td>\n",
              "      <td>9</td>\n",
              "      <td>10</td>\n",
              "      <td>8</td>\n",
              "      <td>8</td>\n",
              "      <td>10</td>\n",
              "    </tr>\n",
              "    <tr>\n",
              "      <th>4</th>\n",
              "      <td>Formado 2S c/ Cert</td>\n",
              "      <td>Ela</td>\n",
              "      <td>1</td>\n",
              "      <td>0</td>\n",
              "      <td>Amazonas</td>\n",
              "      <td>9</td>\n",
              "      <td>7</td>\n",
              "      <td>7</td>\n",
              "      <td>10</td>\n",
              "      <td>9</td>\n",
              "      <td>9</td>\n",
              "    </tr>\n",
              "  </tbody>\n",
              "</table>\n",
              "</div>\n",
              "      <button class=\"colab-df-convert\" onclick=\"convertToInteractive('df-28b0f15c-559c-43d3-a5af-4266020fcea9')\"\n",
              "              title=\"Convert this dataframe to an interactive table.\"\n",
              "              style=\"display:none;\">\n",
              "        \n",
              "  <svg xmlns=\"http://www.w3.org/2000/svg\" height=\"24px\"viewBox=\"0 0 24 24\"\n",
              "       width=\"24px\">\n",
              "    <path d=\"M0 0h24v24H0V0z\" fill=\"none\"/>\n",
              "    <path d=\"M18.56 5.44l.94 2.06.94-2.06 2.06-.94-2.06-.94-.94-2.06-.94 2.06-2.06.94zm-11 1L8.5 8.5l.94-2.06 2.06-.94-2.06-.94L8.5 2.5l-.94 2.06-2.06.94zm10 10l.94 2.06.94-2.06 2.06-.94-2.06-.94-.94-2.06-.94 2.06-2.06.94z\"/><path d=\"M17.41 7.96l-1.37-1.37c-.4-.4-.92-.59-1.43-.59-.52 0-1.04.2-1.43.59L10.3 9.45l-7.72 7.72c-.78.78-.78 2.05 0 2.83L4 21.41c.39.39.9.59 1.41.59.51 0 1.02-.2 1.41-.59l7.78-7.78 2.81-2.81c.8-.78.8-2.07 0-2.86zM5.41 20L4 18.59l7.72-7.72 1.47 1.35L5.41 20z\"/>\n",
              "  </svg>\n",
              "      </button>\n",
              "      \n",
              "  <style>\n",
              "    .colab-df-container {\n",
              "      display:flex;\n",
              "      flex-wrap:wrap;\n",
              "      gap: 12px;\n",
              "    }\n",
              "\n",
              "    .colab-df-convert {\n",
              "      background-color: #E8F0FE;\n",
              "      border: none;\n",
              "      border-radius: 50%;\n",
              "      cursor: pointer;\n",
              "      display: none;\n",
              "      fill: #1967D2;\n",
              "      height: 32px;\n",
              "      padding: 0 0 0 0;\n",
              "      width: 32px;\n",
              "    }\n",
              "\n",
              "    .colab-df-convert:hover {\n",
              "      background-color: #E2EBFA;\n",
              "      box-shadow: 0px 1px 2px rgba(60, 64, 67, 0.3), 0px 1px 3px 1px rgba(60, 64, 67, 0.15);\n",
              "      fill: #174EA6;\n",
              "    }\n",
              "\n",
              "    [theme=dark] .colab-df-convert {\n",
              "      background-color: #3B4455;\n",
              "      fill: #D2E3FC;\n",
              "    }\n",
              "\n",
              "    [theme=dark] .colab-df-convert:hover {\n",
              "      background-color: #434B5C;\n",
              "      box-shadow: 0px 1px 3px 1px rgba(0, 0, 0, 0.15);\n",
              "      filter: drop-shadow(0px 1px 2px rgba(0, 0, 0, 0.3));\n",
              "      fill: #FFFFFF;\n",
              "    }\n",
              "  </style>\n",
              "\n",
              "      <script>\n",
              "        const buttonEl =\n",
              "          document.querySelector('#df-28b0f15c-559c-43d3-a5af-4266020fcea9 button.colab-df-convert');\n",
              "        buttonEl.style.display =\n",
              "          google.colab.kernel.accessAllowed ? 'block' : 'none';\n",
              "\n",
              "        async function convertToInteractive(key) {\n",
              "          const element = document.querySelector('#df-28b0f15c-559c-43d3-a5af-4266020fcea9');\n",
              "          const dataTable =\n",
              "            await google.colab.kernel.invokeFunction('convertToInteractive',\n",
              "                                                     [key], {});\n",
              "          if (!dataTable) return;\n",
              "\n",
              "          const docLinkHtml = 'Like what you see? Visit the ' +\n",
              "            '<a target=\"_blank\" href=https://colab.research.google.com/notebooks/data_table.ipynb>data table notebook</a>'\n",
              "            + ' to learn more about interactive tables.';\n",
              "          element.innerHTML = '';\n",
              "          dataTable['output_type'] = 'display_data';\n",
              "          await google.colab.output.renderOutput(dataTable, element);\n",
              "          const docLink = document.createElement('div');\n",
              "          docLink.innerHTML = docLinkHtml;\n",
              "          element.appendChild(docLink);\n",
              "        }\n",
              "      </script>\n",
              "    </div>\n",
              "  </div>\n",
              "  "
            ]
          },
          "metadata": {},
          "execution_count": 5
        }
      ]
    },
    {
      "cell_type": "code",
      "source": [
        "colunas_renomeadas = {\n",
        "    'Ele':'0',\n",
        "    'Ela':'1'\n",
        "}\n",
        "\n",
        "historico.Pronome = historico.Pronome.map(colunas_renomeadas)"
      ],
      "metadata": {
        "id": "4Y8DhjtfJG0S"
      },
      "execution_count": 6,
      "outputs": []
    },
    {
      "cell_type": "code",
      "source": [
        "etapa_renomeado = {\n",
        "    'Distrato' : 0,\n",
        "    'Formado 2S c/ Cert' : 1\n",
        "}\n",
        "historico.Etapa = historico.Etapa.map(etapa_renomeado)"
      ],
      "metadata": {
        "id": "11bg-N_mKXgM"
      },
      "execution_count": 7,
      "outputs": []
    },
    {
      "cell_type": "markdown",
      "source": [
        "### Transformação de Estados em númerico"
      ],
      "metadata": {
        "id": "cF3sVERMNlFT"
      }
    },
    {
      "cell_type": "code",
      "source": [
        "!pip install Unidecode==1.3.6"
      ],
      "metadata": {
        "colab": {
          "base_uri": "https://localhost:8080/"
        },
        "id": "Vuhg0G4iT3Vm",
        "outputId": "8f48d0af-8fa6-441c-f40c-4fd3c9c68c8f"
      },
      "execution_count": 8,
      "outputs": [
        {
          "output_type": "stream",
          "name": "stdout",
          "text": [
            "Looking in indexes: https://pypi.org/simple, https://us-python.pkg.dev/colab-wheels/public/simple/\n",
            "Requirement already satisfied: Unidecode==1.3.6 in /usr/local/lib/python3.8/dist-packages (1.3.6)\n"
          ]
        }
      ]
    },
    {
      "cell_type": "code",
      "source": [
        "from sklearn.feature_extraction.text import CountVectorizer\n",
        "import re\n",
        "import unidecode"
      ],
      "metadata": {
        "id": "59StgMgONkAu"
      },
      "execution_count": 9,
      "outputs": []
    },
    {
      "cell_type": "code",
      "source": [
        "corpus = np.array(historico.Estado) #df para array\n",
        "list_palavras = corpus.tolist() #array para lista\n",
        "texto = \",\".join(list_palavras) #lista para texto\n",
        "\n",
        "string_nova = unidecode.unidecode(texto) #retira acentos das palavras\n",
        "new_list_palavras = string_nova.split(',') # retorna lista atualizada"
      ],
      "metadata": {
        "id": "oqht5qiYUMsw"
      },
      "execution_count": 10,
      "outputs": []
    },
    {
      "cell_type": "markdown",
      "source": [
        "*A idéia por trás do CountVectorizer é criar um vetor de contagem de termos para cada documento de texto. Isso é feito dividindo o texto em palavras (ou tokens) e contando a quantidade de vezes que cada palavra aparece em um documento. O resultado é uma matriz sparse (esparsa) com uma linha para cada documento e uma coluna para cada palavra (ou token) único no conjunto de dados. Cada entrada na matriz representa a contagem de ocorrências de uma palavra em um documento | CHAT GPT*"
      ],
      "metadata": {
        "id": "BJercm5jfOkT"
      }
    },
    {
      "cell_type": "code",
      "source": [
        "vectorizer = CountVectorizer()\n",
        "X = vectorizer.fit_transform(new_list_palavras)\n",
        "print(X.toarray())"
      ],
      "metadata": {
        "colab": {
          "base_uri": "https://localhost:8080/"
        },
        "id": "asGGEEFKQqOD",
        "outputId": "b751404c-0aef-4516-84a9-b4dbb7c3ffa1"
      },
      "execution_count": 11,
      "outputs": [
        {
          "output_type": "stream",
          "name": "stdout",
          "text": [
            "[[0 0 0 ... 0 0 0]\n",
            " [0 0 0 ... 0 0 0]\n",
            " [0 0 0 ... 0 0 0]\n",
            " ...\n",
            " [0 0 0 ... 0 0 0]\n",
            " [0 0 0 ... 0 0 0]\n",
            " [0 0 0 ... 0 0 0]]\n"
          ]
        }
      ]
    },
    {
      "cell_type": "code",
      "source": [
        "array_palavras = X.toarray() # matriz esparsa para array"
      ],
      "metadata": {
        "id": "2KHVQzbMX2Gf"
      },
      "execution_count": 12,
      "outputs": []
    },
    {
      "cell_type": "code",
      "source": [
        "new_df = pd.DataFrame(array_palavras, columns=['m_estado1',\t'm_estado2',\t'm_estado3',\t'm_estado4',\t'm_estado5', 'm_estado6',\t'm_estado7',\t'm_estado8',\t'm_estado9',\t'm_estado10',\n",
        "                                  'm_estado11',\t'm_estado12',\t'm_estado13',\t'm_estado14',\t'm_estado15', 'm_estado16',\t'm_estado17',\t'm_estado18',\t'm_estado19',\t'm_estado20',\n",
        "                                  'm_estado21',\t'm_estado22',\t'm_estado23',\t'm_estado24',\t'm_estado25', 'm_estado26',\t'm_estado27',\t'm_estado28',\t'm_estado29',\t'm_estado30',\n",
        "                                  'm_estado31',\t'm_estado32',\t'm_estado33'])\n",
        "new_df.head()"
      ],
      "metadata": {
        "colab": {
          "base_uri": "https://localhost:8080/",
          "height": 300
        },
        "id": "qh7699VpY2XA",
        "outputId": "57e9ccd6-8541-4ec9-baf2-b38d2e3b9388"
      },
      "execution_count": 13,
      "outputs": [
        {
          "output_type": "execute_result",
          "data": {
            "text/plain": [
              "   m_estado1  m_estado2  m_estado3  m_estado4  m_estado5  m_estado6  \\\n",
              "0          0          0          0          0          0          0   \n",
              "1          0          0          0          0          0          0   \n",
              "2          0          0          0          0          0          0   \n",
              "3          0          0          0          0          0          0   \n",
              "4          0          1          0          0          0          0   \n",
              "\n",
              "   m_estado7  m_estado8  m_estado9  m_estado10  ...  m_estado24  m_estado25  \\\n",
              "0          0          0          0           0  ...           0           0   \n",
              "1          0          0          0           0  ...           0           0   \n",
              "2          0          0          0           0  ...           0           0   \n",
              "3          0          0          0           0  ...           0           0   \n",
              "4          0          0          0           0  ...           0           0   \n",
              "\n",
              "   m_estado26  m_estado27  m_estado28  m_estado29  m_estado30  m_estado31  \\\n",
              "0           0           0           0           0           1           0   \n",
              "1           0           0           0           0           0           0   \n",
              "2           0           0           0           0           0           0   \n",
              "3           0           0           0           0           1           0   \n",
              "4           0           0           0           0           0           0   \n",
              "\n",
              "   m_estado32  m_estado33  \n",
              "0           0           0  \n",
              "1           0           0  \n",
              "2           0           0  \n",
              "3           0           0  \n",
              "4           0           0  \n",
              "\n",
              "[5 rows x 33 columns]"
            ],
            "text/html": [
              "\n",
              "  <div id=\"df-afeb0ac9-0d5b-4cf8-bb0c-9617c8835e8b\">\n",
              "    <div class=\"colab-df-container\">\n",
              "      <div>\n",
              "<style scoped>\n",
              "    .dataframe tbody tr th:only-of-type {\n",
              "        vertical-align: middle;\n",
              "    }\n",
              "\n",
              "    .dataframe tbody tr th {\n",
              "        vertical-align: top;\n",
              "    }\n",
              "\n",
              "    .dataframe thead th {\n",
              "        text-align: right;\n",
              "    }\n",
              "</style>\n",
              "<table border=\"1\" class=\"dataframe\">\n",
              "  <thead>\n",
              "    <tr style=\"text-align: right;\">\n",
              "      <th></th>\n",
              "      <th>m_estado1</th>\n",
              "      <th>m_estado2</th>\n",
              "      <th>m_estado3</th>\n",
              "      <th>m_estado4</th>\n",
              "      <th>m_estado5</th>\n",
              "      <th>m_estado6</th>\n",
              "      <th>m_estado7</th>\n",
              "      <th>m_estado8</th>\n",
              "      <th>m_estado9</th>\n",
              "      <th>m_estado10</th>\n",
              "      <th>...</th>\n",
              "      <th>m_estado24</th>\n",
              "      <th>m_estado25</th>\n",
              "      <th>m_estado26</th>\n",
              "      <th>m_estado27</th>\n",
              "      <th>m_estado28</th>\n",
              "      <th>m_estado29</th>\n",
              "      <th>m_estado30</th>\n",
              "      <th>m_estado31</th>\n",
              "      <th>m_estado32</th>\n",
              "      <th>m_estado33</th>\n",
              "    </tr>\n",
              "  </thead>\n",
              "  <tbody>\n",
              "    <tr>\n",
              "      <th>0</th>\n",
              "      <td>0</td>\n",
              "      <td>0</td>\n",
              "      <td>0</td>\n",
              "      <td>0</td>\n",
              "      <td>0</td>\n",
              "      <td>0</td>\n",
              "      <td>0</td>\n",
              "      <td>0</td>\n",
              "      <td>0</td>\n",
              "      <td>0</td>\n",
              "      <td>...</td>\n",
              "      <td>0</td>\n",
              "      <td>0</td>\n",
              "      <td>0</td>\n",
              "      <td>0</td>\n",
              "      <td>0</td>\n",
              "      <td>0</td>\n",
              "      <td>1</td>\n",
              "      <td>0</td>\n",
              "      <td>0</td>\n",
              "      <td>0</td>\n",
              "    </tr>\n",
              "    <tr>\n",
              "      <th>1</th>\n",
              "      <td>0</td>\n",
              "      <td>0</td>\n",
              "      <td>0</td>\n",
              "      <td>0</td>\n",
              "      <td>0</td>\n",
              "      <td>0</td>\n",
              "      <td>0</td>\n",
              "      <td>0</td>\n",
              "      <td>0</td>\n",
              "      <td>0</td>\n",
              "      <td>...</td>\n",
              "      <td>0</td>\n",
              "      <td>0</td>\n",
              "      <td>0</td>\n",
              "      <td>0</td>\n",
              "      <td>0</td>\n",
              "      <td>0</td>\n",
              "      <td>0</td>\n",
              "      <td>0</td>\n",
              "      <td>0</td>\n",
              "      <td>0</td>\n",
              "    </tr>\n",
              "    <tr>\n",
              "      <th>2</th>\n",
              "      <td>0</td>\n",
              "      <td>0</td>\n",
              "      <td>0</td>\n",
              "      <td>0</td>\n",
              "      <td>0</td>\n",
              "      <td>0</td>\n",
              "      <td>0</td>\n",
              "      <td>0</td>\n",
              "      <td>0</td>\n",
              "      <td>0</td>\n",
              "      <td>...</td>\n",
              "      <td>0</td>\n",
              "      <td>0</td>\n",
              "      <td>0</td>\n",
              "      <td>0</td>\n",
              "      <td>0</td>\n",
              "      <td>0</td>\n",
              "      <td>0</td>\n",
              "      <td>0</td>\n",
              "      <td>0</td>\n",
              "      <td>0</td>\n",
              "    </tr>\n",
              "    <tr>\n",
              "      <th>3</th>\n",
              "      <td>0</td>\n",
              "      <td>0</td>\n",
              "      <td>0</td>\n",
              "      <td>0</td>\n",
              "      <td>0</td>\n",
              "      <td>0</td>\n",
              "      <td>0</td>\n",
              "      <td>0</td>\n",
              "      <td>0</td>\n",
              "      <td>0</td>\n",
              "      <td>...</td>\n",
              "      <td>0</td>\n",
              "      <td>0</td>\n",
              "      <td>0</td>\n",
              "      <td>0</td>\n",
              "      <td>0</td>\n",
              "      <td>0</td>\n",
              "      <td>1</td>\n",
              "      <td>0</td>\n",
              "      <td>0</td>\n",
              "      <td>0</td>\n",
              "    </tr>\n",
              "    <tr>\n",
              "      <th>4</th>\n",
              "      <td>0</td>\n",
              "      <td>1</td>\n",
              "      <td>0</td>\n",
              "      <td>0</td>\n",
              "      <td>0</td>\n",
              "      <td>0</td>\n",
              "      <td>0</td>\n",
              "      <td>0</td>\n",
              "      <td>0</td>\n",
              "      <td>0</td>\n",
              "      <td>...</td>\n",
              "      <td>0</td>\n",
              "      <td>0</td>\n",
              "      <td>0</td>\n",
              "      <td>0</td>\n",
              "      <td>0</td>\n",
              "      <td>0</td>\n",
              "      <td>0</td>\n",
              "      <td>0</td>\n",
              "      <td>0</td>\n",
              "      <td>0</td>\n",
              "    </tr>\n",
              "  </tbody>\n",
              "</table>\n",
              "<p>5 rows × 33 columns</p>\n",
              "</div>\n",
              "      <button class=\"colab-df-convert\" onclick=\"convertToInteractive('df-afeb0ac9-0d5b-4cf8-bb0c-9617c8835e8b')\"\n",
              "              title=\"Convert this dataframe to an interactive table.\"\n",
              "              style=\"display:none;\">\n",
              "        \n",
              "  <svg xmlns=\"http://www.w3.org/2000/svg\" height=\"24px\"viewBox=\"0 0 24 24\"\n",
              "       width=\"24px\">\n",
              "    <path d=\"M0 0h24v24H0V0z\" fill=\"none\"/>\n",
              "    <path d=\"M18.56 5.44l.94 2.06.94-2.06 2.06-.94-2.06-.94-.94-2.06-.94 2.06-2.06.94zm-11 1L8.5 8.5l.94-2.06 2.06-.94-2.06-.94L8.5 2.5l-.94 2.06-2.06.94zm10 10l.94 2.06.94-2.06 2.06-.94-2.06-.94-.94-2.06-.94 2.06-2.06.94z\"/><path d=\"M17.41 7.96l-1.37-1.37c-.4-.4-.92-.59-1.43-.59-.52 0-1.04.2-1.43.59L10.3 9.45l-7.72 7.72c-.78.78-.78 2.05 0 2.83L4 21.41c.39.39.9.59 1.41.59.51 0 1.02-.2 1.41-.59l7.78-7.78 2.81-2.81c.8-.78.8-2.07 0-2.86zM5.41 20L4 18.59l7.72-7.72 1.47 1.35L5.41 20z\"/>\n",
              "  </svg>\n",
              "      </button>\n",
              "      \n",
              "  <style>\n",
              "    .colab-df-container {\n",
              "      display:flex;\n",
              "      flex-wrap:wrap;\n",
              "      gap: 12px;\n",
              "    }\n",
              "\n",
              "    .colab-df-convert {\n",
              "      background-color: #E8F0FE;\n",
              "      border: none;\n",
              "      border-radius: 50%;\n",
              "      cursor: pointer;\n",
              "      display: none;\n",
              "      fill: #1967D2;\n",
              "      height: 32px;\n",
              "      padding: 0 0 0 0;\n",
              "      width: 32px;\n",
              "    }\n",
              "\n",
              "    .colab-df-convert:hover {\n",
              "      background-color: #E2EBFA;\n",
              "      box-shadow: 0px 1px 2px rgba(60, 64, 67, 0.3), 0px 1px 3px 1px rgba(60, 64, 67, 0.15);\n",
              "      fill: #174EA6;\n",
              "    }\n",
              "\n",
              "    [theme=dark] .colab-df-convert {\n",
              "      background-color: #3B4455;\n",
              "      fill: #D2E3FC;\n",
              "    }\n",
              "\n",
              "    [theme=dark] .colab-df-convert:hover {\n",
              "      background-color: #434B5C;\n",
              "      box-shadow: 0px 1px 3px 1px rgba(0, 0, 0, 0.15);\n",
              "      filter: drop-shadow(0px 1px 2px rgba(0, 0, 0, 0.3));\n",
              "      fill: #FFFFFF;\n",
              "    }\n",
              "  </style>\n",
              "\n",
              "      <script>\n",
              "        const buttonEl =\n",
              "          document.querySelector('#df-afeb0ac9-0d5b-4cf8-bb0c-9617c8835e8b button.colab-df-convert');\n",
              "        buttonEl.style.display =\n",
              "          google.colab.kernel.accessAllowed ? 'block' : 'none';\n",
              "\n",
              "        async function convertToInteractive(key) {\n",
              "          const element = document.querySelector('#df-afeb0ac9-0d5b-4cf8-bb0c-9617c8835e8b');\n",
              "          const dataTable =\n",
              "            await google.colab.kernel.invokeFunction('convertToInteractive',\n",
              "                                                     [key], {});\n",
              "          if (!dataTable) return;\n",
              "\n",
              "          const docLinkHtml = 'Like what you see? Visit the ' +\n",
              "            '<a target=\"_blank\" href=https://colab.research.google.com/notebooks/data_table.ipynb>data table notebook</a>'\n",
              "            + ' to learn more about interactive tables.';\n",
              "          element.innerHTML = '';\n",
              "          dataTable['output_type'] = 'display_data';\n",
              "          await google.colab.output.renderOutput(dataTable, element);\n",
              "          const docLink = document.createElement('div');\n",
              "          docLink.innerHTML = docLinkHtml;\n",
              "          element.appendChild(docLink);\n",
              "        }\n",
              "      </script>\n",
              "    </div>\n",
              "  </div>\n",
              "  "
            ]
          },
          "metadata": {},
          "execution_count": 13
        }
      ]
    },
    {
      "cell_type": "markdown",
      "source": [
        "### Unificação dados transformados"
      ],
      "metadata": {
        "id": "t2oQyHSPbtcN"
      }
    },
    {
      "cell_type": "code",
      "source": [
        "dados_normalizados = pd.merge(historico , new_df, left_index=True, right_index=True)\n",
        "dados_normalizados.drop('Estado', axis=1, inplace=True)"
      ],
      "metadata": {
        "id": "srqqPlOhbyJZ"
      },
      "execution_count": 14,
      "outputs": []
    },
    {
      "cell_type": "code",
      "source": [
        "dados_normalizados.head()"
      ],
      "metadata": {
        "colab": {
          "base_uri": "https://localhost:8080/",
          "height": 317
        },
        "id": "Dz2shB32dpKv",
        "outputId": "1d156f86-77ae-4f8e-bfa8-715eb2bdde1c"
      },
      "execution_count": 15,
      "outputs": [
        {
          "output_type": "execute_result",
          "data": {
            "text/plain": [
              "   Etapa Pronome  Reprovacao  Trancamento  Modulo 1  Modulo 2  Modulo 3  \\\n",
              "0      1       1           1            0         8         9         6   \n",
              "1      1       0           3            1         9         8         7   \n",
              "2      1       0           2            0        10         9         9   \n",
              "3      1       0           0            0         7         9        10   \n",
              "4      1       1           1            0         9         7         7   \n",
              "\n",
              "   Modulo 4  Modulo 5  Modulo 6  ...  m_estado24  m_estado25  m_estado26  \\\n",
              "0         2         8         9  ...           0           0           0   \n",
              "1         7         9        10  ...           0           0           0   \n",
              "2         7         9        10  ...           0           0           0   \n",
              "3         8         8        10  ...           0           0           0   \n",
              "4        10         9         9  ...           0           0           0   \n",
              "\n",
              "   m_estado27  m_estado28  m_estado29  m_estado30  m_estado31  m_estado32  \\\n",
              "0           0           0           0           1           0           0   \n",
              "1           0           0           0           0           0           0   \n",
              "2           0           0           0           0           0           0   \n",
              "3           0           0           0           1           0           0   \n",
              "4           0           0           0           0           0           0   \n",
              "\n",
              "   m_estado33  \n",
              "0           0  \n",
              "1           0  \n",
              "2           0  \n",
              "3           0  \n",
              "4           0  \n",
              "\n",
              "[5 rows x 43 columns]"
            ],
            "text/html": [
              "\n",
              "  <div id=\"df-905f2886-9e6a-414f-be9a-3fab87c01ae6\">\n",
              "    <div class=\"colab-df-container\">\n",
              "      <div>\n",
              "<style scoped>\n",
              "    .dataframe tbody tr th:only-of-type {\n",
              "        vertical-align: middle;\n",
              "    }\n",
              "\n",
              "    .dataframe tbody tr th {\n",
              "        vertical-align: top;\n",
              "    }\n",
              "\n",
              "    .dataframe thead th {\n",
              "        text-align: right;\n",
              "    }\n",
              "</style>\n",
              "<table border=\"1\" class=\"dataframe\">\n",
              "  <thead>\n",
              "    <tr style=\"text-align: right;\">\n",
              "      <th></th>\n",
              "      <th>Etapa</th>\n",
              "      <th>Pronome</th>\n",
              "      <th>Reprovacao</th>\n",
              "      <th>Trancamento</th>\n",
              "      <th>Modulo 1</th>\n",
              "      <th>Modulo 2</th>\n",
              "      <th>Modulo 3</th>\n",
              "      <th>Modulo 4</th>\n",
              "      <th>Modulo 5</th>\n",
              "      <th>Modulo 6</th>\n",
              "      <th>...</th>\n",
              "      <th>m_estado24</th>\n",
              "      <th>m_estado25</th>\n",
              "      <th>m_estado26</th>\n",
              "      <th>m_estado27</th>\n",
              "      <th>m_estado28</th>\n",
              "      <th>m_estado29</th>\n",
              "      <th>m_estado30</th>\n",
              "      <th>m_estado31</th>\n",
              "      <th>m_estado32</th>\n",
              "      <th>m_estado33</th>\n",
              "    </tr>\n",
              "  </thead>\n",
              "  <tbody>\n",
              "    <tr>\n",
              "      <th>0</th>\n",
              "      <td>1</td>\n",
              "      <td>1</td>\n",
              "      <td>1</td>\n",
              "      <td>0</td>\n",
              "      <td>8</td>\n",
              "      <td>9</td>\n",
              "      <td>6</td>\n",
              "      <td>2</td>\n",
              "      <td>8</td>\n",
              "      <td>9</td>\n",
              "      <td>...</td>\n",
              "      <td>0</td>\n",
              "      <td>0</td>\n",
              "      <td>0</td>\n",
              "      <td>0</td>\n",
              "      <td>0</td>\n",
              "      <td>0</td>\n",
              "      <td>1</td>\n",
              "      <td>0</td>\n",
              "      <td>0</td>\n",
              "      <td>0</td>\n",
              "    </tr>\n",
              "    <tr>\n",
              "      <th>1</th>\n",
              "      <td>1</td>\n",
              "      <td>0</td>\n",
              "      <td>3</td>\n",
              "      <td>1</td>\n",
              "      <td>9</td>\n",
              "      <td>8</td>\n",
              "      <td>7</td>\n",
              "      <td>7</td>\n",
              "      <td>9</td>\n",
              "      <td>10</td>\n",
              "      <td>...</td>\n",
              "      <td>0</td>\n",
              "      <td>0</td>\n",
              "      <td>0</td>\n",
              "      <td>0</td>\n",
              "      <td>0</td>\n",
              "      <td>0</td>\n",
              "      <td>0</td>\n",
              "      <td>0</td>\n",
              "      <td>0</td>\n",
              "      <td>0</td>\n",
              "    </tr>\n",
              "    <tr>\n",
              "      <th>2</th>\n",
              "      <td>1</td>\n",
              "      <td>0</td>\n",
              "      <td>2</td>\n",
              "      <td>0</td>\n",
              "      <td>10</td>\n",
              "      <td>9</td>\n",
              "      <td>9</td>\n",
              "      <td>7</td>\n",
              "      <td>9</td>\n",
              "      <td>10</td>\n",
              "      <td>...</td>\n",
              "      <td>0</td>\n",
              "      <td>0</td>\n",
              "      <td>0</td>\n",
              "      <td>0</td>\n",
              "      <td>0</td>\n",
              "      <td>0</td>\n",
              "      <td>0</td>\n",
              "      <td>0</td>\n",
              "      <td>0</td>\n",
              "      <td>0</td>\n",
              "    </tr>\n",
              "    <tr>\n",
              "      <th>3</th>\n",
              "      <td>1</td>\n",
              "      <td>0</td>\n",
              "      <td>0</td>\n",
              "      <td>0</td>\n",
              "      <td>7</td>\n",
              "      <td>9</td>\n",
              "      <td>10</td>\n",
              "      <td>8</td>\n",
              "      <td>8</td>\n",
              "      <td>10</td>\n",
              "      <td>...</td>\n",
              "      <td>0</td>\n",
              "      <td>0</td>\n",
              "      <td>0</td>\n",
              "      <td>0</td>\n",
              "      <td>0</td>\n",
              "      <td>0</td>\n",
              "      <td>1</td>\n",
              "      <td>0</td>\n",
              "      <td>0</td>\n",
              "      <td>0</td>\n",
              "    </tr>\n",
              "    <tr>\n",
              "      <th>4</th>\n",
              "      <td>1</td>\n",
              "      <td>1</td>\n",
              "      <td>1</td>\n",
              "      <td>0</td>\n",
              "      <td>9</td>\n",
              "      <td>7</td>\n",
              "      <td>7</td>\n",
              "      <td>10</td>\n",
              "      <td>9</td>\n",
              "      <td>9</td>\n",
              "      <td>...</td>\n",
              "      <td>0</td>\n",
              "      <td>0</td>\n",
              "      <td>0</td>\n",
              "      <td>0</td>\n",
              "      <td>0</td>\n",
              "      <td>0</td>\n",
              "      <td>0</td>\n",
              "      <td>0</td>\n",
              "      <td>0</td>\n",
              "      <td>0</td>\n",
              "    </tr>\n",
              "  </tbody>\n",
              "</table>\n",
              "<p>5 rows × 43 columns</p>\n",
              "</div>\n",
              "      <button class=\"colab-df-convert\" onclick=\"convertToInteractive('df-905f2886-9e6a-414f-be9a-3fab87c01ae6')\"\n",
              "              title=\"Convert this dataframe to an interactive table.\"\n",
              "              style=\"display:none;\">\n",
              "        \n",
              "  <svg xmlns=\"http://www.w3.org/2000/svg\" height=\"24px\"viewBox=\"0 0 24 24\"\n",
              "       width=\"24px\">\n",
              "    <path d=\"M0 0h24v24H0V0z\" fill=\"none\"/>\n",
              "    <path d=\"M18.56 5.44l.94 2.06.94-2.06 2.06-.94-2.06-.94-.94-2.06-.94 2.06-2.06.94zm-11 1L8.5 8.5l.94-2.06 2.06-.94-2.06-.94L8.5 2.5l-.94 2.06-2.06.94zm10 10l.94 2.06.94-2.06 2.06-.94-2.06-.94-.94-2.06-.94 2.06-2.06.94z\"/><path d=\"M17.41 7.96l-1.37-1.37c-.4-.4-.92-.59-1.43-.59-.52 0-1.04.2-1.43.59L10.3 9.45l-7.72 7.72c-.78.78-.78 2.05 0 2.83L4 21.41c.39.39.9.59 1.41.59.51 0 1.02-.2 1.41-.59l7.78-7.78 2.81-2.81c.8-.78.8-2.07 0-2.86zM5.41 20L4 18.59l7.72-7.72 1.47 1.35L5.41 20z\"/>\n",
              "  </svg>\n",
              "      </button>\n",
              "      \n",
              "  <style>\n",
              "    .colab-df-container {\n",
              "      display:flex;\n",
              "      flex-wrap:wrap;\n",
              "      gap: 12px;\n",
              "    }\n",
              "\n",
              "    .colab-df-convert {\n",
              "      background-color: #E8F0FE;\n",
              "      border: none;\n",
              "      border-radius: 50%;\n",
              "      cursor: pointer;\n",
              "      display: none;\n",
              "      fill: #1967D2;\n",
              "      height: 32px;\n",
              "      padding: 0 0 0 0;\n",
              "      width: 32px;\n",
              "    }\n",
              "\n",
              "    .colab-df-convert:hover {\n",
              "      background-color: #E2EBFA;\n",
              "      box-shadow: 0px 1px 2px rgba(60, 64, 67, 0.3), 0px 1px 3px 1px rgba(60, 64, 67, 0.15);\n",
              "      fill: #174EA6;\n",
              "    }\n",
              "\n",
              "    [theme=dark] .colab-df-convert {\n",
              "      background-color: #3B4455;\n",
              "      fill: #D2E3FC;\n",
              "    }\n",
              "\n",
              "    [theme=dark] .colab-df-convert:hover {\n",
              "      background-color: #434B5C;\n",
              "      box-shadow: 0px 1px 3px 1px rgba(0, 0, 0, 0.15);\n",
              "      filter: drop-shadow(0px 1px 2px rgba(0, 0, 0, 0.3));\n",
              "      fill: #FFFFFF;\n",
              "    }\n",
              "  </style>\n",
              "\n",
              "      <script>\n",
              "        const buttonEl =\n",
              "          document.querySelector('#df-905f2886-9e6a-414f-be9a-3fab87c01ae6 button.colab-df-convert');\n",
              "        buttonEl.style.display =\n",
              "          google.colab.kernel.accessAllowed ? 'block' : 'none';\n",
              "\n",
              "        async function convertToInteractive(key) {\n",
              "          const element = document.querySelector('#df-905f2886-9e6a-414f-be9a-3fab87c01ae6');\n",
              "          const dataTable =\n",
              "            await google.colab.kernel.invokeFunction('convertToInteractive',\n",
              "                                                     [key], {});\n",
              "          if (!dataTable) return;\n",
              "\n",
              "          const docLinkHtml = 'Like what you see? Visit the ' +\n",
              "            '<a target=\"_blank\" href=https://colab.research.google.com/notebooks/data_table.ipynb>data table notebook</a>'\n",
              "            + ' to learn more about interactive tables.';\n",
              "          element.innerHTML = '';\n",
              "          dataTable['output_type'] = 'display_data';\n",
              "          await google.colab.output.renderOutput(dataTable, element);\n",
              "          const docLink = document.createElement('div');\n",
              "          docLink.innerHTML = docLinkHtml;\n",
              "          element.appendChild(docLink);\n",
              "        }\n",
              "      </script>\n",
              "    </div>\n",
              "  </div>\n",
              "  "
            ]
          },
          "metadata": {},
          "execution_count": 15
        }
      ]
    },
    {
      "cell_type": "markdown",
      "source": [
        "## Modelagem"
      ],
      "metadata": {
        "id": "m-JUTfhsJYyL"
      }
    },
    {
      "cell_type": "code",
      "source": [
        "X = dados_normalizados.drop('Etapa', axis=1)\n",
        "y = dados_normalizados['Etapa']"
      ],
      "metadata": {
        "id": "KiMo6qQcJeGd"
      },
      "execution_count": 16,
      "outputs": []
    },
    {
      "cell_type": "markdown",
      "source": [
        "### LinearSVC"
      ],
      "metadata": {
        "id": "O2JETkoINRhD"
      }
    },
    {
      "cell_type": "code",
      "source": [
        "SEED = 27\n",
        "np.random.seed(SEED)"
      ],
      "metadata": {
        "id": "ueN1Y_07Nbhq"
      },
      "execution_count": 17,
      "outputs": []
    },
    {
      "cell_type": "code",
      "source": [
        "modelo = LinearSVC(random_state=SEED)"
      ],
      "metadata": {
        "id": "2xH75I5CNczh"
      },
      "execution_count": 18,
      "outputs": []
    },
    {
      "cell_type": "code",
      "source": [
        "X_train, X_test, y_train, y_test = train_test_split( X, y, test_size=0.30, random_state=SEED, stratify= y )\n",
        "\n",
        "print('Treinaremos com %d elementos e testaremos com %d elementos' % (len(X_train), len(X_test)))\n",
        "\n",
        "modelo.fit(X_train, y_train)\n",
        "previsao = modelo.predict(X_test)\n",
        "\n",
        "acuracia = accuracy_score(y_test, previsao) * 100\n",
        "\n",
        "print( 'A acurácia do modelo foi de %.2f%%' % acuracia )"
      ],
      "metadata": {
        "colab": {
          "base_uri": "https://localhost:8080/"
        },
        "id": "Qup7dP7pNVZs",
        "outputId": "bad4c2ca-e523-48a8-da0e-22ad87bed086"
      },
      "execution_count": 19,
      "outputs": [
        {
          "output_type": "stream",
          "name": "stdout",
          "text": [
            "Treinaremos com 165 elementos e testaremos com 71 elementos\n",
            "A acurácia do modelo foi de 78.87%\n"
          ]
        },
        {
          "output_type": "stream",
          "name": "stderr",
          "text": [
            "/usr/local/lib/python3.8/dist-packages/sklearn/svm/_base.py:1206: ConvergenceWarning: Liblinear failed to converge, increase the number of iterations.\n",
            "  warnings.warn(\n"
          ]
        }
      ]
    },
    {
      "cell_type": "markdown",
      "source": [
        "**Proporção equivalente na separação dos dados de traino e teste**"
      ],
      "metadata": {
        "id": "xOYYIK97PHOp"
      }
    },
    {
      "cell_type": "code",
      "source": [
        "y_train.value_counts()"
      ],
      "metadata": {
        "colab": {
          "base_uri": "https://localhost:8080/"
        },
        "id": "oSEvUeN9OGw6",
        "outputId": "8ce05724-5caa-4635-b233-f33c2825beaa"
      },
      "execution_count": 20,
      "outputs": [
        {
          "output_type": "execute_result",
          "data": {
            "text/plain": [
              "0    103\n",
              "1     62\n",
              "Name: Etapa, dtype: int64"
            ]
          },
          "metadata": {},
          "execution_count": 20
        }
      ]
    },
    {
      "cell_type": "code",
      "source": [
        "y_test.value_counts()"
      ],
      "metadata": {
        "colab": {
          "base_uri": "https://localhost:8080/"
        },
        "id": "39fsEVDYO9Cp",
        "outputId": "9b1bf7f8-0739-4437-9605-823ac0428349"
      },
      "execution_count": 21,
      "outputs": [
        {
          "output_type": "execute_result",
          "data": {
            "text/plain": [
              "0    44\n",
              "1    27\n",
              "Name: Etapa, dtype: int64"
            ]
          },
          "metadata": {},
          "execution_count": 21
        }
      ]
    },
    {
      "cell_type": "markdown",
      "source": [
        "### SVC"
      ],
      "metadata": {
        "id": "-kYbsY5SMDYA"
      }
    },
    {
      "cell_type": "code",
      "source": [
        "SEED = 31\n",
        "np.random.seed(SEED)"
      ],
      "metadata": {
        "id": "NZGCoWBIKSzC"
      },
      "execution_count": 22,
      "outputs": []
    },
    {
      "cell_type": "code",
      "source": [
        "modelo_svc = SVC(gamma='auto')"
      ],
      "metadata": {
        "id": "XYs0MHadLCSd"
      },
      "execution_count": 23,
      "outputs": []
    },
    {
      "cell_type": "code",
      "source": [
        "X_train, X_test, y_train, y_test = train_test_split( X, y, test_size=0.30, random_state=SEED, stratify= y )\n",
        "\n",
        "print('Treinaremos com %d elementos e testaremos com %d elementos' % (len(X_train), len(X_test)))\n",
        "\n",
        "modelo_svc.fit(X_train, y_train)\n",
        "previsao = modelo_svc.predict(X_test)\n",
        "\n",
        "acuracia = accuracy_score(y_test, previsao) * 100\n",
        "\n",
        "print( 'A acurácia do modelo foi de %.2f%%' % acuracia )"
      ],
      "metadata": {
        "colab": {
          "base_uri": "https://localhost:8080/"
        },
        "id": "kfu-XUvRJyJc",
        "outputId": "48276261-bc56-43ef-88f4-16bf20cbe950"
      },
      "execution_count": 24,
      "outputs": [
        {
          "output_type": "stream",
          "name": "stdout",
          "text": [
            "Treinaremos com 165 elementos e testaremos com 71 elementos\n",
            "A acurácia do modelo foi de 71.83%\n"
          ]
        }
      ]
    },
    {
      "cell_type": "markdown",
      "source": [
        "### SVC - StandardScaler"
      ],
      "metadata": {
        "id": "TaABwZnmMF0L"
      }
    },
    {
      "cell_type": "code",
      "source": [
        "scaler = StandardScaler()\n",
        "scaler.fit(X_train)\n",
        "\n",
        "X_train_new = scaler.transform(X_train)\n",
        "X_test_new = scaler.transform(X_test)\n",
        "\n",
        "\n",
        "modelo_svc.fit(X_train_new, y_train)\n",
        "previsao = modelo_svc.predict(X_test_new)\n",
        "\n",
        "acuracia = accuracy_score(y_test, previsao) * 100\n",
        "\n",
        "print( 'A acurácia do modelo foi de %.2f%%' % acuracia )"
      ],
      "metadata": {
        "colab": {
          "base_uri": "https://localhost:8080/"
        },
        "id": "F0OKVzAbMQRq",
        "outputId": "3e74610e-7d0a-45e4-d1a0-7c16b03ef759"
      },
      "execution_count": 25,
      "outputs": [
        {
          "output_type": "stream",
          "name": "stdout",
          "text": [
            "A acurácia do modelo foi de 78.87%\n"
          ]
        }
      ]
    },
    {
      "cell_type": "markdown",
      "source": [
        "### Arvore de Decisão"
      ],
      "metadata": {
        "id": "3JqvM0OWNvt6"
      }
    },
    {
      "cell_type": "code",
      "source": [
        "SEED = 41\n",
        "np.random.seed(SEED)"
      ],
      "metadata": {
        "id": "27X6_xpuN07Z"
      },
      "execution_count": 44,
      "outputs": []
    },
    {
      "cell_type": "code",
      "source": [
        "modelo_tree = DecisionTreeClassifier(random_state=SEED, max_depth=4)"
      ],
      "metadata": {
        "id": "UdjP71b1N0t5"
      },
      "execution_count": 45,
      "outputs": []
    },
    {
      "cell_type": "code",
      "source": [
        "X_train, X_test, y_train, y_test = train_test_split( X, y, test_size=0.30, random_state=SEED, stratify= y )\n",
        "\n",
        "print('Treinaremos com %d elementos e testaremos com %d elementos' % (len(X_train), len(X_test)))\n",
        "\n",
        "modelo_tree.fit(X_train, y_train)\n",
        "previsao = modelo_tree.predict(X_test)\n",
        "\n",
        "acuracia = accuracy_score(y_test, previsao) * 100\n",
        "\n",
        "print( 'A acurácia do modelo foi de %.2f%%' % acuracia )"
      ],
      "metadata": {
        "colab": {
          "base_uri": "https://localhost:8080/"
        },
        "id": "RcFca9KvNz4b",
        "outputId": "6386d786-b08d-4f10-c9d3-804f3abc00bf"
      },
      "execution_count": 46,
      "outputs": [
        {
          "output_type": "stream",
          "name": "stdout",
          "text": [
            "Treinaremos com 165 elementos e testaremos com 71 elementos\n",
            "A acurácia do modelo foi de 81.69%\n"
          ]
        }
      ]
    },
    {
      "cell_type": "markdown",
      "source": [
        "### Baseline Dummy"
      ],
      "metadata": {
        "id": "o3kukMP4QTnJ"
      }
    },
    {
      "cell_type": "markdown",
      "source": [
        "O Dummy Classifier é um modelo simples que não tem capacidade de aprendizado, mas fornece uma previsão aleatória baseada nas proporções das classes do conjunto de dados de treinamento.\n",
        "\n",
        "Ao utilizar o Dummy Classifier como baseline, é possível avaliar se outros modelos de classificação estão realmente aprendendo a discriminar entre as classes e não apenas prevendo a classe mais frequente. Se o desempenho de outro modelo é significativamente melhor que o do Dummy Classifier, isso sugere que ele está aprendendo alguma estrutura real nos dados e é, portanto, um modelo promissor.\n",
        "\n",
        "Em resumo, a validação de baseline com Dummy Classifier é uma técnica valiosa para avaliar a eficiência de modelos de classificação, pois fornece uma referência para avaliar se os modelos estão realmente aprendendo a discriminar entre as classes ou se eles estão apenas fornecendo previsões aleatórias | ChatGPT"
      ],
      "metadata": {
        "id": "gYzSL5EGSQY5"
      }
    },
    {
      "cell_type": "code",
      "source": [
        "dummy = DummyClassifier()\n",
        "dummy.fit( X_train, y_train )\n",
        "acucaria = dummy.score( X_test, y_test )\n",
        "\n",
        "print(\"A acurácia foi %.2f%%\" % acuracia)"
      ],
      "metadata": {
        "colab": {
          "base_uri": "https://localhost:8080/"
        },
        "id": "SOIfUWGyQjH0",
        "outputId": "0ab96324-b26a-43e0-e5dd-67178830dc4f"
      },
      "execution_count": 49,
      "outputs": [
        {
          "output_type": "stream",
          "name": "stdout",
          "text": [
            "A acurácia foi 81.69%\n"
          ]
        }
      ]
    },
    {
      "cell_type": "code",
      "source": [
        "chute_formados = np.ones(71)\n",
        "\n",
        "acuracia = accuracy_score(y_test, chute_formados) * 100\n",
        "\n",
        "print( 'A acurácia do modelo foi de %.2f%%' % acuracia )"
      ],
      "metadata": {
        "colab": {
          "base_uri": "https://localhost:8080/"
        },
        "id": "lSQON7_PQ9Jx",
        "outputId": "bb30e580-b0df-4ac7-aea2-272bf9bdfb61"
      },
      "execution_count": 50,
      "outputs": [
        {
          "output_type": "stream",
          "name": "stdout",
          "text": [
            "A acurácia do modelo foi de 38.03%\n"
          ]
        }
      ]
    },
    {
      "cell_type": "markdown",
      "source": [
        "### Visualização Decision Tree e comentários"
      ],
      "metadata": {
        "id": "PQ3X7euRScc8"
      }
    },
    {
      "cell_type": "code",
      "source": [
        "features = X.columns                                              # utiliza as colunas como referência\n",
        "formato_graph = export_graphviz(modelo_tree, out_file=None,       # extrai o formato bruto do gráfico que será lido pelo graphviz\n",
        "                       filled = True, rounded= True,               # filled == Preencher\n",
        "                       feature_names = features,                \n",
        "                       class_names = ['Distrato', 'Formado'])     # atualiza nome da classificação na arvore\n",
        "grafico = graphviz.Source(formato_graph)                          # após a configuração plota o gráfico\n",
        "grafico"
      ],
      "metadata": {
        "colab": {
          "base_uri": "https://localhost:8080/",
          "height": 757
        },
        "id": "Nu9ZBDX4TL3y",
        "outputId": "24d4c83d-e1f4-4eaf-bd80-3189b97a62a4"
      },
      "execution_count": 31,
      "outputs": [
        {
          "output_type": "execute_result",
          "data": {
            "text/plain": [
              "<graphviz.files.Source at 0x7fa1a6fedd00>"
            ],
            "image/svg+xml": "<?xml version=\"1.0\" encoding=\"UTF-8\" standalone=\"no\"?>\n<!DOCTYPE svg PUBLIC \"-//W3C//DTD SVG 1.1//EN\"\n \"http://www.w3.org/Graphics/SVG/1.1/DTD/svg11.dtd\">\n<!-- Generated by graphviz version 2.43.0 (0)\n -->\n<!-- Title: Tree Pages: 1 -->\n<svg width=\"659pt\" height=\"552pt\"\n viewBox=\"0.00 0.00 659.00 552.00\" xmlns=\"http://www.w3.org/2000/svg\" xmlns:xlink=\"http://www.w3.org/1999/xlink\">\n<g id=\"graph0\" class=\"graph\" transform=\"scale(1 1) rotate(0) translate(4 548)\">\n<title>Tree</title>\n<polygon fill=\"white\" stroke=\"transparent\" points=\"-4,4 -4,-548 655,-548 655,4 -4,4\"/>\n<!-- 0 -->\n<g id=\"node1\" class=\"node\">\n<title>0</title>\n<path fill=\"#f5cdb0\" stroke=\"black\" d=\"M239.5,-544C239.5,-544 146.5,-544 146.5,-544 140.5,-544 134.5,-538 134.5,-532 134.5,-532 134.5,-473 134.5,-473 134.5,-467 140.5,-461 146.5,-461 146.5,-461 239.5,-461 239.5,-461 245.5,-461 251.5,-467 251.5,-473 251.5,-473 251.5,-532 251.5,-532 251.5,-538 245.5,-544 239.5,-544\"/>\n<text text-anchor=\"middle\" x=\"193\" y=\"-528.8\" font-family=\"Helvetica,sans-Serif\" font-size=\"14.00\">Modulo 1 &lt;= 1.5</text>\n<text text-anchor=\"middle\" x=\"193\" y=\"-513.8\" font-family=\"Helvetica,sans-Serif\" font-size=\"14.00\">gini = 0.469</text>\n<text text-anchor=\"middle\" x=\"193\" y=\"-498.8\" font-family=\"Helvetica,sans-Serif\" font-size=\"14.00\">samples = 165</text>\n<text text-anchor=\"middle\" x=\"193\" y=\"-483.8\" font-family=\"Helvetica,sans-Serif\" font-size=\"14.00\">value = [103, 62]</text>\n<text text-anchor=\"middle\" x=\"193\" y=\"-468.8\" font-family=\"Helvetica,sans-Serif\" font-size=\"14.00\">class = Distrato</text>\n</g>\n<!-- 1 -->\n<g id=\"node2\" class=\"node\">\n<title>1</title>\n<path fill=\"#e58139\" stroke=\"black\" d=\"M170,-417.5C170,-417.5 84,-417.5 84,-417.5 78,-417.5 72,-411.5 72,-405.5 72,-405.5 72,-361.5 72,-361.5 72,-355.5 78,-349.5 84,-349.5 84,-349.5 170,-349.5 170,-349.5 176,-349.5 182,-355.5 182,-361.5 182,-361.5 182,-405.5 182,-405.5 182,-411.5 176,-417.5 170,-417.5\"/>\n<text text-anchor=\"middle\" x=\"127\" y=\"-402.3\" font-family=\"Helvetica,sans-Serif\" font-size=\"14.00\">gini = 0.0</text>\n<text text-anchor=\"middle\" x=\"127\" y=\"-387.3\" font-family=\"Helvetica,sans-Serif\" font-size=\"14.00\">samples = 44</text>\n<text text-anchor=\"middle\" x=\"127\" y=\"-372.3\" font-family=\"Helvetica,sans-Serif\" font-size=\"14.00\">value = [44, 0]</text>\n<text text-anchor=\"middle\" x=\"127\" y=\"-357.3\" font-family=\"Helvetica,sans-Serif\" font-size=\"14.00\">class = Distrato</text>\n</g>\n<!-- 0&#45;&gt;1 -->\n<g id=\"edge1\" class=\"edge\">\n<title>0&#45;&gt;1</title>\n<path fill=\"none\" stroke=\"black\" d=\"M170.1,-460.91C163.81,-449.76 156.99,-437.66 150.66,-426.44\"/>\n<polygon fill=\"black\" stroke=\"black\" points=\"153.67,-424.66 145.71,-417.67 147.57,-428.1 153.67,-424.66\"/>\n<text text-anchor=\"middle\" x=\"139\" y=\"-438.05\" font-family=\"Helvetica,sans-Serif\" font-size=\"14.00\">True</text>\n</g>\n<!-- 2 -->\n<g id=\"node3\" class=\"node\">\n<title>2</title>\n<path fill=\"#f5fafe\" stroke=\"black\" d=\"M306,-425C306,-425 212,-425 212,-425 206,-425 200,-419 200,-413 200,-413 200,-354 200,-354 200,-348 206,-342 212,-342 212,-342 306,-342 306,-342 312,-342 318,-348 318,-354 318,-354 318,-413 318,-413 318,-419 312,-425 306,-425\"/>\n<text text-anchor=\"middle\" x=\"259\" y=\"-409.8\" font-family=\"Helvetica,sans-Serif\" font-size=\"14.00\">Modulo 2 &lt;= 3.5</text>\n<text text-anchor=\"middle\" x=\"259\" y=\"-394.8\" font-family=\"Helvetica,sans-Serif\" font-size=\"14.00\">gini = 0.5</text>\n<text text-anchor=\"middle\" x=\"259\" y=\"-379.8\" font-family=\"Helvetica,sans-Serif\" font-size=\"14.00\">samples = 121</text>\n<text text-anchor=\"middle\" x=\"259\" y=\"-364.8\" font-family=\"Helvetica,sans-Serif\" font-size=\"14.00\">value = [59, 62]</text>\n<text text-anchor=\"middle\" x=\"259\" y=\"-349.8\" font-family=\"Helvetica,sans-Serif\" font-size=\"14.00\">class = Formado</text>\n</g>\n<!-- 0&#45;&gt;2 -->\n<g id=\"edge2\" class=\"edge\">\n<title>0&#45;&gt;2</title>\n<path fill=\"none\" stroke=\"black\" d=\"M215.9,-460.91C220.81,-452.2 226.06,-442.9 231.14,-433.89\"/>\n<polygon fill=\"black\" stroke=\"black\" points=\"234.28,-435.45 236.14,-425.02 228.18,-432.01 234.28,-435.45\"/>\n<text text-anchor=\"middle\" x=\"242.85\" y=\"-445.4\" font-family=\"Helvetica,sans-Serif\" font-size=\"14.00\">False</text>\n</g>\n<!-- 3 -->\n<g id=\"node4\" class=\"node\">\n<title>3</title>\n<path fill=\"#e68640\" stroke=\"black\" d=\"M234,-306C234,-306 142,-306 142,-306 136,-306 130,-300 130,-294 130,-294 130,-235 130,-235 130,-229 136,-223 142,-223 142,-223 234,-223 234,-223 240,-223 246,-229 246,-235 246,-235 246,-294 246,-294 246,-300 240,-306 234,-306\"/>\n<text text-anchor=\"middle\" x=\"188\" y=\"-290.8\" font-family=\"Helvetica,sans-Serif\" font-size=\"14.00\">Modulo 5 &lt;= 3.5</text>\n<text text-anchor=\"middle\" x=\"188\" y=\"-275.8\" font-family=\"Helvetica,sans-Serif\" font-size=\"14.00\">gini = 0.067</text>\n<text text-anchor=\"middle\" x=\"188\" y=\"-260.8\" font-family=\"Helvetica,sans-Serif\" font-size=\"14.00\">samples = 29</text>\n<text text-anchor=\"middle\" x=\"188\" y=\"-245.8\" font-family=\"Helvetica,sans-Serif\" font-size=\"14.00\">value = [28, 1]</text>\n<text text-anchor=\"middle\" x=\"188\" y=\"-230.8\" font-family=\"Helvetica,sans-Serif\" font-size=\"14.00\">class = Distrato</text>\n</g>\n<!-- 2&#45;&gt;3 -->\n<g id=\"edge3\" class=\"edge\">\n<title>2&#45;&gt;3</title>\n<path fill=\"none\" stroke=\"black\" d=\"M234.37,-341.91C229.03,-333.1 223.32,-323.7 217.8,-314.61\"/>\n<polygon fill=\"black\" stroke=\"black\" points=\"220.77,-312.75 212.59,-306.02 214.79,-316.39 220.77,-312.75\"/>\n</g>\n<!-- 6 -->\n<g id=\"node7\" class=\"node\">\n<title>6</title>\n<path fill=\"#9ecff2\" stroke=\"black\" d=\"M384,-306C384,-306 276,-306 276,-306 270,-306 264,-300 264,-294 264,-294 264,-235 264,-235 264,-229 270,-223 276,-223 276,-223 384,-223 384,-223 390,-223 396,-229 396,-235 396,-235 396,-294 396,-294 396,-300 390,-306 384,-306\"/>\n<text text-anchor=\"middle\" x=\"330\" y=\"-290.8\" font-family=\"Helvetica,sans-Serif\" font-size=\"14.00\">Reprovacao &lt;= 0.5</text>\n<text text-anchor=\"middle\" x=\"330\" y=\"-275.8\" font-family=\"Helvetica,sans-Serif\" font-size=\"14.00\">gini = 0.447</text>\n<text text-anchor=\"middle\" x=\"330\" y=\"-260.8\" font-family=\"Helvetica,sans-Serif\" font-size=\"14.00\">samples = 92</text>\n<text text-anchor=\"middle\" x=\"330\" y=\"-245.8\" font-family=\"Helvetica,sans-Serif\" font-size=\"14.00\">value = [31, 61]</text>\n<text text-anchor=\"middle\" x=\"330\" y=\"-230.8\" font-family=\"Helvetica,sans-Serif\" font-size=\"14.00\">class = Formado</text>\n</g>\n<!-- 2&#45;&gt;6 -->\n<g id=\"edge6\" class=\"edge\">\n<title>2&#45;&gt;6</title>\n<path fill=\"none\" stroke=\"black\" d=\"M283.63,-341.91C288.97,-333.1 294.68,-323.7 300.2,-314.61\"/>\n<polygon fill=\"black\" stroke=\"black\" points=\"303.21,-316.39 305.41,-306.02 297.23,-312.75 303.21,-316.39\"/>\n</g>\n<!-- 4 -->\n<g id=\"node5\" class=\"node\">\n<title>4</title>\n<path fill=\"#399de5\" stroke=\"black\" d=\"M106,-179.5C106,-179.5 12,-179.5 12,-179.5 6,-179.5 0,-173.5 0,-167.5 0,-167.5 0,-123.5 0,-123.5 0,-117.5 6,-111.5 12,-111.5 12,-111.5 106,-111.5 106,-111.5 112,-111.5 118,-117.5 118,-123.5 118,-123.5 118,-167.5 118,-167.5 118,-173.5 112,-179.5 106,-179.5\"/>\n<text text-anchor=\"middle\" x=\"59\" y=\"-164.3\" font-family=\"Helvetica,sans-Serif\" font-size=\"14.00\">gini = 0.0</text>\n<text text-anchor=\"middle\" x=\"59\" y=\"-149.3\" font-family=\"Helvetica,sans-Serif\" font-size=\"14.00\">samples = 1</text>\n<text text-anchor=\"middle\" x=\"59\" y=\"-134.3\" font-family=\"Helvetica,sans-Serif\" font-size=\"14.00\">value = [0, 1]</text>\n<text text-anchor=\"middle\" x=\"59\" y=\"-119.3\" font-family=\"Helvetica,sans-Serif\" font-size=\"14.00\">class = Formado</text>\n</g>\n<!-- 3&#45;&gt;4 -->\n<g id=\"edge4\" class=\"edge\">\n<title>3&#45;&gt;4</title>\n<path fill=\"none\" stroke=\"black\" d=\"M143.24,-222.91C130.23,-211.1 116.02,-198.22 103.05,-186.45\"/>\n<polygon fill=\"black\" stroke=\"black\" points=\"105.33,-183.79 95.57,-179.67 100.62,-188.98 105.33,-183.79\"/>\n</g>\n<!-- 5 -->\n<g id=\"node6\" class=\"node\">\n<title>5</title>\n<path fill=\"#e58139\" stroke=\"black\" d=\"M234,-179.5C234,-179.5 148,-179.5 148,-179.5 142,-179.5 136,-173.5 136,-167.5 136,-167.5 136,-123.5 136,-123.5 136,-117.5 142,-111.5 148,-111.5 148,-111.5 234,-111.5 234,-111.5 240,-111.5 246,-117.5 246,-123.5 246,-123.5 246,-167.5 246,-167.5 246,-173.5 240,-179.5 234,-179.5\"/>\n<text text-anchor=\"middle\" x=\"191\" y=\"-164.3\" font-family=\"Helvetica,sans-Serif\" font-size=\"14.00\">gini = 0.0</text>\n<text text-anchor=\"middle\" x=\"191\" y=\"-149.3\" font-family=\"Helvetica,sans-Serif\" font-size=\"14.00\">samples = 28</text>\n<text text-anchor=\"middle\" x=\"191\" y=\"-134.3\" font-family=\"Helvetica,sans-Serif\" font-size=\"14.00\">value = [28, 0]</text>\n<text text-anchor=\"middle\" x=\"191\" y=\"-119.3\" font-family=\"Helvetica,sans-Serif\" font-size=\"14.00\">class = Distrato</text>\n</g>\n<!-- 3&#45;&gt;5 -->\n<g id=\"edge5\" class=\"edge\">\n<title>3&#45;&gt;5</title>\n<path fill=\"none\" stroke=\"black\" d=\"M189.04,-222.91C189.32,-212.2 189.61,-200.62 189.89,-189.78\"/>\n<polygon fill=\"black\" stroke=\"black\" points=\"193.39,-189.75 190.15,-179.67 186.39,-189.57 193.39,-189.75\"/>\n</g>\n<!-- 7 -->\n<g id=\"node8\" class=\"node\">\n<title>7</title>\n<path fill=\"#77bced\" stroke=\"black\" d=\"M375,-187C375,-187 281,-187 281,-187 275,-187 269,-181 269,-175 269,-175 269,-116 269,-116 269,-110 275,-104 281,-104 281,-104 375,-104 375,-104 381,-104 387,-110 387,-116 387,-116 387,-175 387,-175 387,-181 381,-187 375,-187\"/>\n<text text-anchor=\"middle\" x=\"328\" y=\"-171.8\" font-family=\"Helvetica,sans-Serif\" font-size=\"14.00\">Modulo 4 &lt;= 5.5</text>\n<text text-anchor=\"middle\" x=\"328\" y=\"-156.8\" font-family=\"Helvetica,sans-Serif\" font-size=\"14.00\">gini = 0.364</text>\n<text text-anchor=\"middle\" x=\"328\" y=\"-141.8\" font-family=\"Helvetica,sans-Serif\" font-size=\"14.00\">samples = 67</text>\n<text text-anchor=\"middle\" x=\"328\" y=\"-126.8\" font-family=\"Helvetica,sans-Serif\" font-size=\"14.00\">value = [16, 51]</text>\n<text text-anchor=\"middle\" x=\"328\" y=\"-111.8\" font-family=\"Helvetica,sans-Serif\" font-size=\"14.00\">class = Formado</text>\n</g>\n<!-- 6&#45;&gt;7 -->\n<g id=\"edge7\" class=\"edge\">\n<title>6&#45;&gt;7</title>\n<path fill=\"none\" stroke=\"black\" d=\"M329.31,-222.91C329.16,-214.56 329.01,-205.67 328.86,-197.02\"/>\n<polygon fill=\"black\" stroke=\"black\" points=\"332.36,-196.96 328.69,-187.02 325.36,-197.08 332.36,-196.96\"/>\n</g>\n<!-- 10 -->\n<g id=\"node11\" class=\"node\">\n<title>10</title>\n<path fill=\"#f6d5bd\" stroke=\"black\" d=\"M510,-187C510,-187 418,-187 418,-187 412,-187 406,-181 406,-175 406,-175 406,-116 406,-116 406,-110 412,-104 418,-104 418,-104 510,-104 510,-104 516,-104 522,-110 522,-116 522,-116 522,-175 522,-175 522,-181 516,-187 510,-187\"/>\n<text text-anchor=\"middle\" x=\"464\" y=\"-171.8\" font-family=\"Helvetica,sans-Serif\" font-size=\"14.00\">Modulo 2 &lt;= 9.5</text>\n<text text-anchor=\"middle\" x=\"464\" y=\"-156.8\" font-family=\"Helvetica,sans-Serif\" font-size=\"14.00\">gini = 0.48</text>\n<text text-anchor=\"middle\" x=\"464\" y=\"-141.8\" font-family=\"Helvetica,sans-Serif\" font-size=\"14.00\">samples = 25</text>\n<text text-anchor=\"middle\" x=\"464\" y=\"-126.8\" font-family=\"Helvetica,sans-Serif\" font-size=\"14.00\">value = [15, 10]</text>\n<text text-anchor=\"middle\" x=\"464\" y=\"-111.8\" font-family=\"Helvetica,sans-Serif\" font-size=\"14.00\">class = Distrato</text>\n</g>\n<!-- 6&#45;&gt;10 -->\n<g id=\"edge10\" class=\"edge\">\n<title>6&#45;&gt;10</title>\n<path fill=\"none\" stroke=\"black\" d=\"M376.49,-222.91C387.3,-213.47 398.9,-203.34 410,-193.65\"/>\n<polygon fill=\"black\" stroke=\"black\" points=\"412.36,-196.23 417.59,-187.02 407.76,-190.96 412.36,-196.23\"/>\n</g>\n<!-- 8 -->\n<g id=\"node9\" class=\"node\">\n<title>8</title>\n<path fill=\"#e58139\" stroke=\"black\" d=\"M239,-68C239,-68 153,-68 153,-68 147,-68 141,-62 141,-56 141,-56 141,-12 141,-12 141,-6 147,0 153,0 153,0 239,0 239,0 245,0 251,-6 251,-12 251,-12 251,-56 251,-56 251,-62 245,-68 239,-68\"/>\n<text text-anchor=\"middle\" x=\"196\" y=\"-52.8\" font-family=\"Helvetica,sans-Serif\" font-size=\"14.00\">gini = 0.0</text>\n<text text-anchor=\"middle\" x=\"196\" y=\"-37.8\" font-family=\"Helvetica,sans-Serif\" font-size=\"14.00\">samples = 2</text>\n<text text-anchor=\"middle\" x=\"196\" y=\"-22.8\" font-family=\"Helvetica,sans-Serif\" font-size=\"14.00\">value = [2, 0]</text>\n<text text-anchor=\"middle\" x=\"196\" y=\"-7.8\" font-family=\"Helvetica,sans-Serif\" font-size=\"14.00\">class = Distrato</text>\n</g>\n<!-- 7&#45;&gt;8 -->\n<g id=\"edge8\" class=\"edge\">\n<title>7&#45;&gt;8</title>\n<path fill=\"none\" stroke=\"black\" d=\"M278.85,-103.73C267.41,-94.24 255.26,-84.16 243.88,-74.72\"/>\n<polygon fill=\"black\" stroke=\"black\" points=\"246.07,-71.99 236.14,-68.3 241.6,-77.38 246.07,-71.99\"/>\n</g>\n<!-- 9 -->\n<g id=\"node10\" class=\"node\">\n<title>9</title>\n<path fill=\"#6fb8ec\" stroke=\"black\" d=\"M375,-68C375,-68 281,-68 281,-68 275,-68 269,-62 269,-56 269,-56 269,-12 269,-12 269,-6 275,0 281,0 281,0 375,0 375,0 381,0 387,-6 387,-12 387,-12 387,-56 387,-56 387,-62 381,-68 375,-68\"/>\n<text text-anchor=\"middle\" x=\"328\" y=\"-52.8\" font-family=\"Helvetica,sans-Serif\" font-size=\"14.00\">gini = 0.338</text>\n<text text-anchor=\"middle\" x=\"328\" y=\"-37.8\" font-family=\"Helvetica,sans-Serif\" font-size=\"14.00\">samples = 65</text>\n<text text-anchor=\"middle\" x=\"328\" y=\"-22.8\" font-family=\"Helvetica,sans-Serif\" font-size=\"14.00\">value = [14, 51]</text>\n<text text-anchor=\"middle\" x=\"328\" y=\"-7.8\" font-family=\"Helvetica,sans-Serif\" font-size=\"14.00\">class = Formado</text>\n</g>\n<!-- 7&#45;&gt;9 -->\n<g id=\"edge9\" class=\"edge\">\n<title>7&#45;&gt;9</title>\n<path fill=\"none\" stroke=\"black\" d=\"M328,-103.73C328,-95.52 328,-86.86 328,-78.56\"/>\n<polygon fill=\"black\" stroke=\"black\" points=\"331.5,-78.3 328,-68.3 324.5,-78.3 331.5,-78.3\"/>\n</g>\n<!-- 11 -->\n<g id=\"node12\" class=\"node\">\n<title>11</title>\n<path fill=\"#8ec7f0\" stroke=\"black\" d=\"M511,-68C511,-68 417,-68 417,-68 411,-68 405,-62 405,-56 405,-56 405,-12 405,-12 405,-6 411,0 417,0 417,0 511,0 511,0 517,0 523,-6 523,-12 523,-12 523,-56 523,-56 523,-62 517,-68 511,-68\"/>\n<text text-anchor=\"middle\" x=\"464\" y=\"-52.8\" font-family=\"Helvetica,sans-Serif\" font-size=\"14.00\">gini = 0.42</text>\n<text text-anchor=\"middle\" x=\"464\" y=\"-37.8\" font-family=\"Helvetica,sans-Serif\" font-size=\"14.00\">samples = 10</text>\n<text text-anchor=\"middle\" x=\"464\" y=\"-22.8\" font-family=\"Helvetica,sans-Serif\" font-size=\"14.00\">value = [3, 7]</text>\n<text text-anchor=\"middle\" x=\"464\" y=\"-7.8\" font-family=\"Helvetica,sans-Serif\" font-size=\"14.00\">class = Formado</text>\n</g>\n<!-- 10&#45;&gt;11 -->\n<g id=\"edge11\" class=\"edge\">\n<title>10&#45;&gt;11</title>\n<path fill=\"none\" stroke=\"black\" d=\"M464,-103.73C464,-95.52 464,-86.86 464,-78.56\"/>\n<polygon fill=\"black\" stroke=\"black\" points=\"467.5,-78.3 464,-68.3 460.5,-78.3 467.5,-78.3\"/>\n</g>\n<!-- 12 -->\n<g id=\"node13\" class=\"node\">\n<title>12</title>\n<path fill=\"#eca06a\" stroke=\"black\" d=\"M639,-68C639,-68 553,-68 553,-68 547,-68 541,-62 541,-56 541,-56 541,-12 541,-12 541,-6 547,0 553,0 553,0 639,0 639,0 645,0 651,-6 651,-12 651,-12 651,-56 651,-56 651,-62 645,-68 639,-68\"/>\n<text text-anchor=\"middle\" x=\"596\" y=\"-52.8\" font-family=\"Helvetica,sans-Serif\" font-size=\"14.00\">gini = 0.32</text>\n<text text-anchor=\"middle\" x=\"596\" y=\"-37.8\" font-family=\"Helvetica,sans-Serif\" font-size=\"14.00\">samples = 15</text>\n<text text-anchor=\"middle\" x=\"596\" y=\"-22.8\" font-family=\"Helvetica,sans-Serif\" font-size=\"14.00\">value = [12, 3]</text>\n<text text-anchor=\"middle\" x=\"596\" y=\"-7.8\" font-family=\"Helvetica,sans-Serif\" font-size=\"14.00\">class = Distrato</text>\n</g>\n<!-- 10&#45;&gt;12 -->\n<g id=\"edge12\" class=\"edge\">\n<title>10&#45;&gt;12</title>\n<path fill=\"none\" stroke=\"black\" d=\"M513.15,-103.73C524.59,-94.24 536.74,-84.16 548.12,-74.72\"/>\n<polygon fill=\"black\" stroke=\"black\" points=\"550.4,-77.38 555.86,-68.3 545.93,-71.99 550.4,-77.38\"/>\n</g>\n</g>\n</svg>\n"
          },
          "metadata": {},
          "execution_count": 31
        }
      ]
    },
    {
      "cell_type": "markdown",
      "source": [
        "### Comentários"
      ],
      "metadata": {
        "id": "PCmRAqeqV2pZ"
      }
    },
    {
      "cell_type": "markdown",
      "source": [
        "A princípio obter o resultado de 81.69% de acurácia com Decision Tree parece ser animador. Entretanto, depois de realizarmos a validação de Baseline com DummyClassifier verificou-se que esse resultado não é expressivo. O método Dummy não é capaz de realizar aprendizado de máquina, mas mantém a proporção dos dados para dar palpites, por esse motivo teve 81.69% de acerto. Isso significa que os dados não estão balanceados o suficiente. É necessário mais dados para o aprendizado. Através da visualização da Arvore de decisão também constatou-se que há indicação de formados mesmo com nota abaixo do esperado. Nesse caso, deve-se apurar se há falhas no processo acadêmico e corrigir os dados para que o algoritmo siga as regras de negócio da empresa. \n",
        "\n",
        "**Os próximos passos serão**:\n",
        "\n",
        "1. Verificar possíveis desvios no registro de aprovação acadêmica;\n",
        "2. Obter maiores dados para o algoritmo reconhecer diferentes caracteristicas;\n",
        "3. Avaliar novos modelos de classificação e hiperparâmetros. "
      ],
      "metadata": {
        "id": "Y7lqzY1TV5R4"
      }
    }
  ]
}