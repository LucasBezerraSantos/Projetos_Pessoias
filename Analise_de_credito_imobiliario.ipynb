{
  "nbformat": 4,
  "nbformat_minor": 0,
  "metadata": {
    "colab": {
      "provenance": [],
      "collapsed_sections": [
        "mgGJE2OI-YHi",
        "ne1YHzl3ua0b",
        "LGY0hnpnw5ri",
        "Bg5V5Fmg7Jb1",
        "3yami6Mc7N6L",
        "KBWv8JPryYFX",
        "tjZ3cJSL7I3v",
        "36MUb0QL64nO",
        "cUi-bEaI66zs",
        "QBqRNoEs6_ee",
        "70R5y8U27Fbe"
      ],
      "authorship_tag": "ABX9TyN8Jp33YpNnXuhDra/SQuTe",
      "include_colab_link": true
    },
    "kernelspec": {
      "name": "python3",
      "display_name": "Python 3"
    },
    "language_info": {
      "name": "python"
    }
  },
  "cells": [
    {
      "cell_type": "markdown",
      "metadata": {
        "id": "view-in-github",
        "colab_type": "text"
      },
      "source": [
        "<a href=\"https://colab.research.google.com/github/LucasBezerraSantos/Projetos_Pessoias/blob/master/Analise_de_credito_imobiliario.ipynb\" target=\"_parent\"><img src=\"https://colab.research.google.com/assets/colab-badge.svg\" alt=\"Open In Colab\"/></a>"
      ]
    },
    {
      "cell_type": "markdown",
      "source": [
        "**Tipo de negócio:** Empresa Dream Housing Finance, a empresa lida com todos os empréstimos para habitação. Eles estão presentes em todas as áreas urbanas, semi-urbanas e rurais. O cliente aplica-se primeiro para um empréstimo à habitação depois que a empresa valida a elegibilidade do cliente para um empréstimo | Kaggle"
      ],
      "metadata": {
        "id": "xLrzskAJuPbt"
      }
    },
    {
      "cell_type": "markdown",
      "source": [
        "**Problema:** A empresa deseja automatizar o processo de elegibilidade do empréstimo (em tempo real) com base nos detalhes do cliente fornecidos durante o preenchimento do formulário de inscrição on-line. Esses detalhes são sexo, estado civil, escolaridade, número de dependentes, renda, valor do empréstimo, histórico de crédito e outros. Para automatizar esse processo, eles criaram um problema para identificar os segmentos de clientes elegíveis para valores de empréstimo para atingir esses clientes especificamente."
      ],
      "metadata": {
        "id": "-_kH79FNuwE6"
      }
    },
    {
      "cell_type": "markdown",
      "source": [
        "## Análise exploratória e transformação de dados"
      ],
      "metadata": {
        "id": "mgGJE2OI-YHi"
      }
    },
    {
      "cell_type": "markdown",
      "source": [
        "### Bibliotécas e Leitura dos Dados"
      ],
      "metadata": {
        "id": "ne1YHzl3ua0b"
      }
    },
    {
      "cell_type": "code",
      "execution_count": 1,
      "metadata": {
        "colab": {
          "base_uri": "https://localhost:8080/"
        },
        "id": "n5ra6Mc2tzeP",
        "outputId": "2ee1c2ed-cfd0-42df-97f1-f18f75211330"
      },
      "outputs": [
        {
          "output_type": "stream",
          "name": "stdout",
          "text": [
            "Drive already mounted at drive_content; to attempt to forcibly remount, call drive.mount(\"drive_content\", force_remount=True).\n"
          ]
        }
      ],
      "source": [
        "from google.colab import drive\n",
        "drive.mount('drive_content')"
      ]
    },
    {
      "cell_type": "code",
      "source": [
        "import pandas as pd\n",
        "import numpy as np\n",
        "import matplotlib.pyplot as plt\n",
        "import seaborn as sns"
      ],
      "metadata": {
        "id": "qADyd5SKwScU"
      },
      "execution_count": 2,
      "outputs": []
    },
    {
      "cell_type": "code",
      "source": [
        "dados_imovel_train = pd.read_csv('/content/drive_content/MyDrive/Conjuntos_de_Dados/Kaggle/loan_sanction_train.csv')\n",
        "dados_imovel_test = pd.read_csv('/content/drive_content/MyDrive/Conjuntos_de_Dados/Kaggle/loan_sanction_test.csv')"
      ],
      "metadata": {
        "id": "oAolXNrGweLb"
      },
      "execution_count": 3,
      "outputs": []
    },
    {
      "cell_type": "markdown",
      "source": [
        "### Exploração de dados"
      ],
      "metadata": {
        "id": "LGY0hnpnw5ri"
      }
    },
    {
      "cell_type": "code",
      "source": [
        "dados_imovel_train.shape, dados_imovel_test.shape"
      ],
      "metadata": {
        "colab": {
          "base_uri": "https://localhost:8080/"
        },
        "id": "ctoReNq_w1gu",
        "outputId": "27f519bb-2a57-4b30-b30f-412a9e49b0f0"
      },
      "execution_count": 4,
      "outputs": [
        {
          "output_type": "execute_result",
          "data": {
            "text/plain": [
              "((614, 13), (367, 12))"
            ]
          },
          "metadata": {},
          "execution_count": 4
        }
      ]
    },
    {
      "cell_type": "code",
      "source": [
        "dados_imovel_train.head()"
      ],
      "metadata": {
        "colab": {
          "base_uri": "https://localhost:8080/",
          "height": 0
        },
        "id": "LlSing_ww4Rk",
        "outputId": "13cc0576-bb9a-4d48-b29f-0aaa2c0f1fff"
      },
      "execution_count": 5,
      "outputs": [
        {
          "output_type": "execute_result",
          "data": {
            "text/plain": [
              "    Loan_ID Gender Married Dependents     Education Self_Employed  \\\n",
              "0  LP001002   Male      No          0      Graduate            No   \n",
              "1  LP001003   Male     Yes          1      Graduate            No   \n",
              "2  LP001005   Male     Yes          0      Graduate           Yes   \n",
              "3  LP001006   Male     Yes          0  Not Graduate            No   \n",
              "4  LP001008   Male      No          0      Graduate            No   \n",
              "\n",
              "   ApplicantIncome  CoapplicantIncome  LoanAmount  Loan_Amount_Term  \\\n",
              "0             5849                0.0         NaN             360.0   \n",
              "1             4583             1508.0       128.0             360.0   \n",
              "2             3000                0.0        66.0             360.0   \n",
              "3             2583             2358.0       120.0             360.0   \n",
              "4             6000                0.0       141.0             360.0   \n",
              "\n",
              "   Credit_History Property_Area Loan_Status  \n",
              "0             1.0         Urban           Y  \n",
              "1             1.0         Rural           N  \n",
              "2             1.0         Urban           Y  \n",
              "3             1.0         Urban           Y  \n",
              "4             1.0         Urban           Y  "
            ],
            "text/html": [
              "\n",
              "  <div id=\"df-98a4d99e-46a6-4cb3-bcf7-5e0f28cc9720\">\n",
              "    <div class=\"colab-df-container\">\n",
              "      <div>\n",
              "<style scoped>\n",
              "    .dataframe tbody tr th:only-of-type {\n",
              "        vertical-align: middle;\n",
              "    }\n",
              "\n",
              "    .dataframe tbody tr th {\n",
              "        vertical-align: top;\n",
              "    }\n",
              "\n",
              "    .dataframe thead th {\n",
              "        text-align: right;\n",
              "    }\n",
              "</style>\n",
              "<table border=\"1\" class=\"dataframe\">\n",
              "  <thead>\n",
              "    <tr style=\"text-align: right;\">\n",
              "      <th></th>\n",
              "      <th>Loan_ID</th>\n",
              "      <th>Gender</th>\n",
              "      <th>Married</th>\n",
              "      <th>Dependents</th>\n",
              "      <th>Education</th>\n",
              "      <th>Self_Employed</th>\n",
              "      <th>ApplicantIncome</th>\n",
              "      <th>CoapplicantIncome</th>\n",
              "      <th>LoanAmount</th>\n",
              "      <th>Loan_Amount_Term</th>\n",
              "      <th>Credit_History</th>\n",
              "      <th>Property_Area</th>\n",
              "      <th>Loan_Status</th>\n",
              "    </tr>\n",
              "  </thead>\n",
              "  <tbody>\n",
              "    <tr>\n",
              "      <th>0</th>\n",
              "      <td>LP001002</td>\n",
              "      <td>Male</td>\n",
              "      <td>No</td>\n",
              "      <td>0</td>\n",
              "      <td>Graduate</td>\n",
              "      <td>No</td>\n",
              "      <td>5849</td>\n",
              "      <td>0.0</td>\n",
              "      <td>NaN</td>\n",
              "      <td>360.0</td>\n",
              "      <td>1.0</td>\n",
              "      <td>Urban</td>\n",
              "      <td>Y</td>\n",
              "    </tr>\n",
              "    <tr>\n",
              "      <th>1</th>\n",
              "      <td>LP001003</td>\n",
              "      <td>Male</td>\n",
              "      <td>Yes</td>\n",
              "      <td>1</td>\n",
              "      <td>Graduate</td>\n",
              "      <td>No</td>\n",
              "      <td>4583</td>\n",
              "      <td>1508.0</td>\n",
              "      <td>128.0</td>\n",
              "      <td>360.0</td>\n",
              "      <td>1.0</td>\n",
              "      <td>Rural</td>\n",
              "      <td>N</td>\n",
              "    </tr>\n",
              "    <tr>\n",
              "      <th>2</th>\n",
              "      <td>LP001005</td>\n",
              "      <td>Male</td>\n",
              "      <td>Yes</td>\n",
              "      <td>0</td>\n",
              "      <td>Graduate</td>\n",
              "      <td>Yes</td>\n",
              "      <td>3000</td>\n",
              "      <td>0.0</td>\n",
              "      <td>66.0</td>\n",
              "      <td>360.0</td>\n",
              "      <td>1.0</td>\n",
              "      <td>Urban</td>\n",
              "      <td>Y</td>\n",
              "    </tr>\n",
              "    <tr>\n",
              "      <th>3</th>\n",
              "      <td>LP001006</td>\n",
              "      <td>Male</td>\n",
              "      <td>Yes</td>\n",
              "      <td>0</td>\n",
              "      <td>Not Graduate</td>\n",
              "      <td>No</td>\n",
              "      <td>2583</td>\n",
              "      <td>2358.0</td>\n",
              "      <td>120.0</td>\n",
              "      <td>360.0</td>\n",
              "      <td>1.0</td>\n",
              "      <td>Urban</td>\n",
              "      <td>Y</td>\n",
              "    </tr>\n",
              "    <tr>\n",
              "      <th>4</th>\n",
              "      <td>LP001008</td>\n",
              "      <td>Male</td>\n",
              "      <td>No</td>\n",
              "      <td>0</td>\n",
              "      <td>Graduate</td>\n",
              "      <td>No</td>\n",
              "      <td>6000</td>\n",
              "      <td>0.0</td>\n",
              "      <td>141.0</td>\n",
              "      <td>360.0</td>\n",
              "      <td>1.0</td>\n",
              "      <td>Urban</td>\n",
              "      <td>Y</td>\n",
              "    </tr>\n",
              "  </tbody>\n",
              "</table>\n",
              "</div>\n",
              "      <button class=\"colab-df-convert\" onclick=\"convertToInteractive('df-98a4d99e-46a6-4cb3-bcf7-5e0f28cc9720')\"\n",
              "              title=\"Convert this dataframe to an interactive table.\"\n",
              "              style=\"display:none;\">\n",
              "        \n",
              "  <svg xmlns=\"http://www.w3.org/2000/svg\" height=\"24px\"viewBox=\"0 0 24 24\"\n",
              "       width=\"24px\">\n",
              "    <path d=\"M0 0h24v24H0V0z\" fill=\"none\"/>\n",
              "    <path d=\"M18.56 5.44l.94 2.06.94-2.06 2.06-.94-2.06-.94-.94-2.06-.94 2.06-2.06.94zm-11 1L8.5 8.5l.94-2.06 2.06-.94-2.06-.94L8.5 2.5l-.94 2.06-2.06.94zm10 10l.94 2.06.94-2.06 2.06-.94-2.06-.94-.94-2.06-.94 2.06-2.06.94z\"/><path d=\"M17.41 7.96l-1.37-1.37c-.4-.4-.92-.59-1.43-.59-.52 0-1.04.2-1.43.59L10.3 9.45l-7.72 7.72c-.78.78-.78 2.05 0 2.83L4 21.41c.39.39.9.59 1.41.59.51 0 1.02-.2 1.41-.59l7.78-7.78 2.81-2.81c.8-.78.8-2.07 0-2.86zM5.41 20L4 18.59l7.72-7.72 1.47 1.35L5.41 20z\"/>\n",
              "  </svg>\n",
              "      </button>\n",
              "      \n",
              "  <style>\n",
              "    .colab-df-container {\n",
              "      display:flex;\n",
              "      flex-wrap:wrap;\n",
              "      gap: 12px;\n",
              "    }\n",
              "\n",
              "    .colab-df-convert {\n",
              "      background-color: #E8F0FE;\n",
              "      border: none;\n",
              "      border-radius: 50%;\n",
              "      cursor: pointer;\n",
              "      display: none;\n",
              "      fill: #1967D2;\n",
              "      height: 32px;\n",
              "      padding: 0 0 0 0;\n",
              "      width: 32px;\n",
              "    }\n",
              "\n",
              "    .colab-df-convert:hover {\n",
              "      background-color: #E2EBFA;\n",
              "      box-shadow: 0px 1px 2px rgba(60, 64, 67, 0.3), 0px 1px 3px 1px rgba(60, 64, 67, 0.15);\n",
              "      fill: #174EA6;\n",
              "    }\n",
              "\n",
              "    [theme=dark] .colab-df-convert {\n",
              "      background-color: #3B4455;\n",
              "      fill: #D2E3FC;\n",
              "    }\n",
              "\n",
              "    [theme=dark] .colab-df-convert:hover {\n",
              "      background-color: #434B5C;\n",
              "      box-shadow: 0px 1px 3px 1px rgba(0, 0, 0, 0.15);\n",
              "      filter: drop-shadow(0px 1px 2px rgba(0, 0, 0, 0.3));\n",
              "      fill: #FFFFFF;\n",
              "    }\n",
              "  </style>\n",
              "\n",
              "      <script>\n",
              "        const buttonEl =\n",
              "          document.querySelector('#df-98a4d99e-46a6-4cb3-bcf7-5e0f28cc9720 button.colab-df-convert');\n",
              "        buttonEl.style.display =\n",
              "          google.colab.kernel.accessAllowed ? 'block' : 'none';\n",
              "\n",
              "        async function convertToInteractive(key) {\n",
              "          const element = document.querySelector('#df-98a4d99e-46a6-4cb3-bcf7-5e0f28cc9720');\n",
              "          const dataTable =\n",
              "            await google.colab.kernel.invokeFunction('convertToInteractive',\n",
              "                                                     [key], {});\n",
              "          if (!dataTable) return;\n",
              "\n",
              "          const docLinkHtml = 'Like what you see? Visit the ' +\n",
              "            '<a target=\"_blank\" href=https://colab.research.google.com/notebooks/data_table.ipynb>data table notebook</a>'\n",
              "            + ' to learn more about interactive tables.';\n",
              "          element.innerHTML = '';\n",
              "          dataTable['output_type'] = 'display_data';\n",
              "          await google.colab.output.renderOutput(dataTable, element);\n",
              "          const docLink = document.createElement('div');\n",
              "          docLink.innerHTML = docLinkHtml;\n",
              "          element.appendChild(docLink);\n",
              "        }\n",
              "      </script>\n",
              "    </div>\n",
              "  </div>\n",
              "  "
            ]
          },
          "metadata": {},
          "execution_count": 5
        }
      ]
    },
    {
      "cell_type": "markdown",
      "source": [
        "### Transformação de dados"
      ],
      "metadata": {
        "id": "Bg5V5Fmg7Jb1"
      }
    },
    {
      "cell_type": "code",
      "source": [
        "colunas_renomeadas = { \"No\": 0, \"Yes\": 1, \"Male\": 0, \"Female\": 1, \"N\": 0, \"Y\": 1, \"Not Graduate\": 0, \"Graduate\": 1, '3+': 3 }"
      ],
      "metadata": {
        "id": "9WYiLUPNxRGu"
      },
      "execution_count": 6,
      "outputs": []
    },
    {
      "cell_type": "code",
      "source": [
        "dados_train_convert = dados_imovel_train[[ 'Gender', 'Married', 'Education', 'Self_Employed', 'Dependents', 'Loan_Status' ]].replace(colunas_renomeadas)\n",
        "dados_imovel_train[['Rural',\t'Semiurban',\t'Urban']] = pd.get_dummies(dados_imovel_train.Property_Area)\n",
        "dados_imovel_train.drop([ 'Loan_ID', 'Gender', 'Married', 'Education', 'Self_Employed', 'Loan_Status', 'Property_Area', 'Dependents' ], axis=1, inplace=True)"
      ],
      "metadata": {
        "id": "BT9eQKp10Ubz"
      },
      "execution_count": 7,
      "outputs": []
    },
    {
      "cell_type": "code",
      "source": [
        "dados_imovel_num = pd.concat([dados_imovel_train, dados_train_convert], axis=1)"
      ],
      "metadata": {
        "id": "bFuU2AVk2S-8"
      },
      "execution_count": 8,
      "outputs": []
    },
    {
      "cell_type": "code",
      "source": [
        "dados_imovel_num.head()"
      ],
      "metadata": {
        "colab": {
          "base_uri": "https://localhost:8080/",
          "height": 270
        },
        "id": "FiqLg19S3vZW",
        "outputId": "2a08c65a-c1de-4e6b-cabc-ac3ab0a770bf"
      },
      "execution_count": 9,
      "outputs": [
        {
          "output_type": "execute_result",
          "data": {
            "text/plain": [
              "   ApplicantIncome  CoapplicantIncome  LoanAmount  Loan_Amount_Term  \\\n",
              "0             5849                0.0         NaN             360.0   \n",
              "1             4583             1508.0       128.0             360.0   \n",
              "2             3000                0.0        66.0             360.0   \n",
              "3             2583             2358.0       120.0             360.0   \n",
              "4             6000                0.0       141.0             360.0   \n",
              "\n",
              "   Credit_History  Rural  Semiurban  Urban  Gender  Married  Education  \\\n",
              "0             1.0      0          0      1     0.0      0.0          1   \n",
              "1             1.0      1          0      0     0.0      1.0          1   \n",
              "2             1.0      0          0      1     0.0      1.0          1   \n",
              "3             1.0      0          0      1     0.0      1.0          0   \n",
              "4             1.0      0          0      1     0.0      0.0          1   \n",
              "\n",
              "   Self_Employed Dependents  Loan_Status  \n",
              "0            0.0          0            1  \n",
              "1            0.0          1            0  \n",
              "2            1.0          0            1  \n",
              "3            0.0          0            1  \n",
              "4            0.0          0            1  "
            ],
            "text/html": [
              "\n",
              "  <div id=\"df-8c2edd05-916a-4d43-86f0-f64b6bc3b303\">\n",
              "    <div class=\"colab-df-container\">\n",
              "      <div>\n",
              "<style scoped>\n",
              "    .dataframe tbody tr th:only-of-type {\n",
              "        vertical-align: middle;\n",
              "    }\n",
              "\n",
              "    .dataframe tbody tr th {\n",
              "        vertical-align: top;\n",
              "    }\n",
              "\n",
              "    .dataframe thead th {\n",
              "        text-align: right;\n",
              "    }\n",
              "</style>\n",
              "<table border=\"1\" class=\"dataframe\">\n",
              "  <thead>\n",
              "    <tr style=\"text-align: right;\">\n",
              "      <th></th>\n",
              "      <th>ApplicantIncome</th>\n",
              "      <th>CoapplicantIncome</th>\n",
              "      <th>LoanAmount</th>\n",
              "      <th>Loan_Amount_Term</th>\n",
              "      <th>Credit_History</th>\n",
              "      <th>Rural</th>\n",
              "      <th>Semiurban</th>\n",
              "      <th>Urban</th>\n",
              "      <th>Gender</th>\n",
              "      <th>Married</th>\n",
              "      <th>Education</th>\n",
              "      <th>Self_Employed</th>\n",
              "      <th>Dependents</th>\n",
              "      <th>Loan_Status</th>\n",
              "    </tr>\n",
              "  </thead>\n",
              "  <tbody>\n",
              "    <tr>\n",
              "      <th>0</th>\n",
              "      <td>5849</td>\n",
              "      <td>0.0</td>\n",
              "      <td>NaN</td>\n",
              "      <td>360.0</td>\n",
              "      <td>1.0</td>\n",
              "      <td>0</td>\n",
              "      <td>0</td>\n",
              "      <td>1</td>\n",
              "      <td>0.0</td>\n",
              "      <td>0.0</td>\n",
              "      <td>1</td>\n",
              "      <td>0.0</td>\n",
              "      <td>0</td>\n",
              "      <td>1</td>\n",
              "    </tr>\n",
              "    <tr>\n",
              "      <th>1</th>\n",
              "      <td>4583</td>\n",
              "      <td>1508.0</td>\n",
              "      <td>128.0</td>\n",
              "      <td>360.0</td>\n",
              "      <td>1.0</td>\n",
              "      <td>1</td>\n",
              "      <td>0</td>\n",
              "      <td>0</td>\n",
              "      <td>0.0</td>\n",
              "      <td>1.0</td>\n",
              "      <td>1</td>\n",
              "      <td>0.0</td>\n",
              "      <td>1</td>\n",
              "      <td>0</td>\n",
              "    </tr>\n",
              "    <tr>\n",
              "      <th>2</th>\n",
              "      <td>3000</td>\n",
              "      <td>0.0</td>\n",
              "      <td>66.0</td>\n",
              "      <td>360.0</td>\n",
              "      <td>1.0</td>\n",
              "      <td>0</td>\n",
              "      <td>0</td>\n",
              "      <td>1</td>\n",
              "      <td>0.0</td>\n",
              "      <td>1.0</td>\n",
              "      <td>1</td>\n",
              "      <td>1.0</td>\n",
              "      <td>0</td>\n",
              "      <td>1</td>\n",
              "    </tr>\n",
              "    <tr>\n",
              "      <th>3</th>\n",
              "      <td>2583</td>\n",
              "      <td>2358.0</td>\n",
              "      <td>120.0</td>\n",
              "      <td>360.0</td>\n",
              "      <td>1.0</td>\n",
              "      <td>0</td>\n",
              "      <td>0</td>\n",
              "      <td>1</td>\n",
              "      <td>0.0</td>\n",
              "      <td>1.0</td>\n",
              "      <td>0</td>\n",
              "      <td>0.0</td>\n",
              "      <td>0</td>\n",
              "      <td>1</td>\n",
              "    </tr>\n",
              "    <tr>\n",
              "      <th>4</th>\n",
              "      <td>6000</td>\n",
              "      <td>0.0</td>\n",
              "      <td>141.0</td>\n",
              "      <td>360.0</td>\n",
              "      <td>1.0</td>\n",
              "      <td>0</td>\n",
              "      <td>0</td>\n",
              "      <td>1</td>\n",
              "      <td>0.0</td>\n",
              "      <td>0.0</td>\n",
              "      <td>1</td>\n",
              "      <td>0.0</td>\n",
              "      <td>0</td>\n",
              "      <td>1</td>\n",
              "    </tr>\n",
              "  </tbody>\n",
              "</table>\n",
              "</div>\n",
              "      <button class=\"colab-df-convert\" onclick=\"convertToInteractive('df-8c2edd05-916a-4d43-86f0-f64b6bc3b303')\"\n",
              "              title=\"Convert this dataframe to an interactive table.\"\n",
              "              style=\"display:none;\">\n",
              "        \n",
              "  <svg xmlns=\"http://www.w3.org/2000/svg\" height=\"24px\"viewBox=\"0 0 24 24\"\n",
              "       width=\"24px\">\n",
              "    <path d=\"M0 0h24v24H0V0z\" fill=\"none\"/>\n",
              "    <path d=\"M18.56 5.44l.94 2.06.94-2.06 2.06-.94-2.06-.94-.94-2.06-.94 2.06-2.06.94zm-11 1L8.5 8.5l.94-2.06 2.06-.94-2.06-.94L8.5 2.5l-.94 2.06-2.06.94zm10 10l.94 2.06.94-2.06 2.06-.94-2.06-.94-.94-2.06-.94 2.06-2.06.94z\"/><path d=\"M17.41 7.96l-1.37-1.37c-.4-.4-.92-.59-1.43-.59-.52 0-1.04.2-1.43.59L10.3 9.45l-7.72 7.72c-.78.78-.78 2.05 0 2.83L4 21.41c.39.39.9.59 1.41.59.51 0 1.02-.2 1.41-.59l7.78-7.78 2.81-2.81c.8-.78.8-2.07 0-2.86zM5.41 20L4 18.59l7.72-7.72 1.47 1.35L5.41 20z\"/>\n",
              "  </svg>\n",
              "      </button>\n",
              "      \n",
              "  <style>\n",
              "    .colab-df-container {\n",
              "      display:flex;\n",
              "      flex-wrap:wrap;\n",
              "      gap: 12px;\n",
              "    }\n",
              "\n",
              "    .colab-df-convert {\n",
              "      background-color: #E8F0FE;\n",
              "      border: none;\n",
              "      border-radius: 50%;\n",
              "      cursor: pointer;\n",
              "      display: none;\n",
              "      fill: #1967D2;\n",
              "      height: 32px;\n",
              "      padding: 0 0 0 0;\n",
              "      width: 32px;\n",
              "    }\n",
              "\n",
              "    .colab-df-convert:hover {\n",
              "      background-color: #E2EBFA;\n",
              "      box-shadow: 0px 1px 2px rgba(60, 64, 67, 0.3), 0px 1px 3px 1px rgba(60, 64, 67, 0.15);\n",
              "      fill: #174EA6;\n",
              "    }\n",
              "\n",
              "    [theme=dark] .colab-df-convert {\n",
              "      background-color: #3B4455;\n",
              "      fill: #D2E3FC;\n",
              "    }\n",
              "\n",
              "    [theme=dark] .colab-df-convert:hover {\n",
              "      background-color: #434B5C;\n",
              "      box-shadow: 0px 1px 3px 1px rgba(0, 0, 0, 0.15);\n",
              "      filter: drop-shadow(0px 1px 2px rgba(0, 0, 0, 0.3));\n",
              "      fill: #FFFFFF;\n",
              "    }\n",
              "  </style>\n",
              "\n",
              "      <script>\n",
              "        const buttonEl =\n",
              "          document.querySelector('#df-8c2edd05-916a-4d43-86f0-f64b6bc3b303 button.colab-df-convert');\n",
              "        buttonEl.style.display =\n",
              "          google.colab.kernel.accessAllowed ? 'block' : 'none';\n",
              "\n",
              "        async function convertToInteractive(key) {\n",
              "          const element = document.querySelector('#df-8c2edd05-916a-4d43-86f0-f64b6bc3b303');\n",
              "          const dataTable =\n",
              "            await google.colab.kernel.invokeFunction('convertToInteractive',\n",
              "                                                     [key], {});\n",
              "          if (!dataTable) return;\n",
              "\n",
              "          const docLinkHtml = 'Like what you see? Visit the ' +\n",
              "            '<a target=\"_blank\" href=https://colab.research.google.com/notebooks/data_table.ipynb>data table notebook</a>'\n",
              "            + ' to learn more about interactive tables.';\n",
              "          element.innerHTML = '';\n",
              "          dataTable['output_type'] = 'display_data';\n",
              "          await google.colab.output.renderOutput(dataTable, element);\n",
              "          const docLink = document.createElement('div');\n",
              "          docLink.innerHTML = docLinkHtml;\n",
              "          element.appendChild(docLink);\n",
              "        }\n",
              "      </script>\n",
              "    </div>\n",
              "  </div>\n",
              "  "
            ]
          },
          "metadata": {},
          "execution_count": 9
        }
      ]
    },
    {
      "cell_type": "markdown",
      "source": [
        "### Tratamento de dados nulos"
      ],
      "metadata": {
        "id": "3yami6Mc7N6L"
      }
    },
    {
      "cell_type": "code",
      "source": [
        "dados_imovel_num.isnull().sum()"
      ],
      "metadata": {
        "colab": {
          "base_uri": "https://localhost:8080/"
        },
        "id": "VT2LFdKg6uS5",
        "outputId": "12db7af2-150c-433f-f821-ca2a8e1a2a83"
      },
      "execution_count": 10,
      "outputs": [
        {
          "output_type": "execute_result",
          "data": {
            "text/plain": [
              "ApplicantIncome       0\n",
              "CoapplicantIncome     0\n",
              "LoanAmount           22\n",
              "Loan_Amount_Term     14\n",
              "Credit_History       50\n",
              "Rural                 0\n",
              "Semiurban             0\n",
              "Urban                 0\n",
              "Gender               13\n",
              "Married               3\n",
              "Education             0\n",
              "Self_Employed        32\n",
              "Dependents           15\n",
              "Loan_Status           0\n",
              "dtype: int64"
            ]
          },
          "metadata": {},
          "execution_count": 10
        }
      ]
    },
    {
      "cell_type": "markdown",
      "source": [
        "**Dados em menor quantidade serão apagados**"
      ],
      "metadata": {
        "id": "41BYmHYvxedp"
      }
    },
    {
      "cell_type": "code",
      "source": [
        "drop_married = dados_imovel_num.loc[dados_imovel_num['Married'].isnull() == True]\n",
        "dados_imovel_num.drop(drop_married.index, axis=0, inplace=True)"
      ],
      "metadata": {
        "id": "aDFvxh_jqUjc"
      },
      "execution_count": 11,
      "outputs": []
    },
    {
      "cell_type": "markdown",
      "source": [
        "**As colunas que possuem dados vazios representam 0 e 1, \"não\" ou \"sim\", são dados categóricos e não contínuos. Por esse motivo é mais eficiênte usar a moda para preencher os dados nulos, com os dados que tem mais probalidade de ocorrer.**"
      ],
      "metadata": {
        "id": "ka_VJsZ8xj3r"
      }
    },
    {
      "cell_type": "code",
      "source": [
        "for indice in range(len(dados_imovel_num.columns)):\n",
        "  moda = int(dados_imovel_num[dados_imovel_num.columns[indice]].mode())\n",
        "  dados_imovel_num[dados_imovel_num.columns[indice]] = dados_imovel_num[dados_imovel_num.columns[indice]].fillna(moda)"
      ],
      "metadata": {
        "id": "4M-HB1Z7vQ8B"
      },
      "execution_count": 12,
      "outputs": []
    },
    {
      "cell_type": "code",
      "source": [
        "dados_imovel_num.isna().sum()"
      ],
      "metadata": {
        "colab": {
          "base_uri": "https://localhost:8080/"
        },
        "id": "chI183netsAd",
        "outputId": "427db9ab-33ce-4af7-f04e-8f053364d33c"
      },
      "execution_count": 13,
      "outputs": [
        {
          "output_type": "execute_result",
          "data": {
            "text/plain": [
              "ApplicantIncome      0\n",
              "CoapplicantIncome    0\n",
              "LoanAmount           0\n",
              "Loan_Amount_Term     0\n",
              "Credit_History       0\n",
              "Rural                0\n",
              "Semiurban            0\n",
              "Urban                0\n",
              "Gender               0\n",
              "Married              0\n",
              "Education            0\n",
              "Self_Employed        0\n",
              "Dependents           0\n",
              "Loan_Status          0\n",
              "dtype: int64"
            ]
          },
          "metadata": {},
          "execution_count": 13
        }
      ]
    },
    {
      "cell_type": "markdown",
      "source": [
        "**Alterando dados float para int antes de usar a técnica de balanceamento SMOTE**"
      ],
      "metadata": {
        "id": "Y4AOPCOSmLTs"
      }
    },
    {
      "cell_type": "code",
      "source": [
        "dados_imovel_num = dados_imovel_num.astype(int)\n",
        "dados_imovel_num.info() "
      ],
      "metadata": {
        "colab": {
          "base_uri": "https://localhost:8080/"
        },
        "id": "McVY_OY-mYvj",
        "outputId": "0fec1ee6-febb-489b-e360-67dcd2369469"
      },
      "execution_count": 14,
      "outputs": [
        {
          "output_type": "stream",
          "name": "stdout",
          "text": [
            "<class 'pandas.core.frame.DataFrame'>\n",
            "Int64Index: 611 entries, 0 to 613\n",
            "Data columns (total 14 columns):\n",
            " #   Column             Non-Null Count  Dtype\n",
            "---  ------             --------------  -----\n",
            " 0   ApplicantIncome    611 non-null    int64\n",
            " 1   CoapplicantIncome  611 non-null    int64\n",
            " 2   LoanAmount         611 non-null    int64\n",
            " 3   Loan_Amount_Term   611 non-null    int64\n",
            " 4   Credit_History     611 non-null    int64\n",
            " 5   Rural              611 non-null    int64\n",
            " 6   Semiurban          611 non-null    int64\n",
            " 7   Urban              611 non-null    int64\n",
            " 8   Gender             611 non-null    int64\n",
            " 9   Married            611 non-null    int64\n",
            " 10  Education          611 non-null    int64\n",
            " 11  Self_Employed      611 non-null    int64\n",
            " 12  Dependents         611 non-null    int64\n",
            " 13  Loan_Status        611 non-null    int64\n",
            "dtypes: int64(14)\n",
            "memory usage: 71.6 KB\n"
          ]
        }
      ]
    },
    {
      "cell_type": "markdown",
      "source": [
        "### Balanceamento e Normalização"
      ],
      "metadata": {
        "id": "KBWv8JPryYFX"
      }
    },
    {
      "cell_type": "markdown",
      "source": [
        "O balanceamento de dados é importante porque ajuda a evitar problemas de desequilíbrio de dados que podem afetar negativamente a precisão do algoritmo de Machine Learning. Portanto, é uma boa prática equilibrar os dados antes de rodar o algoritmo | ChatGPT"
      ],
      "metadata": {
        "id": "YzXvjNsv2fUD"
      }
    },
    {
      "cell_type": "code",
      "source": [
        "from imblearn.over_sampling import SMOTE\n",
        "from sklearn.preprocessing import StandardScaler\n",
        "from sklearn.model_selection import train_test_split"
      ],
      "metadata": {
        "id": "0hxqTiFnyg_Q"
      },
      "execution_count": 15,
      "outputs": []
    },
    {
      "cell_type": "code",
      "source": [
        "SEED = 3192\n",
        "np.random.seed(SEED)\n",
        "\n",
        "smote = SMOTE()\n",
        "scaler = StandardScaler()"
      ],
      "metadata": {
        "id": "5io16Efwyyit"
      },
      "execution_count": 16,
      "outputs": []
    },
    {
      "cell_type": "code",
      "source": [
        "ax = sns.countplot(x='Loan_Status', data=dados_imovel_num)"
      ],
      "metadata": {
        "colab": {
          "base_uri": "https://localhost:8080/",
          "height": 0
        },
        "id": "IFcCenZFzlx1",
        "outputId": "d8b1ad9f-385e-4a04-a8ff-b10c64458e5a"
      },
      "execution_count": 17,
      "outputs": [
        {
          "output_type": "display_data",
          "data": {
            "text/plain": [
              "<Figure size 432x288 with 1 Axes>"
            ],
            "image/png": "[encoded data removed]"
          },
          "metadata": {
            "needs_background": "light"
          }
        }
      ]
    },
    {
      "cell_type": "code",
      "source": [
        "X = dados_imovel_num.drop('Loan_Status', axis=1)\n",
        "y = dados_imovel_num['Loan_Status']\n",
        "\n",
        "X, y = smote.fit_resample(X, y)"
      ],
      "metadata": {
        "id": "_2u-J8jE0WLC"
      },
      "execution_count": 18,
      "outputs": []
    },
    {
      "cell_type": "code",
      "source": [
        "dados_imovel_final = pd.concat([X, y], axis=1)"
      ],
      "metadata": {
        "id": "hCXqYMP609Cu"
      },
      "execution_count": 19,
      "outputs": []
    },
    {
      "cell_type": "code",
      "source": [
        "ax = sns.countplot(x= 'Loan_Status', data= dados_imovel_final)"
      ],
      "metadata": {
        "colab": {
          "base_uri": "https://localhost:8080/",
          "height": 0
        },
        "id": "6zyNACwl1PJ3",
        "outputId": "24fe2e97-a72d-41d0-d7da-34f0ba2c504d"
      },
      "execution_count": 20,
      "outputs": [
        {
          "output_type": "display_data",
          "data": {
            "text/plain": [
              "<Figure size 432x288 with 1 Axes>"
            ],
            "image/png": "[encoded data removed]"
          },
          "metadata": {
            "needs_background": "light"
          }
        }
      ]
    },
    {
      "cell_type": "code",
      "source": [
        "dados_imovel_final.shape"
      ],
      "metadata": {
        "colab": {
          "base_uri": "https://localhost:8080/"
        },
        "id": "gaaCdbTC2LiE",
        "outputId": "d9e37e04-7eee-4e15-d746-591494090fac"
      },
      "execution_count": 21,
      "outputs": [
        {
          "output_type": "execute_result",
          "data": {
            "text/plain": [
              "(838, 14)"
            ]
          },
          "metadata": {},
          "execution_count": 21
        }
      ]
    },
    {
      "cell_type": "markdown",
      "source": [
        "**Normalização**"
      ],
      "metadata": {
        "id": "Vtxz1lUi2sHp"
      }
    },
    {
      "cell_type": "code",
      "source": [
        "X_normalizado = scaler.fit_transform(X)"
      ],
      "metadata": {
        "id": "jUlqalB42vf9"
      },
      "execution_count": 22,
      "outputs": []
    },
    {
      "cell_type": "markdown",
      "source": [
        "## Aplicação do Modelo"
      ],
      "metadata": {
        "id": "Kfw8-CNv3_YN"
      }
    },
    {
      "cell_type": "code",
      "source": [
        "from sklearn.svm import SVC\n",
        "from sklearn.ensemble import RandomForestClassifier \n",
        "from sklearn.naive_bayes import BernoulliNB\n",
        "from sklearn.neighbors import KNeighborsClassifier\n",
        "from sklearn.dummy import DummyClassifier\n",
        "from sklearn.metrics import accuracy_score, recall_score, precision_score, f1_score, confusion_matrix"
      ],
      "metadata": {
        "id": "CLJXlO8V4Gw-"
      },
      "execution_count": 23,
      "outputs": []
    },
    {
      "cell_type": "code",
      "source": [
        "X_train, X_test, y_train, y_test = train_test_split( X_normalizado, y, test_size=0.30, random_state= SEED, stratify= y )"
      ],
      "metadata": {
        "id": "vAoWo4YJ4Esr"
      },
      "execution_count": 24,
      "outputs": []
    },
    {
      "cell_type": "markdown",
      "source": [
        "### DummyClassifier"
      ],
      "metadata": {
        "id": "tjZ3cJSL7I3v"
      }
    },
    {
      "cell_type": "code",
      "source": [
        "dummy = DummyClassifier()\n",
        "dummy.fit(X_train, y_train)\n",
        "acuracia = dummy.score(X_test, y_test) * 100\n",
        "\n",
        "print('A acurácia do Dummy foi de %d%%' % acuracia)"
      ],
      "metadata": {
        "colab": {
          "base_uri": "https://localhost:8080/"
        },
        "id": "RUoWDLuH7MAC",
        "outputId": "463aaf07-ee1c-4575-c45b-fee156d6fa91"
      },
      "execution_count": 25,
      "outputs": [
        {
          "output_type": "stream",
          "name": "stdout",
          "text": [
            "A acurácia do Dummy foi de 50%\n"
          ]
        }
      ]
    },
    {
      "cell_type": "markdown",
      "source": [
        "### KNN"
      ],
      "metadata": {
        "id": "36MUb0QL64nO"
      }
    },
    {
      "cell_type": "code",
      "source": [
        "model_knn = KNeighborsClassifier(metric= 'euclidean')\n",
        "\n",
        "model_knn.fit(X_train, y_train)\n",
        "previsao_knn = model_knn.predict(X_test)"
      ],
      "metadata": {
        "id": "lGsX7pbC5Qk-"
      },
      "execution_count": 26,
      "outputs": []
    },
    {
      "cell_type": "code",
      "source": [
        "print('A Acurácia do KNN foi de %d%% \\n' % (accuracy_score(y_test, previsao_knn)*100))\n",
        "print('A Precisao do KNN foi de %d%% \\n' % (precision_score(y_test, previsao_knn)*100))\n",
        "print('O Reccal_score do KNN foi de %d%% \\n' % (recall_score(y_test, previsao_knn)*100))\n",
        "print('O F1-Score do KNN foi de %d%%' % (f1_score(y_test, previsao_knn)*100))"
      ],
      "metadata": {
        "colab": {
          "base_uri": "https://localhost:8080/"
        },
        "id": "55D0j7-j8mTM",
        "outputId": "a680a54c-e145-400a-c34b-95e9e69db872"
      },
      "execution_count": 27,
      "outputs": [
        {
          "output_type": "stream",
          "name": "stdout",
          "text": [
            "A Acurácia do KNN foi de 80% \n",
            "\n",
            "A Precisao do KNN foi de 74% \n",
            "\n",
            "O Reccal_score do KNN foi de 94% \n",
            "\n",
            "O F1-Score do KNN foi de 83%\n"
          ]
        }
      ]
    },
    {
      "cell_type": "markdown",
      "source": [
        "**Matriz de confusão**"
      ],
      "metadata": {
        "id": "Mu3FNDh4-KXE"
      }
    },
    {
      "cell_type": "code",
      "source": [
        "set()\n",
        "plt.figure(figsize=(8,4), dpi=80)\n",
        "sns.heatmap(confusion_matrix(y_test, previsao_knn), annot=True, fmt='.1f').set(xlabel = 'previsto', ylabel= 'real')\n",
        "plt.show()"
      ],
      "metadata": {
        "colab": {
          "base_uri": "https://localhost:8080/",
          "height": 0
        },
        "id": "as8RDUzZ-Pk4",
        "outputId": "adf47e35-ee4e-4fb5-f9e7-2010e8891fa1"
      },
      "execution_count": 28,
      "outputs": [
        {
          "output_type": "display_data",
          "data": {
            "text/plain": [
              "<Figure size 640x320 with 2 Axes>"
            ],
            "image/png": "[encoded data removed]"
          },
          "metadata": {
            "needs_background": "light"
          }
        }
      ]
    },
    {
      "cell_type": "markdown",
      "source": [
        "### Bernoulli"
      ],
      "metadata": {
        "id": "cUi-bEaI66zs"
      }
    },
    {
      "cell_type": "code",
      "source": [
        "model_bnb = BernoulliNB(binarize= np.median(X_train))\n",
        "\n",
        "model_bnb.fit(X_train, y_train)\n",
        "previsao_bnb = model_bnb.predict(X_test)"
      ],
      "metadata": {
        "id": "bdKJkT2x69YO"
      },
      "execution_count": 29,
      "outputs": []
    },
    {
      "cell_type": "code",
      "source": [
        "print('A Acurácia do Bernoulli foi de %d%% \\n' % (accuracy_score(y_test, previsao_bnb)*100))\n",
        "print('A Precisao do Bernoulli foi de %d%% \\n' % (precision_score(y_test, previsao_bnb)*100))\n",
        "print('O Reccal_score do Bernoulli foi de %d%% \\n' % (recall_score(y_test, previsao_bnb)*100))\n",
        "print('O F1-Score do Bernoulli foi de %d%%' % (f1_score(y_test, previsao_bnb)*100))"
      ],
      "metadata": {
        "colab": {
          "base_uri": "https://localhost:8080/"
        },
        "id": "kDscurpKDMKv",
        "outputId": "ddde3c8f-b892-4923-9c26-74873f0a807f"
      },
      "execution_count": 30,
      "outputs": [
        {
          "output_type": "stream",
          "name": "stdout",
          "text": [
            "A Acurácia do Bernoulli foi de 80% \n",
            "\n",
            "A Precisao do Bernoulli foi de 73% \n",
            "\n",
            "O Reccal_score do Bernoulli foi de 93% \n",
            "\n",
            "O F1-Score do Bernoulli foi de 82%\n"
          ]
        }
      ]
    },
    {
      "cell_type": "code",
      "source": [
        "set()\n",
        "plt.figure(figsize=(8,4), dpi=80)\n",
        "sns.heatmap(confusion_matrix(y_test, previsao_bnb), annot=True, fmt='.1f').set(xlabel = 'previsto', ylabel= 'real')\n",
        "plt.show()"
      ],
      "metadata": {
        "colab": {
          "base_uri": "https://localhost:8080/",
          "height": 0
        },
        "id": "ZCjTjU4IDM-X",
        "outputId": "69bc9d28-4d81-4e5f-9191-30b4ec460334"
      },
      "execution_count": 31,
      "outputs": [
        {
          "output_type": "display_data",
          "data": {
            "text/plain": [
              "<Figure size 640x320 with 2 Axes>"
            ],
            "image/png": "[encoded data removed]"
          },
          "metadata": {
            "needs_background": "light"
          }
        }
      ]
    },
    {
      "cell_type": "markdown",
      "source": [
        "### RandomForest"
      ],
      "metadata": {
        "id": "QBqRNoEs6_ee"
      }
    },
    {
      "cell_type": "code",
      "source": [
        "model_random = RandomForestClassifier( criterion= 'entropy', n_estimators=100, random_state=SEED )\n",
        "\n",
        "model_random.fit(X_train, y_train)\n",
        "previsao_random = model_random.predict(X_test)"
      ],
      "metadata": {
        "id": "yNmUFKxz7ChI"
      },
      "execution_count": 32,
      "outputs": []
    },
    {
      "cell_type": "code",
      "source": [
        "print('A Acurácia do RandomForest foi de %d%% \\n' % (accuracy_score(y_test, previsao_random)*100))\n",
        "print('A Precisao do RandomForest foi de %d%% \\n' % (precision_score(y_test, previsao_random)*100))\n",
        "print('O Reccal_score do RandomForest foi de %d%% \\n' % (recall_score(y_test, previsao_random)*100))\n",
        "print('O F1-Score do RandomForest foi de %d%%' % (f1_score(y_test, previsao_random)*100))"
      ],
      "metadata": {
        "colab": {
          "base_uri": "https://localhost:8080/"
        },
        "id": "MIn-H46DDwWV",
        "outputId": "f97d89a1-a93f-4b8f-fbfc-1eb570e8ec11"
      },
      "execution_count": 33,
      "outputs": [
        {
          "output_type": "stream",
          "name": "stdout",
          "text": [
            "A Acurácia do RandomForest foi de 84% \n",
            "\n",
            "A Precisao do RandomForest foi de 80% \n",
            "\n",
            "O Reccal_score do RandomForest foi de 92% \n",
            "\n",
            "O F1-Score do RandomForest foi de 85%\n"
          ]
        }
      ]
    },
    {
      "cell_type": "code",
      "source": [
        "set()\n",
        "plt.figure(figsize=(8,4), dpi=80)\n",
        "sns.heatmap(confusion_matrix(y_test, previsao_random), annot=True, fmt='.1f').set(xlabel = 'previsto', ylabel= 'real')\n",
        "plt.show()"
      ],
      "metadata": {
        "colab": {
          "base_uri": "https://localhost:8080/",
          "height": 306
        },
        "id": "5TRiABX9Dzdl",
        "outputId": "08b499ab-2a27-4944-89ba-7c4c4f1eada9"
      },
      "execution_count": 34,
      "outputs": [
        {
          "output_type": "display_data",
          "data": {
            "text/plain": [
              "<Figure size 640x320 with 2 Axes>"
            ],
            "image/png": "[encoded data removed]"
          },
          "metadata": {
            "needs_background": "light"
          }
        }
      ]
    },
    {
      "cell_type": "markdown",
      "source": [
        "### SVC"
      ],
      "metadata": {
        "id": "70R5y8U27Fbe"
      }
    },
    {
      "cell_type": "code",
      "source": [
        "model_svc = SVC()\n",
        "\n",
        "model_svc.fit(X_train, y_train)\n",
        "previsao_svc = model_svc.predict(X_test)"
      ],
      "metadata": {
        "id": "iuNlB-3o7G_9"
      },
      "execution_count": 35,
      "outputs": []
    },
    {
      "cell_type": "code",
      "source": [
        "print('A Acurácia do RandomForest foi de %d%% \\n' % (accuracy_score(y_test, previsao_svc)*100))\n",
        "print('A Precisao do RandomForest foi de %d%% \\n' % (precision_score(y_test, previsao_svc)*100))\n",
        "print('O Reccal_score do RandomForest foi de %d%% \\n' % (recall_score(y_test, previsao_svc)*100))\n",
        "print('O F1-Score do RandomForest foi de %d%%' % (f1_score(y_test, previsao_svc)*100))"
      ],
      "metadata": {
        "colab": {
          "base_uri": "https://localhost:8080/"
        },
        "id": "f6iqSq7IEaiu",
        "outputId": "84e00510-1268-445f-a7b1-d130dc6762d7"
      },
      "execution_count": 36,
      "outputs": [
        {
          "output_type": "stream",
          "name": "stdout",
          "text": [
            "A Acurácia do RandomForest foi de 84% \n",
            "\n",
            "A Precisao do RandomForest foi de 76% \n",
            "\n",
            "O Reccal_score do RandomForest foi de 99% \n",
            "\n",
            "O F1-Score do RandomForest foi de 86%\n"
          ]
        }
      ]
    },
    {
      "cell_type": "code",
      "source": [
        "set()\n",
        "plt.figure(figsize=(8,4), dpi=80)\n",
        "sns.heatmap(confusion_matrix(y_test, previsao_svc), annot=True, fmt='.1f').set(xlabel = 'previsto', ylabel= 'real')\n",
        "plt.show()"
      ],
      "metadata": {
        "colab": {
          "base_uri": "https://localhost:8080/",
          "height": 0
        },
        "id": "EgS3ATuAEZ41",
        "outputId": "faa1b8d8-6d4f-40a6-87a9-3b7dc838b1a0"
      },
      "execution_count": 37,
      "outputs": [
        {
          "output_type": "display_data",
          "data": {
            "text/plain": [
              "<Figure size 640x320 with 2 Axes>"
            ],
            "image/png": "[encoded data removed]"
          },
          "metadata": {
            "needs_background": "light"
          }
        }
      ]
    },
    {
      "cell_type": "markdown",
      "source": [
        "## Aplicação com PCA"
      ],
      "metadata": {
        "id": "vCN3W1UQXSPZ"
      }
    },
    {
      "cell_type": "markdown",
      "source": [
        "PCA (Principal Component Analysis) é uma técnica de redução de dimensionalidade que permite identificar os padrões subjacentes nos dados, removendo as correlações entre as variáveis e criando um conjunto menor de variáveis chamadas de componentes principais. A técnica funciona identificando os eixos que melhor explicam a variabilidade nos dados. | Chat GPT. \n",
        "\n",
        "O objetivo desta aplicação é reduzir a dimencionalidade e verificar se os modelos obtém melhores resultados. "
      ],
      "metadata": {
        "id": "8yPV4Ri8ejfp"
      }
    },
    {
      "cell_type": "code",
      "source": [
        "from sklearn.decomposition import PCA"
      ],
      "metadata": {
        "id": "dT7QOenNXUFQ"
      },
      "execution_count": 38,
      "outputs": []
    },
    {
      "cell_type": "code",
      "source": [
        "pca = PCA( n_components = 10)\n",
        "X_pca = pca.fit_transform(X_normalizado)\n",
        "\n",
        "X_train, X_test, y_train, y_test = train_test_split( X_pca, y, test_size=0.30, random_state= SEED, stratify= y )"
      ],
      "metadata": {
        "id": "I36aixnrYygv"
      },
      "execution_count": 39,
      "outputs": []
    },
    {
      "cell_type": "markdown",
      "source": [
        "### KNN - PCA"
      ],
      "metadata": {
        "id": "kACrTLUrZWnC"
      }
    },
    {
      "cell_type": "code",
      "source": [
        "model_knn = KNeighborsClassifier(metric= 'euclidean')\n",
        "\n",
        "model_knn.fit(X_train, y_train)\n",
        "previsao_knn = model_knn.predict(X_test)"
      ],
      "metadata": {
        "id": "b9DCXOovZYPL"
      },
      "execution_count": 40,
      "outputs": []
    },
    {
      "cell_type": "code",
      "source": [
        "print('A Acurácia do KNN foi de %d%% \\n' % (accuracy_score(y_test, previsao_knn)*100))\n",
        "print('A Precisao do KNN foi de %d%% \\n' % (precision_score(y_test, previsao_knn)*100))\n",
        "print('O Reccal_score do KNN foi de %d%% \\n' % (recall_score(y_test, previsao_knn)*100))\n",
        "print('O F1-Score do KNN foi de %d%%' % (f1_score(y_test, previsao_knn)*100))"
      ],
      "metadata": {
        "colab": {
          "base_uri": "https://localhost:8080/"
        },
        "id": "4YwTBpvdZbJY",
        "outputId": "fe0b1257-cf57-4f0b-aa8c-b5dcbc88085f"
      },
      "execution_count": 41,
      "outputs": [
        {
          "output_type": "stream",
          "name": "stdout",
          "text": [
            "A Acurácia do KNN foi de 81% \n",
            "\n",
            "A Precisao do KNN foi de 76% \n",
            "\n",
            "O Reccal_score do KNN foi de 92% \n",
            "\n",
            "O F1-Score do KNN foi de 83%\n"
          ]
        }
      ]
    },
    {
      "cell_type": "markdown",
      "source": [
        "**Matriz de confusão**"
      ],
      "metadata": {
        "id": "UtIeCCfUaQbp"
      }
    },
    {
      "cell_type": "code",
      "source": [
        "set()\n",
        "plt.figure(figsize=(8,4), dpi=80)\n",
        "sns.heatmap(confusion_matrix(y_test, previsao_knn), annot=True, fmt='.1f').set(xlabel = 'previsto', ylabel= 'real')\n",
        "plt.show()"
      ],
      "metadata": {
        "colab": {
          "base_uri": "https://localhost:8080/",
          "height": 0
        },
        "id": "rVBFsyKyZex4",
        "outputId": "5601828f-1d35-4d65-c569-1aff34e819ef"
      },
      "execution_count": 42,
      "outputs": [
        {
          "output_type": "display_data",
          "data": {
            "text/plain": [
              "<Figure size 640x320 with 2 Axes>"
            ],
            "image/png": "[encoded data removed]"
          },
          "metadata": {
            "needs_background": "light"
          }
        }
      ]
    },
    {
      "cell_type": "markdown",
      "source": [
        "### Bernoulli - PCA"
      ],
      "metadata": {
        "id": "OvRVtKPrai8y"
      }
    },
    {
      "cell_type": "code",
      "source": [
        "model_bnb = BernoulliNB(binarize= np.median(X_train))\n",
        "\n",
        "model_bnb.fit(X_train, y_train)\n",
        "previsao_bnb = model_bnb.predict(X_test)"
      ],
      "metadata": {
        "id": "mfHfS818akpw"
      },
      "execution_count": 43,
      "outputs": []
    },
    {
      "cell_type": "code",
      "source": [
        "print('A Acurácia do Bernoulli foi de %d%% \\n' % (accuracy_score(y_test, previsao_bnb)*100))\n",
        "print('A Precisao do Bernoulli foi de %d%% \\n' % (precision_score(y_test, previsao_bnb)*100))\n",
        "print('O Reccal_score do Bernoulli foi de %d%% \\n' % (recall_score(y_test, previsao_bnb)*100))\n",
        "print('O F1-Score do Bernoulli foi de %d%%' % (f1_score(y_test, previsao_bnb)*100))"
      ],
      "metadata": {
        "colab": {
          "base_uri": "https://localhost:8080/"
        },
        "id": "z0kDwfpwa1Yg",
        "outputId": "0aa9d646-19fd-4e8e-804b-582b70f18c2c"
      },
      "execution_count": 44,
      "outputs": [
        {
          "output_type": "stream",
          "name": "stdout",
          "text": [
            "A Acurácia do Bernoulli foi de 77% \n",
            "\n",
            "A Precisao do Bernoulli foi de 71% \n",
            "\n",
            "O Reccal_score do Bernoulli foi de 92% \n",
            "\n",
            "O F1-Score do Bernoulli foi de 80%\n"
          ]
        }
      ]
    },
    {
      "cell_type": "code",
      "source": [
        "set()\n",
        "plt.figure(figsize=(8,4), dpi=80)\n",
        "sns.heatmap(confusion_matrix(y_test, previsao_bnb), annot=True, fmt='.1f').set(xlabel = 'previsto', ylabel= 'real')\n",
        "plt.show()"
      ],
      "metadata": {
        "colab": {
          "base_uri": "https://localhost:8080/",
          "height": 0
        },
        "id": "G0eWB2IVa3kP",
        "outputId": "b52d9e19-ab0c-4a55-ba76-c7675e6f4856"
      },
      "execution_count": 45,
      "outputs": [
        {
          "output_type": "display_data",
          "data": {
            "text/plain": [
              "<Figure size 640x320 with 2 Axes>"
            ],
            "image/png": "[encoded data removed]"
          },
          "metadata": {
            "needs_background": "light"
          }
        }
      ]
    },
    {
      "cell_type": "markdown",
      "source": [
        "### RandomForest - PCA"
      ],
      "metadata": {
        "id": "Syei3uasbFPW"
      }
    },
    {
      "cell_type": "code",
      "source": [
        "model_random = RandomForestClassifier( criterion= 'entropy', n_estimators=120, random_state=SEED )\n",
        "\n",
        "model_random.fit(X_train, y_train)\n",
        "previsao_random = model_random.predict(X_test)"
      ],
      "metadata": {
        "id": "yODIvKMsbKY4"
      },
      "execution_count": 46,
      "outputs": []
    },
    {
      "cell_type": "code",
      "source": [
        "print('A Acurácia do RandomForest foi de %d%% \\n' % (accuracy_score(y_test, previsao_random)*100))\n",
        "print('A Precisao do RandomForest foi de %d%% \\n' % (precision_score(y_test, previsao_random)*100))\n",
        "print('O Reccal_score do RandomForest foi de %d%% \\n' % (recall_score(y_test, previsao_random)*100))\n",
        "print('O F1-Score do RandomForest foi de %d%%' % (f1_score(y_test, previsao_random)*100))"
      ],
      "metadata": {
        "colab": {
          "base_uri": "https://localhost:8080/"
        },
        "id": "bRrIV9ocbOTS",
        "outputId": "5cfae2ca-596d-4a2d-beeb-7be1d50aa777"
      },
      "execution_count": 47,
      "outputs": [
        {
          "output_type": "stream",
          "name": "stdout",
          "text": [
            "A Acurácia do RandomForest foi de 83% \n",
            "\n",
            "A Precisao do RandomForest foi de 79% \n",
            "\n",
            "O Reccal_score do RandomForest foi de 90% \n",
            "\n",
            "O F1-Score do RandomForest foi de 84%\n"
          ]
        }
      ]
    },
    {
      "cell_type": "code",
      "source": [
        "set()\n",
        "plt.figure(figsize=(8,4), dpi=80)\n",
        "sns.heatmap(confusion_matrix(y_test, previsao_random), annot=True, fmt='.1f').set(xlabel = 'previsto', ylabel= 'real')\n",
        "plt.show()"
      ],
      "metadata": {
        "colab": {
          "base_uri": "https://localhost:8080/",
          "height": 306
        },
        "id": "DGqE2aKXbQLJ",
        "outputId": "5073761e-8e56-4240-ebd5-f0afec4ff75e"
      },
      "execution_count": 48,
      "outputs": [
        {
          "output_type": "display_data",
          "data": {
            "text/plain": [
              "<Figure size 640x320 with 2 Axes>"
            ],
            "image/png": "[encoded data removed]"
          },
          "metadata": {
            "needs_background": "light"
          }
        }
      ]
    },
    {
      "cell_type": "markdown",
      "source": [
        "### SVC - PCA"
      ],
      "metadata": {
        "id": "XcRVy1CWbp5j"
      }
    },
    {
      "cell_type": "code",
      "source": [
        "model_svc = SVC()\n",
        "\n",
        "model_svc.fit(X_train, y_train)\n",
        "previsao_svc = model_svc.predict(X_test)"
      ],
      "metadata": {
        "id": "W_7fFtBNbrzB"
      },
      "execution_count": 49,
      "outputs": []
    },
    {
      "cell_type": "code",
      "source": [
        "print('A Acurácia do RandomForest foi de %d%% \\n' % (accuracy_score(y_test, previsao_svc)*100))\n",
        "print('A Precisao do RandomForest foi de %d%% \\n' % (precision_score(y_test, previsao_svc)*100))\n",
        "print('O Reccal_score do RandomForest foi de %d%% \\n' % (recall_score(y_test, previsao_svc)*100))\n",
        "print('O F1-Score do RandomForest foi de %d%%' % (f1_score(y_test, previsao_svc)*100))"
      ],
      "metadata": {
        "colab": {
          "base_uri": "https://localhost:8080/"
        },
        "id": "oelR4vhdbuuI",
        "outputId": "951d9d78-3699-46cd-b7e9-8dd6c1aba393"
      },
      "execution_count": 50,
      "outputs": [
        {
          "output_type": "stream",
          "name": "stdout",
          "text": [
            "A Acurácia do RandomForest foi de 84% \n",
            "\n",
            "A Precisao do RandomForest foi de 76% \n",
            "\n",
            "O Reccal_score do RandomForest foi de 99% \n",
            "\n",
            "O F1-Score do RandomForest foi de 86%\n"
          ]
        }
      ]
    },
    {
      "cell_type": "code",
      "source": [
        "set()\n",
        "plt.figure(figsize=(8,4), dpi=80)\n",
        "sns.heatmap(confusion_matrix(y_test, previsao_svc), annot=True, fmt='.1f').set(xlabel = 'previsto', ylabel= 'real')\n",
        "plt.show()"
      ],
      "metadata": {
        "colab": {
          "base_uri": "https://localhost:8080/",
          "height": 0
        },
        "id": "wRTcJxLbbwRo",
        "outputId": "1451fb83-67bc-484c-af06-637b1ab370ed"
      },
      "execution_count": 51,
      "outputs": [
        {
          "output_type": "display_data",
          "data": {
            "text/plain": [
              "<Figure size 640x320 with 2 Axes>"
            ],
            "image/png": "[encoded data removed]"
          },
          "metadata": {
            "needs_background": "light"
          }
        }
      ]
    },
    {
      "cell_type": "markdown",
      "source": [
        "## Comentários"
      ],
      "metadata": {
        "id": "TfZH0s_qipm6"
      }
    },
    {
      "cell_type": "markdown",
      "source": [
        "Foram utilizados 4 modelos de classificação, entre eles o RandomForest obteve as melhores métricas. Um dos motivos é que o RandomForest não sensível a outliers e por esse motivo conseguiu ter bom balanceamento dos dados para realizar a classificação. \n",
        "\n",
        "Foi utilizado o PCA como técnica para diminuir as dimensões dos dados e avaliar se o algoritmo gerava melhores métricas. O PCA contribuir para maior velocidade no processamento e seleção de variáveis com baixa correlação. No entanto, por se tratar de um conjunto de dados pequeno, a redução de dimencionalidade impactou negativamente as métricas e o trainamento com o dataset completo permaneceu sendo o melhor. \n",
        "\n",
        "Esse que desenvolvemos irá retornar a classificação de clientes aptos ou inaptos para obtenção de crédito, por esse motivo, as métricas mais relevantes são a Acurácia e a Precisão. A primeira mede o nível geral de acerto nas classificações e o segundo na definição dos clientes aptos a receber o crédito. \n",
        "\n",
        "Caso tenhamos muitos \"falsos positivos\", o algoritmo concederá crédito a clientes inaptos, o que pode gerar perda de dinheiro devido ao alto risco. E quando o algoritmo tiver muitos falsos negativos, pode perder boas oportunidades de gerar crédito para bons pagadores. Por esse motivo o ideal é manter os dois níveis baixos.\n",
        "\n",
        "Por essas razões, é recomendado o uso do RandomForest Classifier para inicio dos testes na empresa ( Acurácia 84% | Precisao 80% )"
      ],
      "metadata": {
        "id": "SO5TAjnPsa9-"
      }
    }
  ]
}