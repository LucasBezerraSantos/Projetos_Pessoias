{
  "nbformat": 4,
  "nbformat_minor": 0,
  "metadata": {
    "colab": {
      "provenance": [],
      "collapsed_sections": [
        "JhLk8Y9l7dpX",
        "ne1YHzl3ua0b",
        "LGY0hnpnw5ri",
        "Bg5V5Fmg7Jb1",
        "3yami6Mc7N6L",
        "KBWv8JPryYFX",
        "tjZ3cJSL7I3v",
        "36MUb0QL64nO",
        "cUi-bEaI66zs",
        "QBqRNoEs6_ee",
        "vCN3W1UQXSPZ",
        "kACrTLUrZWnC",
        "OvRVtKPrai8y",
        "Syei3uasbFPW",
        "XcRVy1CWbp5j",
        "B1P1PKjQlRX4",
        "2EcRdXJ7oL-n",
        "Ez0AtYZdwIc7",
        "uTJueTxjBrtf",
        "Jfeo5PL2hmA9",
        "z-p4H-Ld-Voj",
        "4stdL10G-Y4c",
        "uETubQFf-dDG",
        "TfZH0s_qipm6",
        "GzCbraqH-IML",
        "whh4W8gLOih9",
        "qJU2VNu0Sz-0"
      ],
      "authorship_tag": "ABX9TyMqvjjji6p0P59WZubQzpW0",
      "include_colab_link": true
    },
    "kernelspec": {
      "name": "python3",
      "display_name": "Python 3"
    },
    "language_info": {
      "name": "python"
    }
  },
  "cells": [
    {
      "cell_type": "markdown",
      "metadata": {
        "id": "view-in-github",
        "colab_type": "text"
      },
      "source": [
        "<a href=\"https://colab.research.google.com/github/LucasBezerraSantos/Projetos_Pessoias/blob/master/Analise_de_credito_imobiliario.ipynb\" target=\"_parent\"><img src=\"https://colab.research.google.com/assets/colab-badge.svg\" alt=\"Open In Colab\"/></a>"
      ]
    },
    {
      "cell_type": "markdown",
      "source": [
        "**Tipo de negócio:** Empresa Dream Housing Finance, a empresa lida com todos os empréstimos para habitação. Eles estão presentes em todas as áreas urbanas, semi-urbanas e rurais. O cliente aplica-se primeiro para um empréstimo à habitação depois que a empresa valida a elegibilidade do cliente para um empréstimo | Kaggle"
      ],
      "metadata": {
        "id": "xLrzskAJuPbt"
      }
    },
    {
      "cell_type": "markdown",
      "source": [
        "**Problema:** A empresa deseja automatizar o processo de elegibilidade do empréstimo (em tempo real) com base nos detalhes do cliente fornecidos durante o preenchimento do formulário de inscrição on-line. Esses detalhes são sexo, estado civil, escolaridade, número de dependentes, renda, valor do empréstimo, histórico de crédito e outros. Para automatizar esse processo, eles criaram um problema para identificar os segmentos de clientes elegíveis para valores de empréstimo para atingir esses clientes especificamente."
      ],
      "metadata": {
        "id": "-_kH79FNuwE6"
      }
    },
    {
      "cell_type": "markdown",
      "source": [
        "# Modelagem"
      ],
      "metadata": {
        "id": "JhLk8Y9l7dpX"
      }
    },
    {
      "cell_type": "markdown",
      "source": [
        "## Análise exploratória e transformação de dados"
      ],
      "metadata": {
        "id": "mgGJE2OI-YHi"
      }
    },
    {
      "cell_type": "markdown",
      "source": [
        "### Bibliotécas e Leitura dos Dados"
      ],
      "metadata": {
        "id": "ne1YHzl3ua0b"
      }
    },
    {
      "cell_type": "code",
      "execution_count": 2,
      "metadata": {
        "colab": {
          "base_uri": "https://localhost:8080/"
        },
        "id": "n5ra6Mc2tzeP",
        "outputId": "bdd20e66-2501-4d73-eb15-d1a0540bbfb3"
      },
      "outputs": [
        {
          "output_type": "stream",
          "name": "stdout",
          "text": [
            "Mounted at drive_content\n"
          ]
        }
      ],
      "source": [
        "from google.colab import drive\n",
        "drive.mount('drive_content')"
      ]
    },
    {
      "cell_type": "code",
      "source": [
        "import pandas as pd\n",
        "import numpy as np\n",
        "import matplotlib.pyplot as plt\n",
        "import seaborn as sns"
      ],
      "metadata": {
        "id": "qADyd5SKwScU"
      },
      "execution_count": 3,
      "outputs": []
    },
    {
      "cell_type": "code",
      "source": [
        "dados_imovel_train = pd.read_csv('/content/drive_content/MyDrive/Conjuntos_de_Dados/Kaggle/loan_sanction_train.csv')\n",
        "dados_imovel_test = pd.read_csv('/content/drive_content/MyDrive/Conjuntos_de_Dados/Kaggle/loan_sanction_test.csv')"
      ],
      "metadata": {
        "id": "oAolXNrGweLb"
      },
      "execution_count": 4,
      "outputs": []
    },
    {
      "cell_type": "markdown",
      "source": [
        "### Exploração de dados"
      ],
      "metadata": {
        "id": "LGY0hnpnw5ri"
      }
    },
    {
      "cell_type": "code",
      "source": [
        "dados_imovel_train.shape, dados_imovel_test.shape"
      ],
      "metadata": {
        "colab": {
          "base_uri": "https://localhost:8080/"
        },
        "id": "ctoReNq_w1gu",
        "outputId": "50d0d51f-af7c-4f51-b0a2-4a3f476614ca"
      },
      "execution_count": 5,
      "outputs": [
        {
          "output_type": "execute_result",
          "data": {
            "text/plain": [
              "((614, 13), (367, 12))"
            ]
          },
          "metadata": {},
          "execution_count": 5
        }
      ]
    },
    {
      "cell_type": "code",
      "source": [
        "dados_imovel_train.head()"
      ],
      "metadata": {
        "colab": {
          "base_uri": "https://localhost:8080/",
          "height": 0
        },
        "id": "LlSing_ww4Rk",
        "outputId": "ac47745d-a13c-4de7-bd17-dcd51fc76448"
      },
      "execution_count": 6,
      "outputs": [
        {
          "output_type": "execute_result",
          "data": {
            "text/plain": [
              "    Loan_ID Gender Married Dependents     Education Self_Employed  \\\n",
              "0  LP001002   Male      No          0      Graduate            No   \n",
              "1  LP001003   Male     Yes          1      Graduate            No   \n",
              "2  LP001005   Male     Yes          0      Graduate           Yes   \n",
              "3  LP001006   Male     Yes          0  Not Graduate            No   \n",
              "4  LP001008   Male      No          0      Graduate            No   \n",
              "\n",
              "   ApplicantIncome  CoapplicantIncome  LoanAmount  Loan_Amount_Term  \\\n",
              "0             5849                0.0         NaN             360.0   \n",
              "1             4583             1508.0       128.0             360.0   \n",
              "2             3000                0.0        66.0             360.0   \n",
              "3             2583             2358.0       120.0             360.0   \n",
              "4             6000                0.0       141.0             360.0   \n",
              "\n",
              "   Credit_History Property_Area Loan_Status  \n",
              "0             1.0         Urban           Y  \n",
              "1             1.0         Rural           N  \n",
              "2             1.0         Urban           Y  \n",
              "3             1.0         Urban           Y  \n",
              "4             1.0         Urban           Y  "
            ],
            "text/html": [
              "\n",
              "  <div id=\"df-13e01f94-533b-4cbe-86e7-dfc239950caa\">\n",
              "    <div class=\"colab-df-container\">\n",
              "      <div>\n",
              "<style scoped>\n",
              "    .dataframe tbody tr th:only-of-type {\n",
              "        vertical-align: middle;\n",
              "    }\n",
              "\n",
              "    .dataframe tbody tr th {\n",
              "        vertical-align: top;\n",
              "    }\n",
              "\n",
              "    .dataframe thead th {\n",
              "        text-align: right;\n",
              "    }\n",
              "</style>\n",
              "<table border=\"1\" class=\"dataframe\">\n",
              "  <thead>\n",
              "    <tr style=\"text-align: right;\">\n",
              "      <th></th>\n",
              "      <th>Loan_ID</th>\n",
              "      <th>Gender</th>\n",
              "      <th>Married</th>\n",
              "      <th>Dependents</th>\n",
              "      <th>Education</th>\n",
              "      <th>Self_Employed</th>\n",
              "      <th>ApplicantIncome</th>\n",
              "      <th>CoapplicantIncome</th>\n",
              "      <th>LoanAmount</th>\n",
              "      <th>Loan_Amount_Term</th>\n",
              "      <th>Credit_History</th>\n",
              "      <th>Property_Area</th>\n",
              "      <th>Loan_Status</th>\n",
              "    </tr>\n",
              "  </thead>\n",
              "  <tbody>\n",
              "    <tr>\n",
              "      <th>0</th>\n",
              "      <td>LP001002</td>\n",
              "      <td>Male</td>\n",
              "      <td>No</td>\n",
              "      <td>0</td>\n",
              "      <td>Graduate</td>\n",
              "      <td>No</td>\n",
              "      <td>5849</td>\n",
              "      <td>0.0</td>\n",
              "      <td>NaN</td>\n",
              "      <td>360.0</td>\n",
              "      <td>1.0</td>\n",
              "      <td>Urban</td>\n",
              "      <td>Y</td>\n",
              "    </tr>\n",
              "    <tr>\n",
              "      <th>1</th>\n",
              "      <td>LP001003</td>\n",
              "      <td>Male</td>\n",
              "      <td>Yes</td>\n",
              "      <td>1</td>\n",
              "      <td>Graduate</td>\n",
              "      <td>No</td>\n",
              "      <td>4583</td>\n",
              "      <td>1508.0</td>\n",
              "      <td>128.0</td>\n",
              "      <td>360.0</td>\n",
              "      <td>1.0</td>\n",
              "      <td>Rural</td>\n",
              "      <td>N</td>\n",
              "    </tr>\n",
              "    <tr>\n",
              "      <th>2</th>\n",
              "      <td>LP001005</td>\n",
              "      <td>Male</td>\n",
              "      <td>Yes</td>\n",
              "      <td>0</td>\n",
              "      <td>Graduate</td>\n",
              "      <td>Yes</td>\n",
              "      <td>3000</td>\n",
              "      <td>0.0</td>\n",
              "      <td>66.0</td>\n",
              "      <td>360.0</td>\n",
              "      <td>1.0</td>\n",
              "      <td>Urban</td>\n",
              "      <td>Y</td>\n",
              "    </tr>\n",
              "    <tr>\n",
              "      <th>3</th>\n",
              "      <td>LP001006</td>\n",
              "      <td>Male</td>\n",
              "      <td>Yes</td>\n",
              "      <td>0</td>\n",
              "      <td>Not Graduate</td>\n",
              "      <td>No</td>\n",
              "      <td>2583</td>\n",
              "      <td>2358.0</td>\n",
              "      <td>120.0</td>\n",
              "      <td>360.0</td>\n",
              "      <td>1.0</td>\n",
              "      <td>Urban</td>\n",
              "      <td>Y</td>\n",
              "    </tr>\n",
              "    <tr>\n",
              "      <th>4</th>\n",
              "      <td>LP001008</td>\n",
              "      <td>Male</td>\n",
              "      <td>No</td>\n",
              "      <td>0</td>\n",
              "      <td>Graduate</td>\n",
              "      <td>No</td>\n",
              "      <td>6000</td>\n",
              "      <td>0.0</td>\n",
              "      <td>141.0</td>\n",
              "      <td>360.0</td>\n",
              "      <td>1.0</td>\n",
              "      <td>Urban</td>\n",
              "      <td>Y</td>\n",
              "    </tr>\n",
              "  </tbody>\n",
              "</table>\n",
              "</div>\n",
              "      <button class=\"colab-df-convert\" onclick=\"convertToInteractive('df-13e01f94-533b-4cbe-86e7-dfc239950caa')\"\n",
              "              title=\"Convert this dataframe to an interactive table.\"\n",
              "              style=\"display:none;\">\n",
              "        \n",
              "  <svg xmlns=\"http://www.w3.org/2000/svg\" height=\"24px\"viewBox=\"0 0 24 24\"\n",
              "       width=\"24px\">\n",
              "    <path d=\"M0 0h24v24H0V0z\" fill=\"none\"/>\n",
              "    <path d=\"M18.56 5.44l.94 2.06.94-2.06 2.06-.94-2.06-.94-.94-2.06-.94 2.06-2.06.94zm-11 1L8.5 8.5l.94-2.06 2.06-.94-2.06-.94L8.5 2.5l-.94 2.06-2.06.94zm10 10l.94 2.06.94-2.06 2.06-.94-2.06-.94-.94-2.06-.94 2.06-2.06.94z\"/><path d=\"M17.41 7.96l-1.37-1.37c-.4-.4-.92-.59-1.43-.59-.52 0-1.04.2-1.43.59L10.3 9.45l-7.72 7.72c-.78.78-.78 2.05 0 2.83L4 21.41c.39.39.9.59 1.41.59.51 0 1.02-.2 1.41-.59l7.78-7.78 2.81-2.81c.8-.78.8-2.07 0-2.86zM5.41 20L4 18.59l7.72-7.72 1.47 1.35L5.41 20z\"/>\n",
              "  </svg>\n",
              "      </button>\n",
              "      \n",
              "  <style>\n",
              "    .colab-df-container {\n",
              "      display:flex;\n",
              "      flex-wrap:wrap;\n",
              "      gap: 12px;\n",
              "    }\n",
              "\n",
              "    .colab-df-convert {\n",
              "      background-color: #E8F0FE;\n",
              "      border: none;\n",
              "      border-radius: 50%;\n",
              "      cursor: pointer;\n",
              "      display: none;\n",
              "      fill: #1967D2;\n",
              "      height: 32px;\n",
              "      padding: 0 0 0 0;\n",
              "      width: 32px;\n",
              "    }\n",
              "\n",
              "    .colab-df-convert:hover {\n",
              "      background-color: #E2EBFA;\n",
              "      box-shadow: 0px 1px 2px rgba(60, 64, 67, 0.3), 0px 1px 3px 1px rgba(60, 64, 67, 0.15);\n",
              "      fill: #174EA6;\n",
              "    }\n",
              "\n",
              "    [theme=dark] .colab-df-convert {\n",
              "      background-color: #3B4455;\n",
              "      fill: #D2E3FC;\n",
              "    }\n",
              "\n",
              "    [theme=dark] .colab-df-convert:hover {\n",
              "      background-color: #434B5C;\n",
              "      box-shadow: 0px 1px 3px 1px rgba(0, 0, 0, 0.15);\n",
              "      filter: drop-shadow(0px 1px 2px rgba(0, 0, 0, 0.3));\n",
              "      fill: #FFFFFF;\n",
              "    }\n",
              "  </style>\n",
              "\n",
              "      <script>\n",
              "        const buttonEl =\n",
              "          document.querySelector('#df-13e01f94-533b-4cbe-86e7-dfc239950caa button.colab-df-convert');\n",
              "        buttonEl.style.display =\n",
              "          google.colab.kernel.accessAllowed ? 'block' : 'none';\n",
              "\n",
              "        async function convertToInteractive(key) {\n",
              "          const element = document.querySelector('#df-13e01f94-533b-4cbe-86e7-dfc239950caa');\n",
              "          const dataTable =\n",
              "            await google.colab.kernel.invokeFunction('convertToInteractive',\n",
              "                                                     [key], {});\n",
              "          if (!dataTable) return;\n",
              "\n",
              "          const docLinkHtml = 'Like what you see? Visit the ' +\n",
              "            '<a target=\"_blank\" href=https://colab.research.google.com/notebooks/data_table.ipynb>data table notebook</a>'\n",
              "            + ' to learn more about interactive tables.';\n",
              "          element.innerHTML = '';\n",
              "          dataTable['output_type'] = 'display_data';\n",
              "          await google.colab.output.renderOutput(dataTable, element);\n",
              "          const docLink = document.createElement('div');\n",
              "          docLink.innerHTML = docLinkHtml;\n",
              "          element.appendChild(docLink);\n",
              "        }\n",
              "      </script>\n",
              "    </div>\n",
              "  </div>\n",
              "  "
            ]
          },
          "metadata": {},
          "execution_count": 6
        }
      ]
    },
    {
      "cell_type": "markdown",
      "source": [
        "### Transformação de dados"
      ],
      "metadata": {
        "id": "Bg5V5Fmg7Jb1"
      }
    },
    {
      "cell_type": "code",
      "source": [
        "colunas_renomeadas = { \"No\": 0, \"Yes\": 1, \"Male\": 0, \"Female\": 1, \"N\": 0, \"Y\": 1, \"Not Graduate\": 0, \"Graduate\": 1, '3+': 3 }"
      ],
      "metadata": {
        "id": "9WYiLUPNxRGu"
      },
      "execution_count": 7,
      "outputs": []
    },
    {
      "cell_type": "code",
      "source": [
        "dados_train_convert = dados_imovel_train[[ 'Gender', 'Married', 'Education', 'Self_Employed', 'Dependents', 'Loan_Status' ]].replace(colunas_renomeadas)\n",
        "dados_imovel_train[['Rural',\t'Semiurban',\t'Urban']] = pd.get_dummies(dados_imovel_train.Property_Area)\n",
        "dados_imovel_train.drop([ 'Loan_ID', 'Gender', 'Married', 'Education', 'Self_Employed', 'Loan_Status', 'Property_Area', 'Dependents' ], axis=1, inplace=True)"
      ],
      "metadata": {
        "id": "BT9eQKp10Ubz"
      },
      "execution_count": 8,
      "outputs": []
    },
    {
      "cell_type": "code",
      "source": [
        "dados_imovel_num = pd.concat([dados_imovel_train, dados_train_convert], axis=1)"
      ],
      "metadata": {
        "id": "bFuU2AVk2S-8"
      },
      "execution_count": 9,
      "outputs": []
    },
    {
      "cell_type": "code",
      "source": [
        "dados_imovel_num.head()"
      ],
      "metadata": {
        "colab": {
          "base_uri": "https://localhost:8080/",
          "height": 0
        },
        "id": "FiqLg19S3vZW",
        "outputId": "278e740c-5eac-4ec6-a2b8-cd10b0df03f7"
      },
      "execution_count": 10,
      "outputs": [
        {
          "output_type": "execute_result",
          "data": {
            "text/plain": [
              "   ApplicantIncome  CoapplicantIncome  LoanAmount  Loan_Amount_Term  \\\n",
              "0             5849                0.0         NaN             360.0   \n",
              "1             4583             1508.0       128.0             360.0   \n",
              "2             3000                0.0        66.0             360.0   \n",
              "3             2583             2358.0       120.0             360.0   \n",
              "4             6000                0.0       141.0             360.0   \n",
              "\n",
              "   Credit_History  Rural  Semiurban  Urban  Gender  Married  Education  \\\n",
              "0             1.0      0          0      1     0.0      0.0          1   \n",
              "1             1.0      1          0      0     0.0      1.0          1   \n",
              "2             1.0      0          0      1     0.0      1.0          1   \n",
              "3             1.0      0          0      1     0.0      1.0          0   \n",
              "4             1.0      0          0      1     0.0      0.0          1   \n",
              "\n",
              "   Self_Employed Dependents  Loan_Status  \n",
              "0            0.0          0            1  \n",
              "1            0.0          1            0  \n",
              "2            1.0          0            1  \n",
              "3            0.0          0            1  \n",
              "4            0.0          0            1  "
            ],
            "text/html": [
              "\n",
              "  <div id=\"df-6a9e83ef-27d7-4ce4-9761-666be6829fff\">\n",
              "    <div class=\"colab-df-container\">\n",
              "      <div>\n",
              "<style scoped>\n",
              "    .dataframe tbody tr th:only-of-type {\n",
              "        vertical-align: middle;\n",
              "    }\n",
              "\n",
              "    .dataframe tbody tr th {\n",
              "        vertical-align: top;\n",
              "    }\n",
              "\n",
              "    .dataframe thead th {\n",
              "        text-align: right;\n",
              "    }\n",
              "</style>\n",
              "<table border=\"1\" class=\"dataframe\">\n",
              "  <thead>\n",
              "    <tr style=\"text-align: right;\">\n",
              "      <th></th>\n",
              "      <th>ApplicantIncome</th>\n",
              "      <th>CoapplicantIncome</th>\n",
              "      <th>LoanAmount</th>\n",
              "      <th>Loan_Amount_Term</th>\n",
              "      <th>Credit_History</th>\n",
              "      <th>Rural</th>\n",
              "      <th>Semiurban</th>\n",
              "      <th>Urban</th>\n",
              "      <th>Gender</th>\n",
              "      <th>Married</th>\n",
              "      <th>Education</th>\n",
              "      <th>Self_Employed</th>\n",
              "      <th>Dependents</th>\n",
              "      <th>Loan_Status</th>\n",
              "    </tr>\n",
              "  </thead>\n",
              "  <tbody>\n",
              "    <tr>\n",
              "      <th>0</th>\n",
              "      <td>5849</td>\n",
              "      <td>0.0</td>\n",
              "      <td>NaN</td>\n",
              "      <td>360.0</td>\n",
              "      <td>1.0</td>\n",
              "      <td>0</td>\n",
              "      <td>0</td>\n",
              "      <td>1</td>\n",
              "      <td>0.0</td>\n",
              "      <td>0.0</td>\n",
              "      <td>1</td>\n",
              "      <td>0.0</td>\n",
              "      <td>0</td>\n",
              "      <td>1</td>\n",
              "    </tr>\n",
              "    <tr>\n",
              "      <th>1</th>\n",
              "      <td>4583</td>\n",
              "      <td>1508.0</td>\n",
              "      <td>128.0</td>\n",
              "      <td>360.0</td>\n",
              "      <td>1.0</td>\n",
              "      <td>1</td>\n",
              "      <td>0</td>\n",
              "      <td>0</td>\n",
              "      <td>0.0</td>\n",
              "      <td>1.0</td>\n",
              "      <td>1</td>\n",
              "      <td>0.0</td>\n",
              "      <td>1</td>\n",
              "      <td>0</td>\n",
              "    </tr>\n",
              "    <tr>\n",
              "      <th>2</th>\n",
              "      <td>3000</td>\n",
              "      <td>0.0</td>\n",
              "      <td>66.0</td>\n",
              "      <td>360.0</td>\n",
              "      <td>1.0</td>\n",
              "      <td>0</td>\n",
              "      <td>0</td>\n",
              "      <td>1</td>\n",
              "      <td>0.0</td>\n",
              "      <td>1.0</td>\n",
              "      <td>1</td>\n",
              "      <td>1.0</td>\n",
              "      <td>0</td>\n",
              "      <td>1</td>\n",
              "    </tr>\n",
              "    <tr>\n",
              "      <th>3</th>\n",
              "      <td>2583</td>\n",
              "      <td>2358.0</td>\n",
              "      <td>120.0</td>\n",
              "      <td>360.0</td>\n",
              "      <td>1.0</td>\n",
              "      <td>0</td>\n",
              "      <td>0</td>\n",
              "      <td>1</td>\n",
              "      <td>0.0</td>\n",
              "      <td>1.0</td>\n",
              "      <td>0</td>\n",
              "      <td>0.0</td>\n",
              "      <td>0</td>\n",
              "      <td>1</td>\n",
              "    </tr>\n",
              "    <tr>\n",
              "      <th>4</th>\n",
              "      <td>6000</td>\n",
              "      <td>0.0</td>\n",
              "      <td>141.0</td>\n",
              "      <td>360.0</td>\n",
              "      <td>1.0</td>\n",
              "      <td>0</td>\n",
              "      <td>0</td>\n",
              "      <td>1</td>\n",
              "      <td>0.0</td>\n",
              "      <td>0.0</td>\n",
              "      <td>1</td>\n",
              "      <td>0.0</td>\n",
              "      <td>0</td>\n",
              "      <td>1</td>\n",
              "    </tr>\n",
              "  </tbody>\n",
              "</table>\n",
              "</div>\n",
              "      <button class=\"colab-df-convert\" onclick=\"convertToInteractive('df-6a9e83ef-27d7-4ce4-9761-666be6829fff')\"\n",
              "              title=\"Convert this dataframe to an interactive table.\"\n",
              "              style=\"display:none;\">\n",
              "        \n",
              "  <svg xmlns=\"http://www.w3.org/2000/svg\" height=\"24px\"viewBox=\"0 0 24 24\"\n",
              "       width=\"24px\">\n",
              "    <path d=\"M0 0h24v24H0V0z\" fill=\"none\"/>\n",
              "    <path d=\"M18.56 5.44l.94 2.06.94-2.06 2.06-.94-2.06-.94-.94-2.06-.94 2.06-2.06.94zm-11 1L8.5 8.5l.94-2.06 2.06-.94-2.06-.94L8.5 2.5l-.94 2.06-2.06.94zm10 10l.94 2.06.94-2.06 2.06-.94-2.06-.94-.94-2.06-.94 2.06-2.06.94z\"/><path d=\"M17.41 7.96l-1.37-1.37c-.4-.4-.92-.59-1.43-.59-.52 0-1.04.2-1.43.59L10.3 9.45l-7.72 7.72c-.78.78-.78 2.05 0 2.83L4 21.41c.39.39.9.59 1.41.59.51 0 1.02-.2 1.41-.59l7.78-7.78 2.81-2.81c.8-.78.8-2.07 0-2.86zM5.41 20L4 18.59l7.72-7.72 1.47 1.35L5.41 20z\"/>\n",
              "  </svg>\n",
              "      </button>\n",
              "      \n",
              "  <style>\n",
              "    .colab-df-container {\n",
              "      display:flex;\n",
              "      flex-wrap:wrap;\n",
              "      gap: 12px;\n",
              "    }\n",
              "\n",
              "    .colab-df-convert {\n",
              "      background-color: #E8F0FE;\n",
              "      border: none;\n",
              "      border-radius: 50%;\n",
              "      cursor: pointer;\n",
              "      display: none;\n",
              "      fill: #1967D2;\n",
              "      height: 32px;\n",
              "      padding: 0 0 0 0;\n",
              "      width: 32px;\n",
              "    }\n",
              "\n",
              "    .colab-df-convert:hover {\n",
              "      background-color: #E2EBFA;\n",
              "      box-shadow: 0px 1px 2px rgba(60, 64, 67, 0.3), 0px 1px 3px 1px rgba(60, 64, 67, 0.15);\n",
              "      fill: #174EA6;\n",
              "    }\n",
              "\n",
              "    [theme=dark] .colab-df-convert {\n",
              "      background-color: #3B4455;\n",
              "      fill: #D2E3FC;\n",
              "    }\n",
              "\n",
              "    [theme=dark] .colab-df-convert:hover {\n",
              "      background-color: #434B5C;\n",
              "      box-shadow: 0px 1px 3px 1px rgba(0, 0, 0, 0.15);\n",
              "      filter: drop-shadow(0px 1px 2px rgba(0, 0, 0, 0.3));\n",
              "      fill: #FFFFFF;\n",
              "    }\n",
              "  </style>\n",
              "\n",
              "      <script>\n",
              "        const buttonEl =\n",
              "          document.querySelector('#df-6a9e83ef-27d7-4ce4-9761-666be6829fff button.colab-df-convert');\n",
              "        buttonEl.style.display =\n",
              "          google.colab.kernel.accessAllowed ? 'block' : 'none';\n",
              "\n",
              "        async function convertToInteractive(key) {\n",
              "          const element = document.querySelector('#df-6a9e83ef-27d7-4ce4-9761-666be6829fff');\n",
              "          const dataTable =\n",
              "            await google.colab.kernel.invokeFunction('convertToInteractive',\n",
              "                                                     [key], {});\n",
              "          if (!dataTable) return;\n",
              "\n",
              "          const docLinkHtml = 'Like what you see? Visit the ' +\n",
              "            '<a target=\"_blank\" href=https://colab.research.google.com/notebooks/data_table.ipynb>data table notebook</a>'\n",
              "            + ' to learn more about interactive tables.';\n",
              "          element.innerHTML = '';\n",
              "          dataTable['output_type'] = 'display_data';\n",
              "          await google.colab.output.renderOutput(dataTable, element);\n",
              "          const docLink = document.createElement('div');\n",
              "          docLink.innerHTML = docLinkHtml;\n",
              "          element.appendChild(docLink);\n",
              "        }\n",
              "      </script>\n",
              "    </div>\n",
              "  </div>\n",
              "  "
            ]
          },
          "metadata": {},
          "execution_count": 10
        }
      ]
    },
    {
      "cell_type": "markdown",
      "source": [
        "### Tratamento de dados nulos"
      ],
      "metadata": {
        "id": "3yami6Mc7N6L"
      }
    },
    {
      "cell_type": "code",
      "source": [
        "dados_imovel_num.isnull().sum()"
      ],
      "metadata": {
        "colab": {
          "base_uri": "https://localhost:8080/"
        },
        "id": "VT2LFdKg6uS5",
        "outputId": "2b96e28e-5e44-485f-b0d3-d0f83d0137c7"
      },
      "execution_count": 11,
      "outputs": [
        {
          "output_type": "execute_result",
          "data": {
            "text/plain": [
              "ApplicantIncome       0\n",
              "CoapplicantIncome     0\n",
              "LoanAmount           22\n",
              "Loan_Amount_Term     14\n",
              "Credit_History       50\n",
              "Rural                 0\n",
              "Semiurban             0\n",
              "Urban                 0\n",
              "Gender               13\n",
              "Married               3\n",
              "Education             0\n",
              "Self_Employed        32\n",
              "Dependents           15\n",
              "Loan_Status           0\n",
              "dtype: int64"
            ]
          },
          "metadata": {},
          "execution_count": 11
        }
      ]
    },
    {
      "cell_type": "markdown",
      "source": [
        "**Dados em menor quantidade serão apagados**"
      ],
      "metadata": {
        "id": "41BYmHYvxedp"
      }
    },
    {
      "cell_type": "code",
      "source": [
        "drop_married = dados_imovel_num.loc[dados_imovel_num['Married'].isnull() == True]\n",
        "dados_imovel_num.drop(drop_married.index, axis=0, inplace=True)"
      ],
      "metadata": {
        "id": "aDFvxh_jqUjc"
      },
      "execution_count": 12,
      "outputs": []
    },
    {
      "cell_type": "markdown",
      "source": [
        "**As colunas que possuem dados vazios representam 0 e 1, \"não\" ou \"sim\", são dados categóricos e não contínuos. Por esse motivo é mais eficiênte usar a moda para preencher os dados nulos, com os dados que tem mais probalidade de ocorrer.**"
      ],
      "metadata": {
        "id": "ka_VJsZ8xj3r"
      }
    },
    {
      "cell_type": "code",
      "source": [
        "for indice in range(len(dados_imovel_num.columns)):\n",
        "  moda = int(dados_imovel_num[dados_imovel_num.columns[indice]].mode())\n",
        "  dados_imovel_num[dados_imovel_num.columns[indice]] = dados_imovel_num[dados_imovel_num.columns[indice]].fillna(moda)"
      ],
      "metadata": {
        "id": "4M-HB1Z7vQ8B"
      },
      "execution_count": 13,
      "outputs": []
    },
    {
      "cell_type": "code",
      "source": [
        "dados_imovel_num.isna().sum()"
      ],
      "metadata": {
        "colab": {
          "base_uri": "https://localhost:8080/"
        },
        "id": "chI183netsAd",
        "outputId": "a4877fb2-22c4-4035-e70b-7a8076cdbfcb"
      },
      "execution_count": 14,
      "outputs": [
        {
          "output_type": "execute_result",
          "data": {
            "text/plain": [
              "ApplicantIncome      0\n",
              "CoapplicantIncome    0\n",
              "LoanAmount           0\n",
              "Loan_Amount_Term     0\n",
              "Credit_History       0\n",
              "Rural                0\n",
              "Semiurban            0\n",
              "Urban                0\n",
              "Gender               0\n",
              "Married              0\n",
              "Education            0\n",
              "Self_Employed        0\n",
              "Dependents           0\n",
              "Loan_Status          0\n",
              "dtype: int64"
            ]
          },
          "metadata": {},
          "execution_count": 14
        }
      ]
    },
    {
      "cell_type": "markdown",
      "source": [
        "**Alterando dados float para int antes de usar a técnica de balanceamento SMOTE**"
      ],
      "metadata": {
        "id": "Y4AOPCOSmLTs"
      }
    },
    {
      "cell_type": "code",
      "source": [
        "dados_imovel_num = dados_imovel_num.astype(int)\n",
        "dados_imovel_num.info() "
      ],
      "metadata": {
        "colab": {
          "base_uri": "https://localhost:8080/"
        },
        "id": "McVY_OY-mYvj",
        "outputId": "7107c50e-29a1-45ef-e863-349826398edb"
      },
      "execution_count": 15,
      "outputs": [
        {
          "output_type": "stream",
          "name": "stdout",
          "text": [
            "<class 'pandas.core.frame.DataFrame'>\n",
            "Int64Index: 611 entries, 0 to 613\n",
            "Data columns (total 14 columns):\n",
            " #   Column             Non-Null Count  Dtype\n",
            "---  ------             --------------  -----\n",
            " 0   ApplicantIncome    611 non-null    int64\n",
            " 1   CoapplicantIncome  611 non-null    int64\n",
            " 2   LoanAmount         611 non-null    int64\n",
            " 3   Loan_Amount_Term   611 non-null    int64\n",
            " 4   Credit_History     611 non-null    int64\n",
            " 5   Rural              611 non-null    int64\n",
            " 6   Semiurban          611 non-null    int64\n",
            " 7   Urban              611 non-null    int64\n",
            " 8   Gender             611 non-null    int64\n",
            " 9   Married            611 non-null    int64\n",
            " 10  Education          611 non-null    int64\n",
            " 11  Self_Employed      611 non-null    int64\n",
            " 12  Dependents         611 non-null    int64\n",
            " 13  Loan_Status        611 non-null    int64\n",
            "dtypes: int64(14)\n",
            "memory usage: 71.6 KB\n"
          ]
        }
      ]
    },
    {
      "cell_type": "markdown",
      "source": [
        "### Balanceamento e Normalização"
      ],
      "metadata": {
        "id": "KBWv8JPryYFX"
      }
    },
    {
      "cell_type": "markdown",
      "source": [
        "O balanceamento de dados é importante porque ajuda a evitar problemas de desequilíbrio de dados que podem afetar negativamente a precisão do algoritmo de Machine Learning. Portanto, é uma boa prática equilibrar os dados antes de rodar o algoritmo | ChatGPT"
      ],
      "metadata": {
        "id": "YzXvjNsv2fUD"
      }
    },
    {
      "cell_type": "code",
      "source": [
        "from imblearn.over_sampling import SMOTE\n",
        "from sklearn.preprocessing import StandardScaler\n",
        "from sklearn.model_selection import train_test_split"
      ],
      "metadata": {
        "id": "0hxqTiFnyg_Q"
      },
      "execution_count": 16,
      "outputs": []
    },
    {
      "cell_type": "code",
      "source": [
        "SEED = 3192\n",
        "np.random.seed(SEED)\n",
        "\n",
        "smote = SMOTE()\n",
        "scaler = StandardScaler()"
      ],
      "metadata": {
        "id": "5io16Efwyyit"
      },
      "execution_count": 17,
      "outputs": []
    },
    {
      "cell_type": "code",
      "source": [
        "ax = sns.countplot(x='Loan_Status', data=dados_imovel_num)"
      ],
      "metadata": {
        "colab": {
          "base_uri": "https://localhost:8080/",
          "height": 0
        },
        "id": "IFcCenZFzlx1",
        "outputId": "86904ca6-3301-4013-dd73-d60524303a37"
      },
      "execution_count": 18,
      "outputs": [
        {
          "output_type": "display_data",
          "data": {
            "text/plain": [
              "<Figure size 640x480 with 1 Axes>"
            ],
            "image/png": "[encoded data removed]"
          },
          "metadata": {}
        }
      ]
    },
    {
      "cell_type": "code",
      "source": [
        "X = dados_imovel_num.drop('Loan_Status', axis=1)\n",
        "y = dados_imovel_num['Loan_Status']\n",
        "\n",
        "X, y = smote.fit_resample(X, y)"
      ],
      "metadata": {
        "id": "_2u-J8jE0WLC"
      },
      "execution_count": 19,
      "outputs": []
    },
    {
      "cell_type": "code",
      "source": [
        "dados_imovel_final = pd.concat([X, y], axis=1)"
      ],
      "metadata": {
        "id": "hCXqYMP609Cu"
      },
      "execution_count": 20,
      "outputs": []
    },
    {
      "cell_type": "code",
      "source": [
        "ax = sns.countplot(x= 'Loan_Status', data= dados_imovel_final)"
      ],
      "metadata": {
        "colab": {
          "base_uri": "https://localhost:8080/",
          "height": 0
        },
        "id": "6zyNACwl1PJ3",
        "outputId": "9302b71b-25e1-413c-c8a8-f519874b9984"
      },
      "execution_count": 21,
      "outputs": [
        {
          "output_type": "display_data",
          "data": {
            "text/plain": [
              "<Figure size 640x480 with 1 Axes>"
            ],
            "image/png": "[encoded data removed]"
          },
          "metadata": {}
        }
      ]
    },
    {
      "cell_type": "code",
      "source": [
        "dados_imovel_final.shape"
      ],
      "metadata": {
        "colab": {
          "base_uri": "https://localhost:8080/"
        },
        "id": "gaaCdbTC2LiE",
        "outputId": "ca69e663-f5d2-4264-b6aa-afa0bffea01b"
      },
      "execution_count": 22,
      "outputs": [
        {
          "output_type": "execute_result",
          "data": {
            "text/plain": [
              "(838, 14)"
            ]
          },
          "metadata": {},
          "execution_count": 22
        }
      ]
    },
    {
      "cell_type": "markdown",
      "source": [
        "**Normalização**"
      ],
      "metadata": {
        "id": "Vtxz1lUi2sHp"
      }
    },
    {
      "cell_type": "code",
      "source": [
        "X_normalizado = scaler.fit_transform(X)"
      ],
      "metadata": {
        "id": "jUlqalB42vf9"
      },
      "execution_count": 23,
      "outputs": []
    },
    {
      "cell_type": "markdown",
      "source": [
        "## Aplicação do Modelo"
      ],
      "metadata": {
        "id": "Kfw8-CNv3_YN"
      }
    },
    {
      "cell_type": "code",
      "source": [
        "from sklearn.svm import SVC\n",
        "from sklearn.ensemble import RandomForestClassifier \n",
        "from sklearn.naive_bayes import BernoulliNB\n",
        "from sklearn.neighbors import KNeighborsClassifier\n",
        "from sklearn.dummy import DummyClassifier\n",
        "from sklearn.metrics import accuracy_score, recall_score, precision_score, f1_score, confusion_matrix"
      ],
      "metadata": {
        "id": "CLJXlO8V4Gw-"
      },
      "execution_count": 24,
      "outputs": []
    },
    {
      "cell_type": "code",
      "source": [
        "X_train, X_test, y_train, y_test = train_test_split( X_normalizado, y, test_size=0.30, random_state= SEED, stratify= y )"
      ],
      "metadata": {
        "id": "vAoWo4YJ4Esr"
      },
      "execution_count": 25,
      "outputs": []
    },
    {
      "cell_type": "markdown",
      "source": [
        "### DummyClassifier"
      ],
      "metadata": {
        "id": "tjZ3cJSL7I3v"
      }
    },
    {
      "cell_type": "code",
      "source": [
        "dummy = DummyClassifier()\n",
        "dummy.fit(X_train, y_train)\n",
        "acuracia = dummy.score(X_test, y_test) * 100\n",
        "\n",
        "print('A acurácia do Dummy foi de %d%%' % acuracia)"
      ],
      "metadata": {
        "colab": {
          "base_uri": "https://localhost:8080/"
        },
        "id": "RUoWDLuH7MAC",
        "outputId": "a130ddd2-49bf-4e39-fdc6-b89e661a20bf"
      },
      "execution_count": 26,
      "outputs": [
        {
          "output_type": "stream",
          "name": "stdout",
          "text": [
            "A acurácia do Dummy foi de 50%\n"
          ]
        }
      ]
    },
    {
      "cell_type": "markdown",
      "source": [
        "### KNN"
      ],
      "metadata": {
        "id": "36MUb0QL64nO"
      }
    },
    {
      "cell_type": "code",
      "source": [
        "model_knn = KNeighborsClassifier(metric= 'euclidean')\n",
        "\n",
        "model_knn.fit(X_train, y_train)\n",
        "previsao_knn = model_knn.predict(X_test)"
      ],
      "metadata": {
        "id": "lGsX7pbC5Qk-"
      },
      "execution_count": 27,
      "outputs": []
    },
    {
      "cell_type": "code",
      "source": [
        "print('A Acurácia do KNN foi de %d%% \\n' % (accuracy_score(y_test, previsao_knn)*100))\n",
        "print('A Precisao do KNN foi de %d%% \\n' % (precision_score(y_test, previsao_knn)*100))\n",
        "print('O Reccal_score do KNN foi de %d%% \\n' % (recall_score(y_test, previsao_knn)*100))\n",
        "print('O F1-Score do KNN foi de %d%%' % (f1_score(y_test, previsao_knn)*100))"
      ],
      "metadata": {
        "colab": {
          "base_uri": "https://localhost:8080/"
        },
        "id": "55D0j7-j8mTM",
        "outputId": "99680b2a-e53f-438f-846d-71a89ea7df7e"
      },
      "execution_count": 28,
      "outputs": [
        {
          "output_type": "stream",
          "name": "stdout",
          "text": [
            "A Acurácia do KNN foi de 80% \n",
            "\n",
            "A Precisao do KNN foi de 74% \n",
            "\n",
            "O Reccal_score do KNN foi de 94% \n",
            "\n",
            "O F1-Score do KNN foi de 83%\n"
          ]
        }
      ]
    },
    {
      "cell_type": "markdown",
      "source": [
        "**Matriz de confusão**"
      ],
      "metadata": {
        "id": "Mu3FNDh4-KXE"
      }
    },
    {
      "cell_type": "code",
      "source": [
        "set()\n",
        "plt.figure(figsize=(8,4), dpi=80)\n",
        "sns.heatmap(confusion_matrix(y_test, previsao_knn), annot=True, fmt='.1f').set(xlabel = 'previsto', ylabel= 'real')\n",
        "plt.show()"
      ],
      "metadata": {
        "colab": {
          "base_uri": "https://localhost:8080/",
          "height": 0
        },
        "id": "as8RDUzZ-Pk4",
        "outputId": "f566d39c-ffac-463d-f38b-f7b135259e5b"
      },
      "execution_count": 29,
      "outputs": [
        {
          "output_type": "display_data",
          "data": {
            "text/plain": [
              "<Figure size 640x320 with 2 Axes>"
            ],
            "image/png": "[encoded data removed]"
          },
          "metadata": {}
        }
      ]
    },
    {
      "cell_type": "markdown",
      "source": [
        "### Bernoulli"
      ],
      "metadata": {
        "id": "cUi-bEaI66zs"
      }
    },
    {
      "cell_type": "code",
      "source": [
        "np.median(X_train)"
      ],
      "metadata": {
        "colab": {
          "base_uri": "https://localhost:8080/"
        },
        "id": "t8UZmTh1kifY",
        "outputId": "113e67a3-de3f-41d3-fd8d-61169766cb1f"
      },
      "execution_count": 30,
      "outputs": [
        {
          "output_type": "execute_result",
          "data": {
            "text/plain": [
              "-0.3425395354310701"
            ]
          },
          "metadata": {},
          "execution_count": 30
        }
      ]
    },
    {
      "cell_type": "code",
      "source": [
        "model_bnb = BernoulliNB(binarize= 0.073)\n",
        "\n",
        "model_bnb.fit(X_train, y_train)\n",
        "previsao_bnb = model_bnb.predict(X_test)"
      ],
      "metadata": {
        "id": "bdKJkT2x69YO"
      },
      "execution_count": 31,
      "outputs": []
    },
    {
      "cell_type": "code",
      "source": [
        "print('A Acurácia do Bernoulli foi de %d%% \\n' % (accuracy_score(y_test, previsao_bnb)*100))\n",
        "print('A Precisao do Bernoulli foi de %d%% \\n' % (precision_score(y_test, previsao_bnb)*100))\n",
        "print('O Reccal_score do Bernoulli foi de %d%% \\n' % (recall_score(y_test, previsao_bnb)*100))\n",
        "print('O F1-Score do Bernoulli foi de %d%%' % (f1_score(y_test, previsao_bnb)*100))"
      ],
      "metadata": {
        "colab": {
          "base_uri": "https://localhost:8080/"
        },
        "id": "kDscurpKDMKv",
        "outputId": "e1df4a9c-8f4c-4e68-c34b-25dc12fd08ba"
      },
      "execution_count": 32,
      "outputs": [
        {
          "output_type": "stream",
          "name": "stdout",
          "text": [
            "A Acurácia do Bernoulli foi de 80% \n",
            "\n",
            "A Precisao do Bernoulli foi de 74% \n",
            "\n",
            "O Reccal_score do Bernoulli foi de 94% \n",
            "\n",
            "O F1-Score do Bernoulli foi de 83%\n"
          ]
        }
      ]
    },
    {
      "cell_type": "code",
      "source": [
        "set()\n",
        "plt.figure(figsize=(8,4), dpi=80)\n",
        "sns.heatmap(confusion_matrix(y_test, previsao_bnb), annot=True, fmt='.1f').set(xlabel = 'previsto', ylabel= 'real')\n",
        "plt.show()"
      ],
      "metadata": {
        "colab": {
          "base_uri": "https://localhost:8080/",
          "height": 0
        },
        "id": "ZCjTjU4IDM-X",
        "outputId": "24035e27-c102-474a-ff89-0060195673dc"
      },
      "execution_count": 33,
      "outputs": [
        {
          "output_type": "display_data",
          "data": {
            "text/plain": [
              "<Figure size 640x320 with 2 Axes>"
            ],
            "image/png": "[encoded data removed]"
          },
          "metadata": {}
        }
      ]
    },
    {
      "cell_type": "markdown",
      "source": [
        "### RandomForest"
      ],
      "metadata": {
        "id": "QBqRNoEs6_ee"
      }
    },
    {
      "cell_type": "code",
      "source": [
        "model_random = RandomForestClassifier( criterion= 'entropy', n_estimators=100, random_state=SEED )\n",
        "\n",
        "model_random.fit(X_train, y_train)\n",
        "previsao_random = model_random.predict(X_test)"
      ],
      "metadata": {
        "id": "yNmUFKxz7ChI"
      },
      "execution_count": 34,
      "outputs": []
    },
    {
      "cell_type": "code",
      "source": [
        "print('A Acurácia do RandomForest foi de %d%% \\n' % (accuracy_score(y_test, previsao_random)*100))\n",
        "print('A Precisao do RandomForest foi de %d%% \\n' % (precision_score(y_test, previsao_random)*100))\n",
        "print('O Reccal_score do RandomForest foi de %d%% \\n' % (recall_score(y_test, previsao_random)*100))\n",
        "print('O F1-Score do RandomForest foi de %d%%' % (f1_score(y_test, previsao_random)*100))"
      ],
      "metadata": {
        "colab": {
          "base_uri": "https://localhost:8080/"
        },
        "id": "MIn-H46DDwWV",
        "outputId": "55d70d8a-9b5d-4c32-8673-57a8cdaf1e19"
      },
      "execution_count": 35,
      "outputs": [
        {
          "output_type": "stream",
          "name": "stdout",
          "text": [
            "A Acurácia do RandomForest foi de 84% \n",
            "\n",
            "A Precisao do RandomForest foi de 80% \n",
            "\n",
            "O Reccal_score do RandomForest foi de 92% \n",
            "\n",
            "O F1-Score do RandomForest foi de 85%\n"
          ]
        }
      ]
    },
    {
      "cell_type": "code",
      "source": [
        "set()\n",
        "plt.figure(figsize=(8,4), dpi=80)\n",
        "sns.heatmap(confusion_matrix(y_test, previsao_random), annot=True, fmt='.1f').set(xlabel = 'previsto', ylabel= 'real')\n",
        "plt.show()"
      ],
      "metadata": {
        "colab": {
          "base_uri": "https://localhost:8080/",
          "height": 0
        },
        "id": "5TRiABX9Dzdl",
        "outputId": "aece1914-7ab9-4778-885e-f7363e68be04"
      },
      "execution_count": 36,
      "outputs": [
        {
          "output_type": "display_data",
          "data": {
            "text/plain": [
              "<Figure size 640x320 with 2 Axes>"
            ],
            "image/png": "[encoded data removed]"
          },
          "metadata": {}
        }
      ]
    },
    {
      "cell_type": "markdown",
      "source": [
        "### SVC"
      ],
      "metadata": {
        "id": "70R5y8U27Fbe"
      }
    },
    {
      "cell_type": "code",
      "source": [
        "model_svc = SVC()\n",
        "\n",
        "model_svc.fit(X_train, y_train)\n",
        "previsao_svc = model_svc.predict(X_test)"
      ],
      "metadata": {
        "id": "iuNlB-3o7G_9"
      },
      "execution_count": 37,
      "outputs": []
    },
    {
      "cell_type": "code",
      "source": [
        "print('A Acurácia do RandomForest foi de %d%% \\n' % (accuracy_score(y_test, previsao_svc)*100))\n",
        "print('A Precisao do RandomForest foi de %d%% \\n' % (precision_score(y_test, previsao_svc)*100))\n",
        "print('O Reccal_score do RandomForest foi de %d%% \\n' % (recall_score(y_test, previsao_svc)*100))\n",
        "print('O F1-Score do RandomForest foi de %d%%' % (f1_score(y_test, previsao_svc)*100))"
      ],
      "metadata": {
        "colab": {
          "base_uri": "https://localhost:8080/"
        },
        "id": "f6iqSq7IEaiu",
        "outputId": "7ac82522-5a6c-4940-c1b9-7e36c4fdf9ff"
      },
      "execution_count": 38,
      "outputs": [
        {
          "output_type": "stream",
          "name": "stdout",
          "text": [
            "A Acurácia do RandomForest foi de 84% \n",
            "\n",
            "A Precisao do RandomForest foi de 76% \n",
            "\n",
            "O Reccal_score do RandomForest foi de 99% \n",
            "\n",
            "O F1-Score do RandomForest foi de 86%\n"
          ]
        }
      ]
    },
    {
      "cell_type": "code",
      "source": [
        "set()\n",
        "plt.figure(figsize=(8,4), dpi=80)\n",
        "sns.heatmap(confusion_matrix(y_test, previsao_svc), annot=True, fmt='.1f').set(xlabel = 'previsto', ylabel= 'real')\n",
        "plt.show()"
      ],
      "metadata": {
        "colab": {
          "base_uri": "https://localhost:8080/",
          "height": 311
        },
        "id": "EgS3ATuAEZ41",
        "outputId": "4a3c751e-e06c-4eef-d747-dfae75546beb"
      },
      "execution_count": 39,
      "outputs": [
        {
          "output_type": "display_data",
          "data": {
            "text/plain": [
              "<Figure size 640x320 with 2 Axes>"
            ],
            "image/png": "[encoded data removed]"
          },
          "metadata": {}
        }
      ]
    },
    {
      "cell_type": "markdown",
      "source": [
        "## Aplicação com PCA"
      ],
      "metadata": {
        "id": "vCN3W1UQXSPZ"
      }
    },
    {
      "cell_type": "markdown",
      "source": [
        "PCA (Principal Component Analysis) é uma técnica de redução de dimensionalidade que permite identificar os padrões subjacentes nos dados, removendo as correlações entre as variáveis e criando um conjunto menor de variáveis chamadas de componentes principais. A técnica funciona identificando os eixos que melhor explicam a variabilidade nos dados. | Chat GPT. \n",
        "\n",
        "O objetivo desta aplicação é reduzir a dimencionalidade e verificar se os modelos obtém melhores resultados. "
      ],
      "metadata": {
        "id": "8yPV4Ri8ejfp"
      }
    },
    {
      "cell_type": "code",
      "source": [
        "from sklearn.decomposition import PCA"
      ],
      "metadata": {
        "id": "dT7QOenNXUFQ"
      },
      "execution_count": 40,
      "outputs": []
    },
    {
      "cell_type": "code",
      "source": [
        "pca = PCA( n_components = 10)\n",
        "X_pca = pca.fit_transform(X_normalizado)\n",
        "\n",
        "X_train, X_test, y_train, y_test = train_test_split( X_pca, y, test_size=0.30, random_state= SEED, stratify= y )"
      ],
      "metadata": {
        "id": "I36aixnrYygv"
      },
      "execution_count": 41,
      "outputs": []
    },
    {
      "cell_type": "markdown",
      "source": [
        "### KNN - PCA"
      ],
      "metadata": {
        "id": "kACrTLUrZWnC"
      }
    },
    {
      "cell_type": "code",
      "source": [
        "model_knn = KNeighborsClassifier(metric= 'euclidean')\n",
        "\n",
        "model_knn.fit(X_train, y_train)\n",
        "previsao_knn = model_knn.predict(X_test)"
      ],
      "metadata": {
        "id": "b9DCXOovZYPL"
      },
      "execution_count": 42,
      "outputs": []
    },
    {
      "cell_type": "code",
      "source": [
        "print('A Acurácia do KNN foi de %d%% \\n' % (accuracy_score(y_test, previsao_knn)*100))\n",
        "print('A Precisao do KNN foi de %d%% \\n' % (precision_score(y_test, previsao_knn)*100))\n",
        "print('O Reccal_score do KNN foi de %d%% \\n' % (recall_score(y_test, previsao_knn)*100))\n",
        "print('O F1-Score do KNN foi de %d%%' % (f1_score(y_test, previsao_knn)*100))"
      ],
      "metadata": {
        "colab": {
          "base_uri": "https://localhost:8080/"
        },
        "id": "4YwTBpvdZbJY",
        "outputId": "352be0fc-415b-4521-ebf2-a3fa53070577"
      },
      "execution_count": 43,
      "outputs": [
        {
          "output_type": "stream",
          "name": "stdout",
          "text": [
            "A Acurácia do KNN foi de 81% \n",
            "\n",
            "A Precisao do KNN foi de 76% \n",
            "\n",
            "O Reccal_score do KNN foi de 92% \n",
            "\n",
            "O F1-Score do KNN foi de 83%\n"
          ]
        }
      ]
    },
    {
      "cell_type": "markdown",
      "source": [
        "**Matriz de confusão**"
      ],
      "metadata": {
        "id": "UtIeCCfUaQbp"
      }
    },
    {
      "cell_type": "code",
      "source": [
        "set()\n",
        "plt.figure(figsize=(8,4), dpi=80)\n",
        "sns.heatmap(confusion_matrix(y_test, previsao_knn), annot=True, fmt='.1f').set(xlabel = 'previsto', ylabel= 'real')\n",
        "plt.show()"
      ],
      "metadata": {
        "colab": {
          "base_uri": "https://localhost:8080/",
          "height": 0
        },
        "id": "rVBFsyKyZex4",
        "outputId": "2847c6b5-f612-4b01-b663-52264de3d097"
      },
      "execution_count": 44,
      "outputs": [
        {
          "output_type": "display_data",
          "data": {
            "text/plain": [
              "<Figure size 640x320 with 2 Axes>"
            ],
            "image/png": "[encoded data removed]"
          },
          "metadata": {}
        }
      ]
    },
    {
      "cell_type": "markdown",
      "source": [
        "### Bernoulli - PCA"
      ],
      "metadata": {
        "id": "OvRVtKPrai8y"
      }
    },
    {
      "cell_type": "code",
      "source": [
        "np.median(X_train)"
      ],
      "metadata": {
        "colab": {
          "base_uri": "https://localhost:8080/"
        },
        "id": "8m8rPguulBEG",
        "outputId": "3ff5b234-2497-4333-bb16-bf9361f16768"
      },
      "execution_count": 45,
      "outputs": [
        {
          "output_type": "execute_result",
          "data": {
            "text/plain": [
              "-0.07372989556400375"
            ]
          },
          "metadata": {},
          "execution_count": 45
        }
      ]
    },
    {
      "cell_type": "code",
      "source": [
        "model_bnb = BernoulliNB(binarize= 0.073)\n",
        "\n",
        "model_bnb.fit(X_train, y_train)\n",
        "previsao_bnb = model_bnb.predict(X_test)"
      ],
      "metadata": {
        "id": "mfHfS818akpw"
      },
      "execution_count": 46,
      "outputs": []
    },
    {
      "cell_type": "code",
      "source": [
        "print('A Acurácia do Bernoulli foi de %d%% \\n' % (accuracy_score(y_test, previsao_bnb)*100))\n",
        "print('A Precisao do Bernoulli foi de %d%% \\n' % (precision_score(y_test, previsao_bnb)*100))\n",
        "print('O Reccal_score do Bernoulli foi de %d%% \\n' % (recall_score(y_test, previsao_bnb)*100))\n",
        "print('O F1-Score do Bernoulli foi de %d%%' % (f1_score(y_test, previsao_bnb)*100))"
      ],
      "metadata": {
        "colab": {
          "base_uri": "https://localhost:8080/"
        },
        "id": "z0kDwfpwa1Yg",
        "outputId": "fbb6aa08-d97c-406c-faf4-46591ab483d1"
      },
      "execution_count": 47,
      "outputs": [
        {
          "output_type": "stream",
          "name": "stdout",
          "text": [
            "A Acurácia do Bernoulli foi de 74% \n",
            "\n",
            "A Precisao do Bernoulli foi de 68% \n",
            "\n",
            "O Reccal_score do Bernoulli foi de 88% \n",
            "\n",
            "O F1-Score do Bernoulli foi de 77%\n"
          ]
        }
      ]
    },
    {
      "cell_type": "code",
      "source": [
        "set()\n",
        "plt.figure(figsize=(8,4), dpi=80)\n",
        "sns.heatmap(confusion_matrix(y_test, previsao_bnb), annot=True, fmt='.1f').set(xlabel = 'previsto', ylabel= 'real')\n",
        "plt.show()"
      ],
      "metadata": {
        "colab": {
          "base_uri": "https://localhost:8080/",
          "height": 0
        },
        "id": "G0eWB2IVa3kP",
        "outputId": "62be399c-a003-4264-cd44-d14fbbeb1e5e"
      },
      "execution_count": 48,
      "outputs": [
        {
          "output_type": "display_data",
          "data": {
            "text/plain": [
              "<Figure size 640x320 with 2 Axes>"
            ],
            "image/png": "[encoded data removed]"
          },
          "metadata": {}
        }
      ]
    },
    {
      "cell_type": "markdown",
      "source": [
        "### RandomForest - PCA"
      ],
      "metadata": {
        "id": "Syei3uasbFPW"
      }
    },
    {
      "cell_type": "code",
      "source": [
        "model_random = RandomForestClassifier( criterion= 'entropy', n_estimators=120, random_state=SEED )\n",
        "\n",
        "model_random.fit(X_train, y_train)\n",
        "previsao_random = model_random.predict(X_test)"
      ],
      "metadata": {
        "id": "yODIvKMsbKY4"
      },
      "execution_count": 49,
      "outputs": []
    },
    {
      "cell_type": "code",
      "source": [
        "print('A Acurácia do RandomForest foi de %d%% \\n' % (accuracy_score(y_test, previsao_random)*100))\n",
        "print('A Precisao do RandomForest foi de %d%% \\n' % (precision_score(y_test, previsao_random)*100))\n",
        "print('O Reccal_score do RandomForest foi de %d%% \\n' % (recall_score(y_test, previsao_random)*100))\n",
        "print('O F1-Score do RandomForest foi de %d%%' % (f1_score(y_test, previsao_random)*100))"
      ],
      "metadata": {
        "colab": {
          "base_uri": "https://localhost:8080/"
        },
        "id": "bRrIV9ocbOTS",
        "outputId": "bf94d220-658a-45a9-9227-dce4c3fee418"
      },
      "execution_count": 50,
      "outputs": [
        {
          "output_type": "stream",
          "name": "stdout",
          "text": [
            "A Acurácia do RandomForest foi de 83% \n",
            "\n",
            "A Precisao do RandomForest foi de 79% \n",
            "\n",
            "O Reccal_score do RandomForest foi de 90% \n",
            "\n",
            "O F1-Score do RandomForest foi de 84%\n"
          ]
        }
      ]
    },
    {
      "cell_type": "code",
      "source": [
        "set()\n",
        "plt.figure(figsize=(8,4), dpi=80)\n",
        "sns.heatmap(confusion_matrix(y_test, previsao_random), annot=True, fmt='.1f').set(xlabel = 'previsto', ylabel= 'real')\n",
        "plt.show()"
      ],
      "metadata": {
        "colab": {
          "base_uri": "https://localhost:8080/",
          "height": 0
        },
        "id": "DGqE2aKXbQLJ",
        "outputId": "a3db556d-05e8-45fa-84ce-cc550a8c6dda"
      },
      "execution_count": 51,
      "outputs": [
        {
          "output_type": "display_data",
          "data": {
            "text/plain": [
              "<Figure size 640x320 with 2 Axes>"
            ],
            "image/png": "[encoded data removed]"
          },
          "metadata": {}
        }
      ]
    },
    {
      "cell_type": "markdown",
      "source": [
        "### SVC - PCA"
      ],
      "metadata": {
        "id": "XcRVy1CWbp5j"
      }
    },
    {
      "cell_type": "code",
      "source": [
        "model_svc = SVC()\n",
        "\n",
        "model_svc.fit(X_train, y_train)\n",
        "previsao_svc = model_svc.predict(X_test)"
      ],
      "metadata": {
        "id": "W_7fFtBNbrzB"
      },
      "execution_count": 52,
      "outputs": []
    },
    {
      "cell_type": "code",
      "source": [
        "print('A Acurácia do RandomForest foi de %d%% \\n' % (accuracy_score(y_test, previsao_svc)*100))\n",
        "print('A Precisao do RandomForest foi de %d%% \\n' % (precision_score(y_test, previsao_svc)*100))\n",
        "print('O Reccal_score do RandomForest foi de %d%% \\n' % (recall_score(y_test, previsao_svc)*100))\n",
        "print('O F1-Score do RandomForest foi de %d%%' % (f1_score(y_test, previsao_svc)*100))"
      ],
      "metadata": {
        "colab": {
          "base_uri": "https://localhost:8080/"
        },
        "id": "oelR4vhdbuuI",
        "outputId": "6dcbb774-40e1-4311-d3ea-edd15e7f231d"
      },
      "execution_count": 53,
      "outputs": [
        {
          "output_type": "stream",
          "name": "stdout",
          "text": [
            "A Acurácia do RandomForest foi de 84% \n",
            "\n",
            "A Precisao do RandomForest foi de 76% \n",
            "\n",
            "O Reccal_score do RandomForest foi de 99% \n",
            "\n",
            "O F1-Score do RandomForest foi de 86%\n"
          ]
        }
      ]
    },
    {
      "cell_type": "code",
      "source": [
        "set()\n",
        "plt.figure(figsize=(8,4), dpi=80)\n",
        "sns.heatmap(confusion_matrix(y_test, previsao_svc), annot=True, fmt='.1f').set(xlabel = 'previsto', ylabel= 'real')\n",
        "plt.show()"
      ],
      "metadata": {
        "colab": {
          "base_uri": "https://localhost:8080/",
          "height": 0
        },
        "id": "wRTcJxLbbwRo",
        "outputId": "fbe8c1f3-4cec-4103-f070-c2b8a2f50248"
      },
      "execution_count": 54,
      "outputs": [
        {
          "output_type": "display_data",
          "data": {
            "text/plain": [
              "<Figure size 640x320 with 2 Axes>"
            ],
            "image/png": "[encoded data removed]"
          },
          "metadata": {}
        }
      ]
    },
    {
      "cell_type": "markdown",
      "source": [
        "# Otimização de Hiperparâmetros"
      ],
      "metadata": {
        "id": "B1P1PKjQlRX4"
      }
    },
    {
      "cell_type": "markdown",
      "source": [
        "Com os medelos anteriores conseguimos obter resultados significativos, entretanto não foram realizados testes para comprovar se eles são os melhores modelos possíveis, visto que não exploramos os hiperparametros. Também não foi utilizado o intervalo de confiança para avaliar as métricas, e por esse motivo a métrica não reflete a taxa de sucesso, caso o modelo fosse testado com dados novos.\n",
        "\n",
        "Nesta etapa utilizaremos algumas técnicas para testar hiperparametros e chegar na combinação mais satisfatória para apresentação do modelo final. "
      ],
      "metadata": {
        "id": "FZwJzuuZldEm"
      }
    },
    {
      "cell_type": "markdown",
      "source": [
        "**As técnicas aplicadas com validação cruzada serão:**\n",
        "\n",
        "Exploração manual;\n",
        "\n",
        "GridSearchCV;\n",
        "\n",
        "RandomizedSearchCV.\n",
        "\n"
      ],
      "metadata": {
        "id": "pxkRBbfomKKo"
      }
    },
    {
      "cell_type": "code",
      "source": [
        "from sklearn.model_selection import KFold, StratifiedKFold, cross_validate, RandomizedSearchCV, GridSearchCV, cross_val_score"
      ],
      "metadata": {
        "id": "5VcP3qb7p9de"
      },
      "execution_count": 55,
      "outputs": []
    },
    {
      "cell_type": "markdown",
      "source": [
        "## RandomForest"
      ],
      "metadata": {
        "id": "2EcRdXJ7oL-n"
      }
    },
    {
      "cell_type": "markdown",
      "source": [
        "### Análise Manual"
      ],
      "metadata": {
        "id": "Ez0AtYZdwIc7"
      }
    },
    {
      "cell_type": "markdown",
      "source": [
        "Um das posibilidades de validação de hiperparametros é a análise manual. Podemos escolher diferentes hiperparametros e criar uma função que recebe essas instruções e devolve o resultado final, ordenando-os pelas melhores métricas. \n",
        "\n",
        "O ponto negativo é que o código não fica compacto e devido a limitações de procesamento as combinações podem ser limitadas."
      ],
      "metadata": {
        "id": "4ZcWtIyt5C1I"
      }
    },
    {
      "cell_type": "code",
      "source": [
        "def RandomForest_Hiperparametros( n_estimators, criterion, max_depth, min_samples_split, min_samples_leaf, class_weight ):\n",
        "  \n",
        "  #instancia o modelo\n",
        "  #retorna uma lista com as métricas\n",
        "\n",
        "  SEED = 3192\n",
        "  np.random.seed(SEED)\n",
        "  \n",
        "  cv = KFold(n_splits = 10, shuffle=True)\n",
        "  modelo = RandomForestClassifier( n_estimators= n_estimators, criterion= criterion, max_depth= max_depth, \n",
        "                                  min_samples_split= min_samples_split, min_samples_leaf= min_samples_leaf, \n",
        "                                  class_weight= class_weight)\n",
        "  \n",
        "  resultados = cross_validate(modelo, X_normalizado, y, cv = cv, return_train_score=True)\n",
        "\n",
        "  train_score = resultados['train_score'].mean() * 100\n",
        "  test_score = resultados['test_score'].mean() * 100\n",
        "\n",
        "  tabela = [n_estimators, criterion, max_depth, min_samples_split, min_samples_leaf, class_weight, train_score, test_score]\n",
        "  return tabela"
      ],
      "metadata": {
        "id": "GAwjiuespfku"
      },
      "execution_count": 56,
      "outputs": []
    },
    {
      "cell_type": "code",
      "source": [
        "# Aplicação\n",
        "\n",
        "RandomForest_Hiperparametros( 100, 'gini', 5, 10, 20, 'balanced' )"
      ],
      "metadata": {
        "colab": {
          "base_uri": "https://localhost:8080/"
        },
        "id": "Ll5UHEXo1yLU",
        "outputId": "3a43954a-0158-4b62-bfbc-4b6e9cb64e1e"
      },
      "execution_count": 57,
      "outputs": [
        {
          "output_type": "execute_result",
          "data": {
            "text/plain": [
              "[100, 'gini', 5, 10, 20, 'balanced', 83.06824529660794, 81.99655765920826]"
            ]
          },
          "metadata": {},
          "execution_count": 57
        }
      ]
    },
    {
      "cell_type": "code",
      "source": [
        "# Aplicação com diferentes hiperparametros\n",
        "\n",
        "lista = [ ]\n",
        "for n_estimators in [50, 100]:\n",
        "  for criterion in [ 'gini', 'entropy' ]:\n",
        "    for max_depth in [3, 5 ]:\n",
        "      for min_samples_split in [ 20, 30 ]:\n",
        "        for min_samples_leaf in [ 10, 35 ]:\n",
        "          for class_weight in [ 'balanced', None ]:\n",
        "            tabela = RandomForest_Hiperparametros( n_estimators, criterion, max_depth, min_samples_split, min_samples_leaf, class_weight )\n",
        "            lista.append( tabela )\n",
        "    \n",
        "resultados = pd.DataFrame(lista, columns= [ 'n_estimators', 'criterion', 'max_depth', 'min_samples_split', \n",
        "                                           'min_samples_leaf', 'class_weight' , \"train\", \"test\" ] )\n",
        "\n",
        "resultados.sort_values('test', ascending=False).head()"
      ],
      "metadata": {
        "colab": {
          "base_uri": "https://localhost:8080/",
          "height": 206
        },
        "id": "ChfdUByvwAMs",
        "outputId": "6214acac-c555-41da-8745-44f6ea830a37"
      },
      "execution_count": 58,
      "outputs": [
        {
          "output_type": "execute_result",
          "data": {
            "text/plain": [
              "    n_estimators criterion  max_depth  min_samples_split  min_samples_leaf  \\\n",
              "60           100   entropy          5                 30                10   \n",
              "44           100      gini          5                 30                10   \n",
              "61           100   entropy          5                 30                10   \n",
              "24            50   entropy          5                 20                10   \n",
              "45           100      gini          5                 30                10   \n",
              "\n",
              "   class_weight      train       test  \n",
              "60     balanced  84.049449  82.350832  \n",
              "44     balanced  84.102605  81.992255  \n",
              "61         None  84.009661  81.992255  \n",
              "24     balanced  84.248283  81.871773  \n",
              "45         None  83.969891  81.871773  "
            ],
            "text/html": [
              "\n",
              "  <div id=\"df-4a061333-7f0b-4346-8eb0-da16e5defcc0\">\n",
              "    <div class=\"colab-df-container\">\n",
              "      <div>\n",
              "<style scoped>\n",
              "    .dataframe tbody tr th:only-of-type {\n",
              "        vertical-align: middle;\n",
              "    }\n",
              "\n",
              "    .dataframe tbody tr th {\n",
              "        vertical-align: top;\n",
              "    }\n",
              "\n",
              "    .dataframe thead th {\n",
              "        text-align: right;\n",
              "    }\n",
              "</style>\n",
              "<table border=\"1\" class=\"dataframe\">\n",
              "  <thead>\n",
              "    <tr style=\"text-align: right;\">\n",
              "      <th></th>\n",
              "      <th>n_estimators</th>\n",
              "      <th>criterion</th>\n",
              "      <th>max_depth</th>\n",
              "      <th>min_samples_split</th>\n",
              "      <th>min_samples_leaf</th>\n",
              "      <th>class_weight</th>\n",
              "      <th>train</th>\n",
              "      <th>test</th>\n",
              "    </tr>\n",
              "  </thead>\n",
              "  <tbody>\n",
              "    <tr>\n",
              "      <th>60</th>\n",
              "      <td>100</td>\n",
              "      <td>entropy</td>\n",
              "      <td>5</td>\n",
              "      <td>30</td>\n",
              "      <td>10</td>\n",
              "      <td>balanced</td>\n",
              "      <td>84.049449</td>\n",
              "      <td>82.350832</td>\n",
              "    </tr>\n",
              "    <tr>\n",
              "      <th>44</th>\n",
              "      <td>100</td>\n",
              "      <td>gini</td>\n",
              "      <td>5</td>\n",
              "      <td>30</td>\n",
              "      <td>10</td>\n",
              "      <td>balanced</td>\n",
              "      <td>84.102605</td>\n",
              "      <td>81.992255</td>\n",
              "    </tr>\n",
              "    <tr>\n",
              "      <th>61</th>\n",
              "      <td>100</td>\n",
              "      <td>entropy</td>\n",
              "      <td>5</td>\n",
              "      <td>30</td>\n",
              "      <td>10</td>\n",
              "      <td>None</td>\n",
              "      <td>84.009661</td>\n",
              "      <td>81.992255</td>\n",
              "    </tr>\n",
              "    <tr>\n",
              "      <th>24</th>\n",
              "      <td>50</td>\n",
              "      <td>entropy</td>\n",
              "      <td>5</td>\n",
              "      <td>20</td>\n",
              "      <td>10</td>\n",
              "      <td>balanced</td>\n",
              "      <td>84.248283</td>\n",
              "      <td>81.871773</td>\n",
              "    </tr>\n",
              "    <tr>\n",
              "      <th>45</th>\n",
              "      <td>100</td>\n",
              "      <td>gini</td>\n",
              "      <td>5</td>\n",
              "      <td>30</td>\n",
              "      <td>10</td>\n",
              "      <td>None</td>\n",
              "      <td>83.969891</td>\n",
              "      <td>81.871773</td>\n",
              "    </tr>\n",
              "  </tbody>\n",
              "</table>\n",
              "</div>\n",
              "      <button class=\"colab-df-convert\" onclick=\"convertToInteractive('df-4a061333-7f0b-4346-8eb0-da16e5defcc0')\"\n",
              "              title=\"Convert this dataframe to an interactive table.\"\n",
              "              style=\"display:none;\">\n",
              "        \n",
              "  <svg xmlns=\"http://www.w3.org/2000/svg\" height=\"24px\"viewBox=\"0 0 24 24\"\n",
              "       width=\"24px\">\n",
              "    <path d=\"M0 0h24v24H0V0z\" fill=\"none\"/>\n",
              "    <path d=\"M18.56 5.44l.94 2.06.94-2.06 2.06-.94-2.06-.94-.94-2.06-.94 2.06-2.06.94zm-11 1L8.5 8.5l.94-2.06 2.06-.94-2.06-.94L8.5 2.5l-.94 2.06-2.06.94zm10 10l.94 2.06.94-2.06 2.06-.94-2.06-.94-.94-2.06-.94 2.06-2.06.94z\"/><path d=\"M17.41 7.96l-1.37-1.37c-.4-.4-.92-.59-1.43-.59-.52 0-1.04.2-1.43.59L10.3 9.45l-7.72 7.72c-.78.78-.78 2.05 0 2.83L4 21.41c.39.39.9.59 1.41.59.51 0 1.02-.2 1.41-.59l7.78-7.78 2.81-2.81c.8-.78.8-2.07 0-2.86zM5.41 20L4 18.59l7.72-7.72 1.47 1.35L5.41 20z\"/>\n",
              "  </svg>\n",
              "      </button>\n",
              "      \n",
              "  <style>\n",
              "    .colab-df-container {\n",
              "      display:flex;\n",
              "      flex-wrap:wrap;\n",
              "      gap: 12px;\n",
              "    }\n",
              "\n",
              "    .colab-df-convert {\n",
              "      background-color: #E8F0FE;\n",
              "      border: none;\n",
              "      border-radius: 50%;\n",
              "      cursor: pointer;\n",
              "      display: none;\n",
              "      fill: #1967D2;\n",
              "      height: 32px;\n",
              "      padding: 0 0 0 0;\n",
              "      width: 32px;\n",
              "    }\n",
              "\n",
              "    .colab-df-convert:hover {\n",
              "      background-color: #E2EBFA;\n",
              "      box-shadow: 0px 1px 2px rgba(60, 64, 67, 0.3), 0px 1px 3px 1px rgba(60, 64, 67, 0.15);\n",
              "      fill: #174EA6;\n",
              "    }\n",
              "\n",
              "    [theme=dark] .colab-df-convert {\n",
              "      background-color: #3B4455;\n",
              "      fill: #D2E3FC;\n",
              "    }\n",
              "\n",
              "    [theme=dark] .colab-df-convert:hover {\n",
              "      background-color: #434B5C;\n",
              "      box-shadow: 0px 1px 3px 1px rgba(0, 0, 0, 0.15);\n",
              "      filter: drop-shadow(0px 1px 2px rgba(0, 0, 0, 0.3));\n",
              "      fill: #FFFFFF;\n",
              "    }\n",
              "  </style>\n",
              "\n",
              "      <script>\n",
              "        const buttonEl =\n",
              "          document.querySelector('#df-4a061333-7f0b-4346-8eb0-da16e5defcc0 button.colab-df-convert');\n",
              "        buttonEl.style.display =\n",
              "          google.colab.kernel.accessAllowed ? 'block' : 'none';\n",
              "\n",
              "        async function convertToInteractive(key) {\n",
              "          const element = document.querySelector('#df-4a061333-7f0b-4346-8eb0-da16e5defcc0');\n",
              "          const dataTable =\n",
              "            await google.colab.kernel.invokeFunction('convertToInteractive',\n",
              "                                                     [key], {});\n",
              "          if (!dataTable) return;\n",
              "\n",
              "          const docLinkHtml = 'Like what you see? Visit the ' +\n",
              "            '<a target=\"_blank\" href=https://colab.research.google.com/notebooks/data_table.ipynb>data table notebook</a>'\n",
              "            + ' to learn more about interactive tables.';\n",
              "          element.innerHTML = '';\n",
              "          dataTable['output_type'] = 'display_data';\n",
              "          await google.colab.output.renderOutput(dataTable, element);\n",
              "          const docLink = document.createElement('div');\n",
              "          docLink.innerHTML = docLinkHtml;\n",
              "          element.appendChild(docLink);\n",
              "        }\n",
              "      </script>\n",
              "    </div>\n",
              "  </div>\n",
              "  "
            ]
          },
          "metadata": {},
          "execution_count": 58
        }
      ]
    },
    {
      "cell_type": "markdown",
      "source": [
        "**Testando o melhor modelo**\n",
        "\n",
        "Rodamos o modelo no cross_validate quebrando os dados em 5 grupos diferentes e embaralhados para aferir a performance do resultado"
      ],
      "metadata": {
        "id": "mjW4Bb-i9v6A"
      }
    },
    {
      "cell_type": "code",
      "source": [
        "modelo_hiper_RandomF = RandomForestClassifier( n_estimators= 100, criterion= 'entropy', max_depth= 5,\n",
        "                                              min_samples_split= 30, min_samples_leaf= 10, class_weight= 'balanced')\n",
        "\n",
        "Scores = cross_val_score( modelo_hiper_RandomF, X_normalizado, y, cv= KFold( n_splits=5, shuffle=True ))\n",
        "Scores"
      ],
      "metadata": {
        "colab": {
          "base_uri": "https://localhost:8080/"
        },
        "id": "3USYcUOI9xs3",
        "outputId": "bd699d94-7824-4b88-cbac-fc037bc10dff"
      },
      "execution_count": 59,
      "outputs": [
        {
          "output_type": "execute_result",
          "data": {
            "text/plain": [
              "array([0.80952381, 0.85119048, 0.80357143, 0.75449102, 0.81437126])"
            ]
          },
          "metadata": {},
          "execution_count": 59
        }
      ]
    },
    {
      "cell_type": "code",
      "source": [
        "media = Scores.mean() * 100\n",
        "desvio = Scores.std() * 100\n",
        "\n",
        "print(\"Accuracy médio %.2f\" % media)\n",
        "print(\"Intervalo [%.2f, %.2f]\" % (media - 2 * desvio, media + 2 * desvio))"
      ],
      "metadata": {
        "colab": {
          "base_uri": "https://localhost:8080/"
        },
        "id": "tQYZ9-g2-nXO",
        "outputId": "9339553e-fe7f-4dbc-a732-b0a105bcd99b"
      },
      "execution_count": 60,
      "outputs": [
        {
          "output_type": "stream",
          "name": "stdout",
          "text": [
            "Accuracy médio 80.66\n",
            "Intervalo [74.48, 86.85]\n"
          ]
        }
      ]
    },
    {
      "cell_type": "markdown",
      "source": [
        "### GridSearchCV"
      ],
      "metadata": {
        "id": "uTJueTxjBrtf"
      }
    },
    {
      "cell_type": "code",
      "source": [
        "from sklearn.model_selection import GridSearchCV\n",
        "from sklearn.metrics import accuracy_score"
      ],
      "metadata": {
        "id": "zB1NXOHbBvOX"
      },
      "execution_count": 61,
      "outputs": []
    },
    {
      "cell_type": "code",
      "source": [
        "espaco_de_parametros = {\n",
        "    \"n_estimators\" : [100],\n",
        "    \"criterion\" : ['gini', 'entropy'],\n",
        "    \"max_depth\" : [5, 7, 9],\n",
        "    \"min_samples_split\" : [30, 40, 50],\n",
        "    'min_samples_leaf': [10, 20],\n",
        "    'class_weight': ['balanced', None]\n",
        "}\n",
        "\n",
        "SEED=3192\n",
        "np.random.seed(SEED)\n",
        "\n",
        "selecionador = GridSearchCV(RandomForestClassifier(),\n",
        "                    espaco_de_parametros,\n",
        "                    cv = KFold(n_splits = 5, shuffle=True))\n",
        "selecionador.fit(X_normalizado, y)\n",
        "\n",
        "resultados = pd.DataFrame(selecionador.cv_results_)\n",
        "resultados.head(3).sort_values('rank_test_score', ascending=True)"
      ],
      "metadata": {
        "colab": {
          "base_uri": "https://localhost:8080/",
          "height": 363
        },
        "id": "xmETGiSoB_sw",
        "outputId": "3ee3cab4-c57d-4b4a-f8f6-c250f419d297"
      },
      "execution_count": 62,
      "outputs": [
        {
          "output_type": "execute_result",
          "data": {
            "text/plain": [
              "   mean_fit_time  std_fit_time  mean_score_time  std_score_time  \\\n",
              "1       0.510858      0.165687         0.031919        0.004589   \n",
              "0       0.772449      0.318175         0.055781        0.038141   \n",
              "2       0.340356      0.116266         0.033205        0.018980   \n",
              "\n",
              "  param_class_weight param_criterion param_max_depth param_min_samples_leaf  \\\n",
              "1           balanced            gini               5                     10   \n",
              "0           balanced            gini               5                     10   \n",
              "2           balanced            gini               5                     10   \n",
              "\n",
              "  param_min_samples_split param_n_estimators  \\\n",
              "1                      40                100   \n",
              "0                      30                100   \n",
              "2                      50                100   \n",
              "\n",
              "                                              params  split0_test_score  \\\n",
              "1  {'class_weight': 'balanced', 'criterion': 'gin...           0.851190   \n",
              "0  {'class_weight': 'balanced', 'criterion': 'gin...           0.845238   \n",
              "2  {'class_weight': 'balanced', 'criterion': 'gin...           0.833333   \n",
              "\n",
              "   split1_test_score  split2_test_score  split3_test_score  split4_test_score  \\\n",
              "1           0.761905           0.839286           0.790419           0.862275   \n",
              "0           0.761905           0.815476           0.808383           0.868263   \n",
              "2           0.750000           0.815476           0.778443           0.856287   \n",
              "\n",
              "   mean_test_score  std_test_score  rank_test_score  \n",
              "1         0.821015        0.038411               37  \n",
              "0         0.819853        0.036046               41  \n",
              "2         0.806708        0.038101               71  "
            ],
            "text/html": [
              "\n",
              "  <div id=\"df-e0508185-c810-47b0-affe-354e18745084\">\n",
              "    <div class=\"colab-df-container\">\n",
              "      <div>\n",
              "<style scoped>\n",
              "    .dataframe tbody tr th:only-of-type {\n",
              "        vertical-align: middle;\n",
              "    }\n",
              "\n",
              "    .dataframe tbody tr th {\n",
              "        vertical-align: top;\n",
              "    }\n",
              "\n",
              "    .dataframe thead th {\n",
              "        text-align: right;\n",
              "    }\n",
              "</style>\n",
              "<table border=\"1\" class=\"dataframe\">\n",
              "  <thead>\n",
              "    <tr style=\"text-align: right;\">\n",
              "      <th></th>\n",
              "      <th>mean_fit_time</th>\n",
              "      <th>std_fit_time</th>\n",
              "      <th>mean_score_time</th>\n",
              "      <th>std_score_time</th>\n",
              "      <th>param_class_weight</th>\n",
              "      <th>param_criterion</th>\n",
              "      <th>param_max_depth</th>\n",
              "      <th>param_min_samples_leaf</th>\n",
              "      <th>param_min_samples_split</th>\n",
              "      <th>param_n_estimators</th>\n",
              "      <th>params</th>\n",
              "      <th>split0_test_score</th>\n",
              "      <th>split1_test_score</th>\n",
              "      <th>split2_test_score</th>\n",
              "      <th>split3_test_score</th>\n",
              "      <th>split4_test_score</th>\n",
              "      <th>mean_test_score</th>\n",
              "      <th>std_test_score</th>\n",
              "      <th>rank_test_score</th>\n",
              "    </tr>\n",
              "  </thead>\n",
              "  <tbody>\n",
              "    <tr>\n",
              "      <th>1</th>\n",
              "      <td>0.510858</td>\n",
              "      <td>0.165687</td>\n",
              "      <td>0.031919</td>\n",
              "      <td>0.004589</td>\n",
              "      <td>balanced</td>\n",
              "      <td>gini</td>\n",
              "      <td>5</td>\n",
              "      <td>10</td>\n",
              "      <td>40</td>\n",
              "      <td>100</td>\n",
              "      <td>{'class_weight': 'balanced', 'criterion': 'gin...</td>\n",
              "      <td>0.851190</td>\n",
              "      <td>0.761905</td>\n",
              "      <td>0.839286</td>\n",
              "      <td>0.790419</td>\n",
              "      <td>0.862275</td>\n",
              "      <td>0.821015</td>\n",
              "      <td>0.038411</td>\n",
              "      <td>37</td>\n",
              "    </tr>\n",
              "    <tr>\n",
              "      <th>0</th>\n",
              "      <td>0.772449</td>\n",
              "      <td>0.318175</td>\n",
              "      <td>0.055781</td>\n",
              "      <td>0.038141</td>\n",
              "      <td>balanced</td>\n",
              "      <td>gini</td>\n",
              "      <td>5</td>\n",
              "      <td>10</td>\n",
              "      <td>30</td>\n",
              "      <td>100</td>\n",
              "      <td>{'class_weight': 'balanced', 'criterion': 'gin...</td>\n",
              "      <td>0.845238</td>\n",
              "      <td>0.761905</td>\n",
              "      <td>0.815476</td>\n",
              "      <td>0.808383</td>\n",
              "      <td>0.868263</td>\n",
              "      <td>0.819853</td>\n",
              "      <td>0.036046</td>\n",
              "      <td>41</td>\n",
              "    </tr>\n",
              "    <tr>\n",
              "      <th>2</th>\n",
              "      <td>0.340356</td>\n",
              "      <td>0.116266</td>\n",
              "      <td>0.033205</td>\n",
              "      <td>0.018980</td>\n",
              "      <td>balanced</td>\n",
              "      <td>gini</td>\n",
              "      <td>5</td>\n",
              "      <td>10</td>\n",
              "      <td>50</td>\n",
              "      <td>100</td>\n",
              "      <td>{'class_weight': 'balanced', 'criterion': 'gin...</td>\n",
              "      <td>0.833333</td>\n",
              "      <td>0.750000</td>\n",
              "      <td>0.815476</td>\n",
              "      <td>0.778443</td>\n",
              "      <td>0.856287</td>\n",
              "      <td>0.806708</td>\n",
              "      <td>0.038101</td>\n",
              "      <td>71</td>\n",
              "    </tr>\n",
              "  </tbody>\n",
              "</table>\n",
              "</div>\n",
              "      <button class=\"colab-df-convert\" onclick=\"convertToInteractive('df-e0508185-c810-47b0-affe-354e18745084')\"\n",
              "              title=\"Convert this dataframe to an interactive table.\"\n",
              "              style=\"display:none;\">\n",
              "        \n",
              "  <svg xmlns=\"http://www.w3.org/2000/svg\" height=\"24px\"viewBox=\"0 0 24 24\"\n",
              "       width=\"24px\">\n",
              "    <path d=\"M0 0h24v24H0V0z\" fill=\"none\"/>\n",
              "    <path d=\"M18.56 5.44l.94 2.06.94-2.06 2.06-.94-2.06-.94-.94-2.06-.94 2.06-2.06.94zm-11 1L8.5 8.5l.94-2.06 2.06-.94-2.06-.94L8.5 2.5l-.94 2.06-2.06.94zm10 10l.94 2.06.94-2.06 2.06-.94-2.06-.94-.94-2.06-.94 2.06-2.06.94z\"/><path d=\"M17.41 7.96l-1.37-1.37c-.4-.4-.92-.59-1.43-.59-.52 0-1.04.2-1.43.59L10.3 9.45l-7.72 7.72c-.78.78-.78 2.05 0 2.83L4 21.41c.39.39.9.59 1.41.59.51 0 1.02-.2 1.41-.59l7.78-7.78 2.81-2.81c.8-.78.8-2.07 0-2.86zM5.41 20L4 18.59l7.72-7.72 1.47 1.35L5.41 20z\"/>\n",
              "  </svg>\n",
              "      </button>\n",
              "      \n",
              "  <style>\n",
              "    .colab-df-container {\n",
              "      display:flex;\n",
              "      flex-wrap:wrap;\n",
              "      gap: 12px;\n",
              "    }\n",
              "\n",
              "    .colab-df-convert {\n",
              "      background-color: #E8F0FE;\n",
              "      border: none;\n",
              "      border-radius: 50%;\n",
              "      cursor: pointer;\n",
              "      display: none;\n",
              "      fill: #1967D2;\n",
              "      height: 32px;\n",
              "      padding: 0 0 0 0;\n",
              "      width: 32px;\n",
              "    }\n",
              "\n",
              "    .colab-df-convert:hover {\n",
              "      background-color: #E2EBFA;\n",
              "      box-shadow: 0px 1px 2px rgba(60, 64, 67, 0.3), 0px 1px 3px 1px rgba(60, 64, 67, 0.15);\n",
              "      fill: #174EA6;\n",
              "    }\n",
              "\n",
              "    [theme=dark] .colab-df-convert {\n",
              "      background-color: #3B4455;\n",
              "      fill: #D2E3FC;\n",
              "    }\n",
              "\n",
              "    [theme=dark] .colab-df-convert:hover {\n",
              "      background-color: #434B5C;\n",
              "      box-shadow: 0px 1px 3px 1px rgba(0, 0, 0, 0.15);\n",
              "      filter: drop-shadow(0px 1px 2px rgba(0, 0, 0, 0.3));\n",
              "      fill: #FFFFFF;\n",
              "    }\n",
              "  </style>\n",
              "\n",
              "      <script>\n",
              "        const buttonEl =\n",
              "          document.querySelector('#df-e0508185-c810-47b0-affe-354e18745084 button.colab-df-convert');\n",
              "        buttonEl.style.display =\n",
              "          google.colab.kernel.accessAllowed ? 'block' : 'none';\n",
              "\n",
              "        async function convertToInteractive(key) {\n",
              "          const element = document.querySelector('#df-e0508185-c810-47b0-affe-354e18745084');\n",
              "          const dataTable =\n",
              "            await google.colab.kernel.invokeFunction('convertToInteractive',\n",
              "                                                     [key], {});\n",
              "          if (!dataTable) return;\n",
              "\n",
              "          const docLinkHtml = 'Like what you see? Visit the ' +\n",
              "            '<a target=\"_blank\" href=https://colab.research.google.com/notebooks/data_table.ipynb>data table notebook</a>'\n",
              "            + ' to learn more about interactive tables.';\n",
              "          element.innerHTML = '';\n",
              "          dataTable['output_type'] = 'display_data';\n",
              "          await google.colab.output.renderOutput(dataTable, element);\n",
              "          const docLink = document.createElement('div');\n",
              "          docLink.innerHTML = docLinkHtml;\n",
              "          element.appendChild(docLink);\n",
              "        }\n",
              "      </script>\n",
              "    </div>\n",
              "  </div>\n",
              "  "
            ]
          },
          "metadata": {},
          "execution_count": 62
        }
      ]
    },
    {
      "cell_type": "markdown",
      "source": [
        "**Separa e embaralha os dados para medir a capacidade do algoritmo predizer as classes corretas**\n",
        "\n",
        "*Devido ao alto custo computacional as linhas que realizam o cross_validate abaixo foram comentadas*"
      ],
      "metadata": {
        "id": "x4TQbI0peZPO"
      }
    },
    {
      "cell_type": "code",
      "source": [
        "#Scores = cross_val_score( selecionador, X_normalizado, y, cv= KFold( n_splits=5, shuffle= True ) )\n",
        "#Scores"
      ],
      "metadata": {
        "id": "Wfdose8kectq"
      },
      "execution_count": 63,
      "outputs": []
    },
    {
      "cell_type": "code",
      "source": [
        "# media = Scores.mean() * 100\n",
        "# desvio = Scores.std() * 100\n",
        "\n",
        "# print(\"Acurácia Média %.2f\" % media)\n",
        "# print(\"Intervalo [%.2f, %.2f]\" % (media - 2 * desvio, media + 2 * desvio))"
      ],
      "metadata": {
        "id": "GmZtcd1oexai"
      },
      "execution_count": 64,
      "outputs": []
    },
    {
      "cell_type": "code",
      "source": [
        "# melhor = selecionador.best_estimator_\n",
        "# melhor"
      ],
      "metadata": {
        "id": "KO0uEUyTe9RD"
      },
      "execution_count": 65,
      "outputs": []
    },
    {
      "cell_type": "markdown",
      "source": [
        "### RandomizedSearchCV\n",
        "\n",
        "*Com essa aplicação conseguimos testas diferentes parâmetros de forma aleatória, sem usar todo o grid, e com isso reduzimos o custo de processamento*"
      ],
      "metadata": {
        "id": "Jfeo5PL2hmA9"
      }
    },
    {
      "cell_type": "code",
      "source": [
        "from scipy.stats import randint"
      ],
      "metadata": {
        "id": "EiXTIcmhhr_b"
      },
      "execution_count": 66,
      "outputs": []
    },
    {
      "cell_type": "code",
      "source": [
        "espaco_de_parametros = {\n",
        "    \"n_estimators\" : [100, 200],\n",
        "    \"criterion\" : ['gini', 'entropy'],\n",
        "    \"max_depth\" : randint(1, 20),\n",
        "    \"min_samples_split\" : randint(1, 20),\n",
        "    'min_samples_leaf': randint(1, 20),\n",
        "    'class_weight': ['balanced', None]\n",
        "}\n",
        "\n",
        "SEED=3192\n",
        "np.random.seed(SEED)\n",
        "\n",
        "selecionador = RandomizedSearchCV( RandomForestClassifier(), espaco_de_parametros, n_iter= 5, cv= KFold( n_splits=5, shuffle=True ))\n",
        "selecionador.fit( X_normalizado, y )\n",
        "resultado = pd.DataFrame(selecionador.cv_results_)\n",
        "resultado.head(3).sort_values('rank_test_score', ascending=True)"
      ],
      "metadata": {
        "colab": {
          "base_uri": "https://localhost:8080/",
          "height": 363
        },
        "id": "KcQtK5vsioMw",
        "outputId": "eebac14a-79dd-4851-ed59-3609379879e6"
      },
      "execution_count": 67,
      "outputs": [
        {
          "output_type": "execute_result",
          "data": {
            "text/plain": [
              "   mean_fit_time  std_fit_time  mean_score_time  std_score_time  \\\n",
              "1       0.345223      0.008586         0.023982        0.002412   \n",
              "2       0.157163      0.007465         0.010951        0.000428   \n",
              "0       0.320941      0.012462         0.023117        0.001835   \n",
              "\n",
              "  param_class_weight param_criterion param_max_depth param_min_samples_leaf  \\\n",
              "1           balanced            gini              17                     10   \n",
              "2           balanced         entropy               1                      1   \n",
              "0               None            gini               2                      1   \n",
              "\n",
              "  param_min_samples_split param_n_estimators  \\\n",
              "1                       5                200   \n",
              "2                       8                100   \n",
              "0                       5                200   \n",
              "\n",
              "                                              params  split0_test_score  \\\n",
              "1  {'class_weight': 'balanced', 'criterion': 'gin...           0.797619   \n",
              "2  {'class_weight': 'balanced', 'criterion': 'ent...           0.791667   \n",
              "0  {'class_weight': None, 'criterion': 'gini', 'm...           0.797619   \n",
              "\n",
              "   split1_test_score  split2_test_score  split3_test_score  split4_test_score  \\\n",
              "1           0.833333           0.815476           0.832335           0.856287   \n",
              "2           0.809524           0.785714           0.772455           0.772455   \n",
              "0           0.803571           0.773810           0.730539           0.784431   \n",
              "\n",
              "   mean_test_score  std_test_score  rank_test_score  \n",
              "1         0.827010        0.019608                2  \n",
              "2         0.786363        0.013797                4  \n",
              "0         0.777994        0.025885                5  "
            ],
            "text/html": [
              "\n",
              "  <div id=\"df-63993967-c152-484d-92b3-40f956767f8f\">\n",
              "    <div class=\"colab-df-container\">\n",
              "      <div>\n",
              "<style scoped>\n",
              "    .dataframe tbody tr th:only-of-type {\n",
              "        vertical-align: middle;\n",
              "    }\n",
              "\n",
              "    .dataframe tbody tr th {\n",
              "        vertical-align: top;\n",
              "    }\n",
              "\n",
              "    .dataframe thead th {\n",
              "        text-align: right;\n",
              "    }\n",
              "</style>\n",
              "<table border=\"1\" class=\"dataframe\">\n",
              "  <thead>\n",
              "    <tr style=\"text-align: right;\">\n",
              "      <th></th>\n",
              "      <th>mean_fit_time</th>\n",
              "      <th>std_fit_time</th>\n",
              "      <th>mean_score_time</th>\n",
              "      <th>std_score_time</th>\n",
              "      <th>param_class_weight</th>\n",
              "      <th>param_criterion</th>\n",
              "      <th>param_max_depth</th>\n",
              "      <th>param_min_samples_leaf</th>\n",
              "      <th>param_min_samples_split</th>\n",
              "      <th>param_n_estimators</th>\n",
              "      <th>params</th>\n",
              "      <th>split0_test_score</th>\n",
              "      <th>split1_test_score</th>\n",
              "      <th>split2_test_score</th>\n",
              "      <th>split3_test_score</th>\n",
              "      <th>split4_test_score</th>\n",
              "      <th>mean_test_score</th>\n",
              "      <th>std_test_score</th>\n",
              "      <th>rank_test_score</th>\n",
              "    </tr>\n",
              "  </thead>\n",
              "  <tbody>\n",
              "    <tr>\n",
              "      <th>1</th>\n",
              "      <td>0.345223</td>\n",
              "      <td>0.008586</td>\n",
              "      <td>0.023982</td>\n",
              "      <td>0.002412</td>\n",
              "      <td>balanced</td>\n",
              "      <td>gini</td>\n",
              "      <td>17</td>\n",
              "      <td>10</td>\n",
              "      <td>5</td>\n",
              "      <td>200</td>\n",
              "      <td>{'class_weight': 'balanced', 'criterion': 'gin...</td>\n",
              "      <td>0.797619</td>\n",
              "      <td>0.833333</td>\n",
              "      <td>0.815476</td>\n",
              "      <td>0.832335</td>\n",
              "      <td>0.856287</td>\n",
              "      <td>0.827010</td>\n",
              "      <td>0.019608</td>\n",
              "      <td>2</td>\n",
              "    </tr>\n",
              "    <tr>\n",
              "      <th>2</th>\n",
              "      <td>0.157163</td>\n",
              "      <td>0.007465</td>\n",
              "      <td>0.010951</td>\n",
              "      <td>0.000428</td>\n",
              "      <td>balanced</td>\n",
              "      <td>entropy</td>\n",
              "      <td>1</td>\n",
              "      <td>1</td>\n",
              "      <td>8</td>\n",
              "      <td>100</td>\n",
              "      <td>{'class_weight': 'balanced', 'criterion': 'ent...</td>\n",
              "      <td>0.791667</td>\n",
              "      <td>0.809524</td>\n",
              "      <td>0.785714</td>\n",
              "      <td>0.772455</td>\n",
              "      <td>0.772455</td>\n",
              "      <td>0.786363</td>\n",
              "      <td>0.013797</td>\n",
              "      <td>4</td>\n",
              "    </tr>\n",
              "    <tr>\n",
              "      <th>0</th>\n",
              "      <td>0.320941</td>\n",
              "      <td>0.012462</td>\n",
              "      <td>0.023117</td>\n",
              "      <td>0.001835</td>\n",
              "      <td>None</td>\n",
              "      <td>gini</td>\n",
              "      <td>2</td>\n",
              "      <td>1</td>\n",
              "      <td>5</td>\n",
              "      <td>200</td>\n",
              "      <td>{'class_weight': None, 'criterion': 'gini', 'm...</td>\n",
              "      <td>0.797619</td>\n",
              "      <td>0.803571</td>\n",
              "      <td>0.773810</td>\n",
              "      <td>0.730539</td>\n",
              "      <td>0.784431</td>\n",
              "      <td>0.777994</td>\n",
              "      <td>0.025885</td>\n",
              "      <td>5</td>\n",
              "    </tr>\n",
              "  </tbody>\n",
              "</table>\n",
              "</div>\n",
              "      <button class=\"colab-df-convert\" onclick=\"convertToInteractive('df-63993967-c152-484d-92b3-40f956767f8f')\"\n",
              "              title=\"Convert this dataframe to an interactive table.\"\n",
              "              style=\"display:none;\">\n",
              "        \n",
              "  <svg xmlns=\"http://www.w3.org/2000/svg\" height=\"24px\"viewBox=\"0 0 24 24\"\n",
              "       width=\"24px\">\n",
              "    <path d=\"M0 0h24v24H0V0z\" fill=\"none\"/>\n",
              "    <path d=\"M18.56 5.44l.94 2.06.94-2.06 2.06-.94-2.06-.94-.94-2.06-.94 2.06-2.06.94zm-11 1L8.5 8.5l.94-2.06 2.06-.94-2.06-.94L8.5 2.5l-.94 2.06-2.06.94zm10 10l.94 2.06.94-2.06 2.06-.94-2.06-.94-.94-2.06-.94 2.06-2.06.94z\"/><path d=\"M17.41 7.96l-1.37-1.37c-.4-.4-.92-.59-1.43-.59-.52 0-1.04.2-1.43.59L10.3 9.45l-7.72 7.72c-.78.78-.78 2.05 0 2.83L4 21.41c.39.39.9.59 1.41.59.51 0 1.02-.2 1.41-.59l7.78-7.78 2.81-2.81c.8-.78.8-2.07 0-2.86zM5.41 20L4 18.59l7.72-7.72 1.47 1.35L5.41 20z\"/>\n",
              "  </svg>\n",
              "      </button>\n",
              "      \n",
              "  <style>\n",
              "    .colab-df-container {\n",
              "      display:flex;\n",
              "      flex-wrap:wrap;\n",
              "      gap: 12px;\n",
              "    }\n",
              "\n",
              "    .colab-df-convert {\n",
              "      background-color: #E8F0FE;\n",
              "      border: none;\n",
              "      border-radius: 50%;\n",
              "      cursor: pointer;\n",
              "      display: none;\n",
              "      fill: #1967D2;\n",
              "      height: 32px;\n",
              "      padding: 0 0 0 0;\n",
              "      width: 32px;\n",
              "    }\n",
              "\n",
              "    .colab-df-convert:hover {\n",
              "      background-color: #E2EBFA;\n",
              "      box-shadow: 0px 1px 2px rgba(60, 64, 67, 0.3), 0px 1px 3px 1px rgba(60, 64, 67, 0.15);\n",
              "      fill: #174EA6;\n",
              "    }\n",
              "\n",
              "    [theme=dark] .colab-df-convert {\n",
              "      background-color: #3B4455;\n",
              "      fill: #D2E3FC;\n",
              "    }\n",
              "\n",
              "    [theme=dark] .colab-df-convert:hover {\n",
              "      background-color: #434B5C;\n",
              "      box-shadow: 0px 1px 3px 1px rgba(0, 0, 0, 0.15);\n",
              "      filter: drop-shadow(0px 1px 2px rgba(0, 0, 0, 0.3));\n",
              "      fill: #FFFFFF;\n",
              "    }\n",
              "  </style>\n",
              "\n",
              "      <script>\n",
              "        const buttonEl =\n",
              "          document.querySelector('#df-63993967-c152-484d-92b3-40f956767f8f button.colab-df-convert');\n",
              "        buttonEl.style.display =\n",
              "          google.colab.kernel.accessAllowed ? 'block' : 'none';\n",
              "\n",
              "        async function convertToInteractive(key) {\n",
              "          const element = document.querySelector('#df-63993967-c152-484d-92b3-40f956767f8f');\n",
              "          const dataTable =\n",
              "            await google.colab.kernel.invokeFunction('convertToInteractive',\n",
              "                                                     [key], {});\n",
              "          if (!dataTable) return;\n",
              "\n",
              "          const docLinkHtml = 'Like what you see? Visit the ' +\n",
              "            '<a target=\"_blank\" href=https://colab.research.google.com/notebooks/data_table.ipynb>data table notebook</a>'\n",
              "            + ' to learn more about interactive tables.';\n",
              "          element.innerHTML = '';\n",
              "          dataTable['output_type'] = 'display_data';\n",
              "          await google.colab.output.renderOutput(dataTable, element);\n",
              "          const docLink = document.createElement('div');\n",
              "          docLink.innerHTML = docLinkHtml;\n",
              "          element.appendChild(docLink);\n",
              "        }\n",
              "      </script>\n",
              "    </div>\n",
              "  </div>\n",
              "  "
            ]
          },
          "metadata": {},
          "execution_count": 67
        }
      ]
    },
    {
      "cell_type": "code",
      "source": [
        "Scores = cross_val_score( selecionador, X_normalizado, y, cv= KFold( n_splits=5, shuffle= True ) )\n",
        "Scores"
      ],
      "metadata": {
        "id": "nb0vO_zfk9S7"
      },
      "execution_count": null,
      "outputs": []
    },
    {
      "cell_type": "code",
      "source": [
        "media = Scores.mean() * 100\n",
        "desvio = Scores.std() * 100\n",
        "\n",
        "print(\"Acurácia Média %.2f\" % media)\n",
        "print(\"Intervalo [%.2f, %.2f]\" % (media - 2 * desvio, media + 2 * desvio))"
      ],
      "metadata": {
        "colab": {
          "base_uri": "https://localhost:8080/"
        },
        "id": "J-9khBkik_uG",
        "outputId": "8c7611e6-3f53-4c0e-9913-f731d91912bf"
      },
      "execution_count": 69,
      "outputs": [
        {
          "output_type": "stream",
          "name": "stdout",
          "text": [
            "Acurácia Média 83.17\n",
            "Intervalo [80.13, 86.21]\n"
          ]
        }
      ]
    },
    {
      "cell_type": "code",
      "source": [
        "selecionador.best_params_"
      ],
      "metadata": {
        "colab": {
          "base_uri": "https://localhost:8080/"
        },
        "id": "hMK7B_2bmGJN",
        "outputId": "d58ef173-b334-4375-b330-a712de093b11"
      },
      "execution_count": 70,
      "outputs": [
        {
          "output_type": "execute_result",
          "data": {
            "text/plain": [
              "{'class_weight': 'balanced',\n",
              " 'criterion': 'gini',\n",
              " 'max_depth': 11,\n",
              " 'min_samples_leaf': 1,\n",
              " 'min_samples_split': 14,\n",
              " 'n_estimators': 100}"
            ]
          },
          "metadata": {},
          "execution_count": 70
        }
      ]
    },
    {
      "cell_type": "markdown",
      "source": [
        "## SVC"
      ],
      "metadata": {
        "id": "dh0pe-VI-LqL"
      }
    },
    {
      "cell_type": "markdown",
      "source": [
        "### Aplicação Manual"
      ],
      "metadata": {
        "id": "z-p4H-Ld-Voj"
      }
    },
    {
      "cell_type": "code",
      "source": [
        "def SVC_Hiperparametros( c, kernel, shrinking, probability, class_weight ):\n",
        "  \n",
        "  #instancia o modelo\n",
        "  #retorna uma lista com as métricas\n",
        "\n",
        "  SEED = 3192\n",
        "  np.random.seed(SEED)\n",
        "  \n",
        "  cv = KFold(n_splits = 10, shuffle=True)\n",
        "  modelo = SVC( C= c, kernel= kernel, shrinking= shrinking, \n",
        "                probability= probability, class_weight= class_weight )\n",
        "  \n",
        "  resultados = cross_validate(modelo, X_normalizado, y, cv = cv, return_train_score=True)\n",
        "\n",
        "  train_score = resultados['train_score'].mean() * 100\n",
        "  test_score = resultados['test_score'].mean() * 100\n",
        "\n",
        "  tabela = [ c, kernel, shrinking, probability, class_weight, train_score, test_score]\n",
        "  return tabela"
      ],
      "metadata": {
        "id": "uekl3yoV-Kx0"
      },
      "execution_count": 72,
      "outputs": []
    },
    {
      "cell_type": "code",
      "source": [
        "# Aplicação com diferentes hiperparametros\n",
        "\n",
        "lista = [ ]\n",
        "for c in [1, 1.5]:\n",
        "  for kernel in ['linear', 'poly', 'rbf', 'sigmoid']:\n",
        "    for shrinking in [True, False]:\n",
        "      for probability in [True, False]:\n",
        "        for class_weight in ['balanced', None]:\n",
        "\n",
        "          tabela = SVC_Hiperparametros( c= c, kernel= kernel, shrinking= shrinking, \n",
        "                probability= probability, class_weight= class_weight )\n",
        "          lista.append( tabela )\n",
        "    \n",
        "resultados = pd.DataFrame(lista, columns= [ 'c', 'kernel', 'shrinking', 'probability', 'class_weight', \"train\", \"test\" ] )\n",
        "resultados.sort_values('test', ascending=False).head()"
      ],
      "metadata": {
        "colab": {
          "base_uri": "https://localhost:8080/",
          "height": 206
        },
        "id": "9EL7f00p-uEr",
        "outputId": "4ddd25f1-097e-4b3d-ca75-830e589df35d"
      },
      "execution_count": 73,
      "outputs": [
        {
          "output_type": "execute_result",
          "data": {
            "text/plain": [
              "      c kernel  shrinking  probability class_weight      train       test\n",
              "23  1.0    rbf      False        False         None  86.064820  84.380379\n",
              "16  1.0    rbf       True         True     balanced  86.078065  84.380379\n",
              "22  1.0    rbf      False        False     balanced  86.078065  84.380379\n",
              "21  1.0    rbf      False         True         None  86.064820  84.380379\n",
              "20  1.0    rbf      False         True     balanced  86.078065  84.380379"
            ],
            "text/html": [
              "\n",
              "  <div id=\"df-f2670e48-c08a-40b6-b80f-8e76436bf61a\">\n",
              "    <div class=\"colab-df-container\">\n",
              "      <div>\n",
              "<style scoped>\n",
              "    .dataframe tbody tr th:only-of-type {\n",
              "        vertical-align: middle;\n",
              "    }\n",
              "\n",
              "    .dataframe tbody tr th {\n",
              "        vertical-align: top;\n",
              "    }\n",
              "\n",
              "    .dataframe thead th {\n",
              "        text-align: right;\n",
              "    }\n",
              "</style>\n",
              "<table border=\"1\" class=\"dataframe\">\n",
              "  <thead>\n",
              "    <tr style=\"text-align: right;\">\n",
              "      <th></th>\n",
              "      <th>c</th>\n",
              "      <th>kernel</th>\n",
              "      <th>shrinking</th>\n",
              "      <th>probability</th>\n",
              "      <th>class_weight</th>\n",
              "      <th>train</th>\n",
              "      <th>test</th>\n",
              "    </tr>\n",
              "  </thead>\n",
              "  <tbody>\n",
              "    <tr>\n",
              "      <th>23</th>\n",
              "      <td>1.0</td>\n",
              "      <td>rbf</td>\n",
              "      <td>False</td>\n",
              "      <td>False</td>\n",
              "      <td>None</td>\n",
              "      <td>86.064820</td>\n",
              "      <td>84.380379</td>\n",
              "    </tr>\n",
              "    <tr>\n",
              "      <th>16</th>\n",
              "      <td>1.0</td>\n",
              "      <td>rbf</td>\n",
              "      <td>True</td>\n",
              "      <td>True</td>\n",
              "      <td>balanced</td>\n",
              "      <td>86.078065</td>\n",
              "      <td>84.380379</td>\n",
              "    </tr>\n",
              "    <tr>\n",
              "      <th>22</th>\n",
              "      <td>1.0</td>\n",
              "      <td>rbf</td>\n",
              "      <td>False</td>\n",
              "      <td>False</td>\n",
              "      <td>balanced</td>\n",
              "      <td>86.078065</td>\n",
              "      <td>84.380379</td>\n",
              "    </tr>\n",
              "    <tr>\n",
              "      <th>21</th>\n",
              "      <td>1.0</td>\n",
              "      <td>rbf</td>\n",
              "      <td>False</td>\n",
              "      <td>True</td>\n",
              "      <td>None</td>\n",
              "      <td>86.064820</td>\n",
              "      <td>84.380379</td>\n",
              "    </tr>\n",
              "    <tr>\n",
              "      <th>20</th>\n",
              "      <td>1.0</td>\n",
              "      <td>rbf</td>\n",
              "      <td>False</td>\n",
              "      <td>True</td>\n",
              "      <td>balanced</td>\n",
              "      <td>86.078065</td>\n",
              "      <td>84.380379</td>\n",
              "    </tr>\n",
              "  </tbody>\n",
              "</table>\n",
              "</div>\n",
              "      <button class=\"colab-df-convert\" onclick=\"convertToInteractive('df-f2670e48-c08a-40b6-b80f-8e76436bf61a')\"\n",
              "              title=\"Convert this dataframe to an interactive table.\"\n",
              "              style=\"display:none;\">\n",
              "        \n",
              "  <svg xmlns=\"http://www.w3.org/2000/svg\" height=\"24px\"viewBox=\"0 0 24 24\"\n",
              "       width=\"24px\">\n",
              "    <path d=\"M0 0h24v24H0V0z\" fill=\"none\"/>\n",
              "    <path d=\"M18.56 5.44l.94 2.06.94-2.06 2.06-.94-2.06-.94-.94-2.06-.94 2.06-2.06.94zm-11 1L8.5 8.5l.94-2.06 2.06-.94-2.06-.94L8.5 2.5l-.94 2.06-2.06.94zm10 10l.94 2.06.94-2.06 2.06-.94-2.06-.94-.94-2.06-.94 2.06-2.06.94z\"/><path d=\"M17.41 7.96l-1.37-1.37c-.4-.4-.92-.59-1.43-.59-.52 0-1.04.2-1.43.59L10.3 9.45l-7.72 7.72c-.78.78-.78 2.05 0 2.83L4 21.41c.39.39.9.59 1.41.59.51 0 1.02-.2 1.41-.59l7.78-7.78 2.81-2.81c.8-.78.8-2.07 0-2.86zM5.41 20L4 18.59l7.72-7.72 1.47 1.35L5.41 20z\"/>\n",
              "  </svg>\n",
              "      </button>\n",
              "      \n",
              "  <style>\n",
              "    .colab-df-container {\n",
              "      display:flex;\n",
              "      flex-wrap:wrap;\n",
              "      gap: 12px;\n",
              "    }\n",
              "\n",
              "    .colab-df-convert {\n",
              "      background-color: #E8F0FE;\n",
              "      border: none;\n",
              "      border-radius: 50%;\n",
              "      cursor: pointer;\n",
              "      display: none;\n",
              "      fill: #1967D2;\n",
              "      height: 32px;\n",
              "      padding: 0 0 0 0;\n",
              "      width: 32px;\n",
              "    }\n",
              "\n",
              "    .colab-df-convert:hover {\n",
              "      background-color: #E2EBFA;\n",
              "      box-shadow: 0px 1px 2px rgba(60, 64, 67, 0.3), 0px 1px 3px 1px rgba(60, 64, 67, 0.15);\n",
              "      fill: #174EA6;\n",
              "    }\n",
              "\n",
              "    [theme=dark] .colab-df-convert {\n",
              "      background-color: #3B4455;\n",
              "      fill: #D2E3FC;\n",
              "    }\n",
              "\n",
              "    [theme=dark] .colab-df-convert:hover {\n",
              "      background-color: #434B5C;\n",
              "      box-shadow: 0px 1px 3px 1px rgba(0, 0, 0, 0.15);\n",
              "      filter: drop-shadow(0px 1px 2px rgba(0, 0, 0, 0.3));\n",
              "      fill: #FFFFFF;\n",
              "    }\n",
              "  </style>\n",
              "\n",
              "      <script>\n",
              "        const buttonEl =\n",
              "          document.querySelector('#df-f2670e48-c08a-40b6-b80f-8e76436bf61a button.colab-df-convert');\n",
              "        buttonEl.style.display =\n",
              "          google.colab.kernel.accessAllowed ? 'block' : 'none';\n",
              "\n",
              "        async function convertToInteractive(key) {\n",
              "          const element = document.querySelector('#df-f2670e48-c08a-40b6-b80f-8e76436bf61a');\n",
              "          const dataTable =\n",
              "            await google.colab.kernel.invokeFunction('convertToInteractive',\n",
              "                                                     [key], {});\n",
              "          if (!dataTable) return;\n",
              "\n",
              "          const docLinkHtml = 'Like what you see? Visit the ' +\n",
              "            '<a target=\"_blank\" href=https://colab.research.google.com/notebooks/data_table.ipynb>data table notebook</a>'\n",
              "            + ' to learn more about interactive tables.';\n",
              "          element.innerHTML = '';\n",
              "          dataTable['output_type'] = 'display_data';\n",
              "          await google.colab.output.renderOutput(dataTable, element);\n",
              "          const docLink = document.createElement('div');\n",
              "          docLink.innerHTML = docLinkHtml;\n",
              "          element.appendChild(docLink);\n",
              "        }\n",
              "      </script>\n",
              "    </div>\n",
              "  </div>\n",
              "  "
            ]
          },
          "metadata": {},
          "execution_count": 73
        }
      ]
    },
    {
      "cell_type": "code",
      "source": [
        "modelo_hiper_SVC = SVC( C= 1, kernel= 'rbf', shrinking= False, \n",
        "                probability= False, class_weight= None )\n",
        "\n",
        "Scores = cross_val_score( modelo_hiper_SVC, X_normalizado, y, cv= KFold( n_splits=5, shuffle=True ))\n",
        "Scores"
      ],
      "metadata": {
        "colab": {
          "base_uri": "https://localhost:8080/"
        },
        "id": "HIdX7WZl-wnQ",
        "outputId": "dbde6fae-a1fe-4678-824c-ca9c17a117ac"
      },
      "execution_count": 74,
      "outputs": [
        {
          "output_type": "execute_result",
          "data": {
            "text/plain": [
              "array([0.8452381 , 0.86309524, 0.79166667, 0.86227545, 0.82634731])"
            ]
          },
          "metadata": {},
          "execution_count": 74
        }
      ]
    },
    {
      "cell_type": "code",
      "source": [
        "media = Scores.mean() * 100\n",
        "desvio = Scores.std() * 100\n",
        "\n",
        "print(\"Accuracy médio %.2f\" % media)\n",
        "print(\"Intervalo [%.2f, %.2f]\" % (media - 2 * desvio, media + 2 * desvio))"
      ],
      "metadata": {
        "colab": {
          "base_uri": "https://localhost:8080/"
        },
        "id": "xPodV84b-yqL",
        "outputId": "c48ab215-f1c7-4269-fc7b-bc86bf9b624a"
      },
      "execution_count": 75,
      "outputs": [
        {
          "output_type": "stream",
          "name": "stdout",
          "text": [
            "Accuracy médio 83.77\n",
            "Intervalo [78.44, 89.10]\n"
          ]
        }
      ]
    },
    {
      "cell_type": "markdown",
      "source": [
        "### GridSearchCV"
      ],
      "metadata": {
        "id": "4stdL10G-Y4c"
      }
    },
    {
      "cell_type": "markdown",
      "source": [
        "Alternativa ao modo manual, execução sem a *Função e Laço For*"
      ],
      "metadata": {
        "id": "1kF9d47DGPuM"
      }
    },
    {
      "cell_type": "code",
      "source": [
        "espaco_de_parametros = {\n",
        "    'C' : [1, 1.5],\n",
        "    \"kernel\" : ['linear', 'poly', 'rbf', 'sigmoid'],\n",
        "    \"shrinking\" : [True, False],\n",
        "    \"probability\" : [True, False],\n",
        "    'class_weight': ['balanced', None]\n",
        "}\n",
        "\n",
        "SEED=3192\n",
        "np.random.seed(SEED)\n",
        "\n",
        "selecionador = GridSearchCV(SVC(),\n",
        "                    espaco_de_parametros,\n",
        "                    cv = KFold(n_splits = 5, shuffle=True))\n",
        "selecionador.fit(X_normalizado, y)\n",
        "\n",
        "resultados = pd.DataFrame(selecionador.cv_results_)\n",
        "resultados.head(3).sort_values('rank_test_score', ascending=True)"
      ],
      "metadata": {
        "colab": {
          "base_uri": "https://localhost:8080/",
          "height": 363
        },
        "id": "dTqo3AlX-cKV",
        "outputId": "bee2565d-bcfb-4d2d-c6f0-bfb42dcacc58"
      },
      "execution_count": 77,
      "outputs": [
        {
          "output_type": "execute_result",
          "data": {
            "text/plain": [
              "   mean_fit_time  std_fit_time  mean_score_time  std_score_time param_C  \\\n",
              "0       0.109154      0.011782         0.005805        0.002432       1   \n",
              "1       0.208365      0.126896         0.007221        0.005429       1   \n",
              "2       0.016879      0.002185         0.003948        0.000863       1   \n",
              "\n",
              "  param_class_weight param_kernel param_probability param_shrinking  \\\n",
              "0           balanced       linear              True            True   \n",
              "1           balanced       linear              True           False   \n",
              "2           balanced       linear             False            True   \n",
              "\n",
              "                                              params  split0_test_score  \\\n",
              "0  {'C': 1, 'class_weight': 'balanced', 'kernel':...           0.845238   \n",
              "1  {'C': 1, 'class_weight': 'balanced', 'kernel':...           0.845238   \n",
              "2  {'C': 1, 'class_weight': 'balanced', 'kernel':...           0.845238   \n",
              "\n",
              "   split1_test_score  split2_test_score  split3_test_score  split4_test_score  \\\n",
              "0           0.803571           0.845238           0.808383           0.862275   \n",
              "1           0.803571           0.845238           0.808383           0.862275   \n",
              "2           0.803571           0.845238           0.808383           0.862275   \n",
              "\n",
              "   mean_test_score  std_test_score  rank_test_score  \n",
              "0         0.832941        0.022929               17  \n",
              "1         0.832941        0.022929               17  \n",
              "2         0.832941        0.022929               17  "
            ],
            "text/html": [
              "\n",
              "  <div id=\"df-9f0f7c78-6807-4b75-acb9-cab4eb08b8f1\">\n",
              "    <div class=\"colab-df-container\">\n",
              "      <div>\n",
              "<style scoped>\n",
              "    .dataframe tbody tr th:only-of-type {\n",
              "        vertical-align: middle;\n",
              "    }\n",
              "\n",
              "    .dataframe tbody tr th {\n",
              "        vertical-align: top;\n",
              "    }\n",
              "\n",
              "    .dataframe thead th {\n",
              "        text-align: right;\n",
              "    }\n",
              "</style>\n",
              "<table border=\"1\" class=\"dataframe\">\n",
              "  <thead>\n",
              "    <tr style=\"text-align: right;\">\n",
              "      <th></th>\n",
              "      <th>mean_fit_time</th>\n",
              "      <th>std_fit_time</th>\n",
              "      <th>mean_score_time</th>\n",
              "      <th>std_score_time</th>\n",
              "      <th>param_C</th>\n",
              "      <th>param_class_weight</th>\n",
              "      <th>param_kernel</th>\n",
              "      <th>param_probability</th>\n",
              "      <th>param_shrinking</th>\n",
              "      <th>params</th>\n",
              "      <th>split0_test_score</th>\n",
              "      <th>split1_test_score</th>\n",
              "      <th>split2_test_score</th>\n",
              "      <th>split3_test_score</th>\n",
              "      <th>split4_test_score</th>\n",
              "      <th>mean_test_score</th>\n",
              "      <th>std_test_score</th>\n",
              "      <th>rank_test_score</th>\n",
              "    </tr>\n",
              "  </thead>\n",
              "  <tbody>\n",
              "    <tr>\n",
              "      <th>0</th>\n",
              "      <td>0.109154</td>\n",
              "      <td>0.011782</td>\n",
              "      <td>0.005805</td>\n",
              "      <td>0.002432</td>\n",
              "      <td>1</td>\n",
              "      <td>balanced</td>\n",
              "      <td>linear</td>\n",
              "      <td>True</td>\n",
              "      <td>True</td>\n",
              "      <td>{'C': 1, 'class_weight': 'balanced', 'kernel':...</td>\n",
              "      <td>0.845238</td>\n",
              "      <td>0.803571</td>\n",
              "      <td>0.845238</td>\n",
              "      <td>0.808383</td>\n",
              "      <td>0.862275</td>\n",
              "      <td>0.832941</td>\n",
              "      <td>0.022929</td>\n",
              "      <td>17</td>\n",
              "    </tr>\n",
              "    <tr>\n",
              "      <th>1</th>\n",
              "      <td>0.208365</td>\n",
              "      <td>0.126896</td>\n",
              "      <td>0.007221</td>\n",
              "      <td>0.005429</td>\n",
              "      <td>1</td>\n",
              "      <td>balanced</td>\n",
              "      <td>linear</td>\n",
              "      <td>True</td>\n",
              "      <td>False</td>\n",
              "      <td>{'C': 1, 'class_weight': 'balanced', 'kernel':...</td>\n",
              "      <td>0.845238</td>\n",
              "      <td>0.803571</td>\n",
              "      <td>0.845238</td>\n",
              "      <td>0.808383</td>\n",
              "      <td>0.862275</td>\n",
              "      <td>0.832941</td>\n",
              "      <td>0.022929</td>\n",
              "      <td>17</td>\n",
              "    </tr>\n",
              "    <tr>\n",
              "      <th>2</th>\n",
              "      <td>0.016879</td>\n",
              "      <td>0.002185</td>\n",
              "      <td>0.003948</td>\n",
              "      <td>0.000863</td>\n",
              "      <td>1</td>\n",
              "      <td>balanced</td>\n",
              "      <td>linear</td>\n",
              "      <td>False</td>\n",
              "      <td>True</td>\n",
              "      <td>{'C': 1, 'class_weight': 'balanced', 'kernel':...</td>\n",
              "      <td>0.845238</td>\n",
              "      <td>0.803571</td>\n",
              "      <td>0.845238</td>\n",
              "      <td>0.808383</td>\n",
              "      <td>0.862275</td>\n",
              "      <td>0.832941</td>\n",
              "      <td>0.022929</td>\n",
              "      <td>17</td>\n",
              "    </tr>\n",
              "  </tbody>\n",
              "</table>\n",
              "</div>\n",
              "      <button class=\"colab-df-convert\" onclick=\"convertToInteractive('df-9f0f7c78-6807-4b75-acb9-cab4eb08b8f1')\"\n",
              "              title=\"Convert this dataframe to an interactive table.\"\n",
              "              style=\"display:none;\">\n",
              "        \n",
              "  <svg xmlns=\"http://www.w3.org/2000/svg\" height=\"24px\"viewBox=\"0 0 24 24\"\n",
              "       width=\"24px\">\n",
              "    <path d=\"M0 0h24v24H0V0z\" fill=\"none\"/>\n",
              "    <path d=\"M18.56 5.44l.94 2.06.94-2.06 2.06-.94-2.06-.94-.94-2.06-.94 2.06-2.06.94zm-11 1L8.5 8.5l.94-2.06 2.06-.94-2.06-.94L8.5 2.5l-.94 2.06-2.06.94zm10 10l.94 2.06.94-2.06 2.06-.94-2.06-.94-.94-2.06-.94 2.06-2.06.94z\"/><path d=\"M17.41 7.96l-1.37-1.37c-.4-.4-.92-.59-1.43-.59-.52 0-1.04.2-1.43.59L10.3 9.45l-7.72 7.72c-.78.78-.78 2.05 0 2.83L4 21.41c.39.39.9.59 1.41.59.51 0 1.02-.2 1.41-.59l7.78-7.78 2.81-2.81c.8-.78.8-2.07 0-2.86zM5.41 20L4 18.59l7.72-7.72 1.47 1.35L5.41 20z\"/>\n",
              "  </svg>\n",
              "      </button>\n",
              "      \n",
              "  <style>\n",
              "    .colab-df-container {\n",
              "      display:flex;\n",
              "      flex-wrap:wrap;\n",
              "      gap: 12px;\n",
              "    }\n",
              "\n",
              "    .colab-df-convert {\n",
              "      background-color: #E8F0FE;\n",
              "      border: none;\n",
              "      border-radius: 50%;\n",
              "      cursor: pointer;\n",
              "      display: none;\n",
              "      fill: #1967D2;\n",
              "      height: 32px;\n",
              "      padding: 0 0 0 0;\n",
              "      width: 32px;\n",
              "    }\n",
              "\n",
              "    .colab-df-convert:hover {\n",
              "      background-color: #E2EBFA;\n",
              "      box-shadow: 0px 1px 2px rgba(60, 64, 67, 0.3), 0px 1px 3px 1px rgba(60, 64, 67, 0.15);\n",
              "      fill: #174EA6;\n",
              "    }\n",
              "\n",
              "    [theme=dark] .colab-df-convert {\n",
              "      background-color: #3B4455;\n",
              "      fill: #D2E3FC;\n",
              "    }\n",
              "\n",
              "    [theme=dark] .colab-df-convert:hover {\n",
              "      background-color: #434B5C;\n",
              "      box-shadow: 0px 1px 3px 1px rgba(0, 0, 0, 0.15);\n",
              "      filter: drop-shadow(0px 1px 2px rgba(0, 0, 0, 0.3));\n",
              "      fill: #FFFFFF;\n",
              "    }\n",
              "  </style>\n",
              "\n",
              "      <script>\n",
              "        const buttonEl =\n",
              "          document.querySelector('#df-9f0f7c78-6807-4b75-acb9-cab4eb08b8f1 button.colab-df-convert');\n",
              "        buttonEl.style.display =\n",
              "          google.colab.kernel.accessAllowed ? 'block' : 'none';\n",
              "\n",
              "        async function convertToInteractive(key) {\n",
              "          const element = document.querySelector('#df-9f0f7c78-6807-4b75-acb9-cab4eb08b8f1');\n",
              "          const dataTable =\n",
              "            await google.colab.kernel.invokeFunction('convertToInteractive',\n",
              "                                                     [key], {});\n",
              "          if (!dataTable) return;\n",
              "\n",
              "          const docLinkHtml = 'Like what you see? Visit the ' +\n",
              "            '<a target=\"_blank\" href=https://colab.research.google.com/notebooks/data_table.ipynb>data table notebook</a>'\n",
              "            + ' to learn more about interactive tables.';\n",
              "          element.innerHTML = '';\n",
              "          dataTable['output_type'] = 'display_data';\n",
              "          await google.colab.output.renderOutput(dataTable, element);\n",
              "          const docLink = document.createElement('div');\n",
              "          docLink.innerHTML = docLinkHtml;\n",
              "          element.appendChild(docLink);\n",
              "        }\n",
              "      </script>\n",
              "    </div>\n",
              "  </div>\n",
              "  "
            ]
          },
          "metadata": {},
          "execution_count": 77
        }
      ]
    },
    {
      "cell_type": "code",
      "source": [
        "Scores = cross_val_score( selecionador, X_normalizado, y, cv= KFold( n_splits=5, shuffle= True ) )\n",
        "Scores"
      ],
      "metadata": {
        "colab": {
          "base_uri": "https://localhost:8080/"
        },
        "id": "eRH_vojFFYWc",
        "outputId": "0d6f9fa2-df85-40a5-f97f-9eff775ac428"
      },
      "execution_count": 78,
      "outputs": [
        {
          "output_type": "execute_result",
          "data": {
            "text/plain": [
              "array([0.82738095, 0.79166667, 0.82142857, 0.78443114, 0.86227545])"
            ]
          },
          "metadata": {},
          "execution_count": 78
        }
      ]
    },
    {
      "cell_type": "code",
      "source": [
        "media = Scores.mean() * 100\n",
        "desvio = Scores.std() * 100\n",
        "\n",
        "print(\"Acurácia Média %.2f\" % media)\n",
        "print(\"Intervalo [%.2f, %.2f]\" % (media - 2 * desvio, media + 2 * desvio))"
      ],
      "metadata": {
        "colab": {
          "base_uri": "https://localhost:8080/"
        },
        "id": "czUBSrutFbGc",
        "outputId": "2e1b2639-603d-4a02-85a1-9fa38fc136ce"
      },
      "execution_count": 79,
      "outputs": [
        {
          "output_type": "stream",
          "name": "stdout",
          "text": [
            "Acurácia Média 81.74\n",
            "Intervalo [76.17, 87.31]\n"
          ]
        }
      ]
    },
    {
      "cell_type": "code",
      "source": [
        "selecionador.best_params_"
      ],
      "metadata": {
        "colab": {
          "base_uri": "https://localhost:8080/"
        },
        "id": "jjDkk38zG9QD",
        "outputId": "9ced8ebb-fe6a-4175-fc2e-7537242cf10a"
      },
      "execution_count": 81,
      "outputs": [
        {
          "output_type": "execute_result",
          "data": {
            "text/plain": [
              "{'C': 1,\n",
              " 'class_weight': 'balanced',\n",
              " 'kernel': 'rbf',\n",
              " 'probability': True,\n",
              " 'shrinking': True}"
            ]
          },
          "metadata": {},
          "execution_count": 81
        }
      ]
    },
    {
      "cell_type": "markdown",
      "source": [
        "### RandomizedSearchCV"
      ],
      "metadata": {
        "id": "uETubQFf-dDG"
      }
    },
    {
      "cell_type": "code",
      "source": [
        "espaco_de_parametros = {\n",
        "    'C' : [1, 1.5],\n",
        "    \"kernel\" : ['linear', 'poly', 'rbf', 'sigmoid'],\n",
        "    \"shrinking\" : [True, False],\n",
        "    \"probability\" : [True, False],\n",
        "    'class_weight': ['balanced', None]\n",
        "}\n",
        "\n",
        "SEED=3192\n",
        "np.random.seed(SEED)\n",
        "\n",
        "selecionador = RandomizedSearchCV(SVC(),\n",
        "                    espaco_de_parametros, n_iter= 10,\n",
        "                    cv = KFold(n_splits = 5, shuffle=True))\n",
        "selecionador.fit(X_normalizado, y)\n",
        "\n",
        "resultados = pd.DataFrame(selecionador.cv_results_)\n",
        "resultados.head(3).sort_values('rank_test_score', ascending=True)"
      ],
      "metadata": {
        "colab": {
          "base_uri": "https://localhost:8080/",
          "height": 398
        },
        "id": "_CCFD8Oz-gWi",
        "outputId": "cba47b98-0176-4ccc-9163-954c1c05b1b4"
      },
      "execution_count": 82,
      "outputs": [
        {
          "output_type": "execute_result",
          "data": {
            "text/plain": [
              "   mean_fit_time  std_fit_time  mean_score_time  std_score_time  \\\n",
              "0       0.014982      0.004570         0.002698        0.000125   \n",
              "2       0.074032      0.004870         0.003371        0.000152   \n",
              "1       0.018841      0.000648         0.004171        0.000086   \n",
              "\n",
              "  param_shrinking param_probability param_kernel param_class_weight param_C  \\\n",
              "0            True             False       linear               None     1.5   \n",
              "2            True              True         poly               None     1.5   \n",
              "1           False             False      sigmoid               None       1   \n",
              "\n",
              "                                              params  split0_test_score  \\\n",
              "0  {'shrinking': True, 'probability': False, 'ker...           0.833333   \n",
              "2  {'shrinking': True, 'probability': True, 'kern...           0.803571   \n",
              "1  {'shrinking': False, 'probability': False, 'ke...           0.767857   \n",
              "\n",
              "   split1_test_score  split2_test_score  split3_test_score  split4_test_score  \\\n",
              "0           0.845238           0.845238           0.826347           0.814371   \n",
              "2           0.857143           0.809524           0.784431           0.808383   \n",
              "1           0.797619           0.803571           0.826347           0.766467   \n",
              "\n",
              "   mean_test_score  std_test_score  rank_test_score  \n",
              "0         0.832906        0.011755                2  \n",
              "2         0.812610        0.024026                7  \n",
              "1         0.792372        0.022713                8  "
            ],
            "text/html": [
              "\n",
              "  <div id=\"df-8e10ee27-63e0-4de1-92ff-1405b0d159b4\">\n",
              "    <div class=\"colab-df-container\">\n",
              "      <div>\n",
              "<style scoped>\n",
              "    .dataframe tbody tr th:only-of-type {\n",
              "        vertical-align: middle;\n",
              "    }\n",
              "\n",
              "    .dataframe tbody tr th {\n",
              "        vertical-align: top;\n",
              "    }\n",
              "\n",
              "    .dataframe thead th {\n",
              "        text-align: right;\n",
              "    }\n",
              "</style>\n",
              "<table border=\"1\" class=\"dataframe\">\n",
              "  <thead>\n",
              "    <tr style=\"text-align: right;\">\n",
              "      <th></th>\n",
              "      <th>mean_fit_time</th>\n",
              "      <th>std_fit_time</th>\n",
              "      <th>mean_score_time</th>\n",
              "      <th>std_score_time</th>\n",
              "      <th>param_shrinking</th>\n",
              "      <th>param_probability</th>\n",
              "      <th>param_kernel</th>\n",
              "      <th>param_class_weight</th>\n",
              "      <th>param_C</th>\n",
              "      <th>params</th>\n",
              "      <th>split0_test_score</th>\n",
              "      <th>split1_test_score</th>\n",
              "      <th>split2_test_score</th>\n",
              "      <th>split3_test_score</th>\n",
              "      <th>split4_test_score</th>\n",
              "      <th>mean_test_score</th>\n",
              "      <th>std_test_score</th>\n",
              "      <th>rank_test_score</th>\n",
              "    </tr>\n",
              "  </thead>\n",
              "  <tbody>\n",
              "    <tr>\n",
              "      <th>0</th>\n",
              "      <td>0.014982</td>\n",
              "      <td>0.004570</td>\n",
              "      <td>0.002698</td>\n",
              "      <td>0.000125</td>\n",
              "      <td>True</td>\n",
              "      <td>False</td>\n",
              "      <td>linear</td>\n",
              "      <td>None</td>\n",
              "      <td>1.5</td>\n",
              "      <td>{'shrinking': True, 'probability': False, 'ker...</td>\n",
              "      <td>0.833333</td>\n",
              "      <td>0.845238</td>\n",
              "      <td>0.845238</td>\n",
              "      <td>0.826347</td>\n",
              "      <td>0.814371</td>\n",
              "      <td>0.832906</td>\n",
              "      <td>0.011755</td>\n",
              "      <td>2</td>\n",
              "    </tr>\n",
              "    <tr>\n",
              "      <th>2</th>\n",
              "      <td>0.074032</td>\n",
              "      <td>0.004870</td>\n",
              "      <td>0.003371</td>\n",
              "      <td>0.000152</td>\n",
              "      <td>True</td>\n",
              "      <td>True</td>\n",
              "      <td>poly</td>\n",
              "      <td>None</td>\n",
              "      <td>1.5</td>\n",
              "      <td>{'shrinking': True, 'probability': True, 'kern...</td>\n",
              "      <td>0.803571</td>\n",
              "      <td>0.857143</td>\n",
              "      <td>0.809524</td>\n",
              "      <td>0.784431</td>\n",
              "      <td>0.808383</td>\n",
              "      <td>0.812610</td>\n",
              "      <td>0.024026</td>\n",
              "      <td>7</td>\n",
              "    </tr>\n",
              "    <tr>\n",
              "      <th>1</th>\n",
              "      <td>0.018841</td>\n",
              "      <td>0.000648</td>\n",
              "      <td>0.004171</td>\n",
              "      <td>0.000086</td>\n",
              "      <td>False</td>\n",
              "      <td>False</td>\n",
              "      <td>sigmoid</td>\n",
              "      <td>None</td>\n",
              "      <td>1</td>\n",
              "      <td>{'shrinking': False, 'probability': False, 'ke...</td>\n",
              "      <td>0.767857</td>\n",
              "      <td>0.797619</td>\n",
              "      <td>0.803571</td>\n",
              "      <td>0.826347</td>\n",
              "      <td>0.766467</td>\n",
              "      <td>0.792372</td>\n",
              "      <td>0.022713</td>\n",
              "      <td>8</td>\n",
              "    </tr>\n",
              "  </tbody>\n",
              "</table>\n",
              "</div>\n",
              "      <button class=\"colab-df-convert\" onclick=\"convertToInteractive('df-8e10ee27-63e0-4de1-92ff-1405b0d159b4')\"\n",
              "              title=\"Convert this dataframe to an interactive table.\"\n",
              "              style=\"display:none;\">\n",
              "        \n",
              "  <svg xmlns=\"http://www.w3.org/2000/svg\" height=\"24px\"viewBox=\"0 0 24 24\"\n",
              "       width=\"24px\">\n",
              "    <path d=\"M0 0h24v24H0V0z\" fill=\"none\"/>\n",
              "    <path d=\"M18.56 5.44l.94 2.06.94-2.06 2.06-.94-2.06-.94-.94-2.06-.94 2.06-2.06.94zm-11 1L8.5 8.5l.94-2.06 2.06-.94-2.06-.94L8.5 2.5l-.94 2.06-2.06.94zm10 10l.94 2.06.94-2.06 2.06-.94-2.06-.94-.94-2.06-.94 2.06-2.06.94z\"/><path d=\"M17.41 7.96l-1.37-1.37c-.4-.4-.92-.59-1.43-.59-.52 0-1.04.2-1.43.59L10.3 9.45l-7.72 7.72c-.78.78-.78 2.05 0 2.83L4 21.41c.39.39.9.59 1.41.59.51 0 1.02-.2 1.41-.59l7.78-7.78 2.81-2.81c.8-.78.8-2.07 0-2.86zM5.41 20L4 18.59l7.72-7.72 1.47 1.35L5.41 20z\"/>\n",
              "  </svg>\n",
              "      </button>\n",
              "      \n",
              "  <style>\n",
              "    .colab-df-container {\n",
              "      display:flex;\n",
              "      flex-wrap:wrap;\n",
              "      gap: 12px;\n",
              "    }\n",
              "\n",
              "    .colab-df-convert {\n",
              "      background-color: #E8F0FE;\n",
              "      border: none;\n",
              "      border-radius: 50%;\n",
              "      cursor: pointer;\n",
              "      display: none;\n",
              "      fill: #1967D2;\n",
              "      height: 32px;\n",
              "      padding: 0 0 0 0;\n",
              "      width: 32px;\n",
              "    }\n",
              "\n",
              "    .colab-df-convert:hover {\n",
              "      background-color: #E2EBFA;\n",
              "      box-shadow: 0px 1px 2px rgba(60, 64, 67, 0.3), 0px 1px 3px 1px rgba(60, 64, 67, 0.15);\n",
              "      fill: #174EA6;\n",
              "    }\n",
              "\n",
              "    [theme=dark] .colab-df-convert {\n",
              "      background-color: #3B4455;\n",
              "      fill: #D2E3FC;\n",
              "    }\n",
              "\n",
              "    [theme=dark] .colab-df-convert:hover {\n",
              "      background-color: #434B5C;\n",
              "      box-shadow: 0px 1px 3px 1px rgba(0, 0, 0, 0.15);\n",
              "      filter: drop-shadow(0px 1px 2px rgba(0, 0, 0, 0.3));\n",
              "      fill: #FFFFFF;\n",
              "    }\n",
              "  </style>\n",
              "\n",
              "      <script>\n",
              "        const buttonEl =\n",
              "          document.querySelector('#df-8e10ee27-63e0-4de1-92ff-1405b0d159b4 button.colab-df-convert');\n",
              "        buttonEl.style.display =\n",
              "          google.colab.kernel.accessAllowed ? 'block' : 'none';\n",
              "\n",
              "        async function convertToInteractive(key) {\n",
              "          const element = document.querySelector('#df-8e10ee27-63e0-4de1-92ff-1405b0d159b4');\n",
              "          const dataTable =\n",
              "            await google.colab.kernel.invokeFunction('convertToInteractive',\n",
              "                                                     [key], {});\n",
              "          if (!dataTable) return;\n",
              "\n",
              "          const docLinkHtml = 'Like what you see? Visit the ' +\n",
              "            '<a target=\"_blank\" href=https://colab.research.google.com/notebooks/data_table.ipynb>data table notebook</a>'\n",
              "            + ' to learn more about interactive tables.';\n",
              "          element.innerHTML = '';\n",
              "          dataTable['output_type'] = 'display_data';\n",
              "          await google.colab.output.renderOutput(dataTable, element);\n",
              "          const docLink = document.createElement('div');\n",
              "          docLink.innerHTML = docLinkHtml;\n",
              "          element.appendChild(docLink);\n",
              "        }\n",
              "      </script>\n",
              "    </div>\n",
              "  </div>\n",
              "  "
            ]
          },
          "metadata": {},
          "execution_count": 82
        }
      ]
    },
    {
      "cell_type": "code",
      "source": [
        "Scores = cross_val_score( selecionador, X_normalizado, y, cv= KFold( n_splits=5, shuffle= True ) )\n",
        "Scores"
      ],
      "metadata": {
        "colab": {
          "base_uri": "https://localhost:8080/"
        },
        "id": "9wQp9mcHH5qz",
        "outputId": "2551e5e4-db74-4749-a480-4703b88f8264"
      },
      "execution_count": 83,
      "outputs": [
        {
          "output_type": "execute_result",
          "data": {
            "text/plain": [
              "array([0.83928571, 0.85714286, 0.80952381, 0.83233533, 0.85628743])"
            ]
          },
          "metadata": {},
          "execution_count": 83
        }
      ]
    },
    {
      "cell_type": "code",
      "source": [
        "media = Scores.mean() * 100\n",
        "desvio = Scores.std() * 100\n",
        "\n",
        "print(\"Acurácia Média %.2f%%\" % media)\n",
        "print(\"Intervalo [%.2f, %.2f]\" % (media - 2 * desvio, media + 2 * desvio))"
      ],
      "metadata": {
        "colab": {
          "base_uri": "https://localhost:8080/"
        },
        "id": "bc7KOpEtH7RU",
        "outputId": "90b905f7-1771-4cf0-be9a-a6be7103d03d"
      },
      "execution_count": 86,
      "outputs": [
        {
          "output_type": "stream",
          "name": "stdout",
          "text": [
            "Acurácia Média 83.89%\n",
            "Intervalo [80.38, 87.40]\n"
          ]
        }
      ]
    },
    {
      "cell_type": "code",
      "source": [
        "selecionador.best_params_"
      ],
      "metadata": {
        "colab": {
          "base_uri": "https://localhost:8080/"
        },
        "id": "Y1KAhA8gH890",
        "outputId": "7c92393a-e409-4168-ac08-38e854df57f3"
      },
      "execution_count": 85,
      "outputs": [
        {
          "output_type": "execute_result",
          "data": {
            "text/plain": [
              "{'shrinking': False,\n",
              " 'probability': False,\n",
              " 'kernel': 'rbf',\n",
              " 'class_weight': None,\n",
              " 'C': 1}"
            ]
          },
          "metadata": {},
          "execution_count": 85
        }
      ]
    },
    {
      "cell_type": "markdown",
      "source": [
        "## Comentários"
      ],
      "metadata": {
        "id": "TfZH0s_qipm6"
      }
    },
    {
      "cell_type": "markdown",
      "source": [
        "Foram utilizados 4 modelos de classificação, inicialmente entre eles o RandomForest obteve as melhores métricas. No entanto, ainda não havia sido realizada a validação cruzada, nem validação de hiperparametros, e portanto, o resultado não era comprobatório. \n",
        "\n",
        "Também foi utilizado o PCA como técnica para diminuir as dimensões dos dados e avaliar se o algoritmo gerava melhores métricas. O PCA contribuiu com a velocidade do processamento, mas a redução de dimencionalidade impactou negativamente as métricas devido o conjunto de dados ser pequeno.  \n",
        "\n",
        "Depois de realizar testes com os dois melhores modelos RandomForest e SVC, combinando diferentes hiperparametros em um processo de otimização, constatou-se que o SVC obteve-se as melhores métricas, tanto em relação a média geral de acertos, quando por possuir menor dispersão no desvio padrão. "
      ],
      "metadata": {
        "id": "SO5TAjnPsa9-"
      }
    },
    {
      "cell_type": "markdown",
      "source": [
        "## Comparativo Final"
      ],
      "metadata": {
        "id": "GzCbraqH-IML"
      }
    },
    {
      "cell_type": "markdown",
      "source": [
        "### Resultados SVC"
      ],
      "metadata": {
        "id": "whh4W8gLOih9"
      }
    },
    {
      "cell_type": "code",
      "source": [
        "modelo_final_svc = SVC(C= 1,shrinking= False, probability= False, kernel= 'rbf', class_weight= None)\n",
        "\n",
        "modelo_final_svc.fit(X_train, y_train)\n",
        "previsao_svc = modelo_final_svc.predict(X_test)"
      ],
      "metadata": {
        "id": "d64upC41K_x9"
      },
      "execution_count": 87,
      "outputs": []
    },
    {
      "cell_type": "code",
      "source": [
        "print('A Acurácia do RandomForest foi de %d%% \\n' % (accuracy_score(y_test, previsao_svc)*100))\n",
        "print('A Precisao do RandomForest foi de %d%% \\n' % (precision_score(y_test, previsao_svc)*100))\n",
        "print('O Reccal_score do RandomForest foi de %d%% \\n' % (recall_score(y_test, previsao_svc)*100))\n",
        "print('O F1-Score do RandomForest foi de %d%%' % (f1_score(y_test, previsao_svc)*100))"
      ],
      "metadata": {
        "colab": {
          "base_uri": "https://localhost:8080/"
        },
        "id": "EvwvhrsK9EMr",
        "outputId": "28b5e41e-8621-4f8f-ff1f-8209aeb6519c"
      },
      "execution_count": 88,
      "outputs": [
        {
          "output_type": "stream",
          "name": "stdout",
          "text": [
            "A Acurácia do RandomForest foi de 84% \n",
            "\n",
            "A Precisao do RandomForest foi de 76% \n",
            "\n",
            "O Reccal_score do RandomForest foi de 99% \n",
            "\n",
            "O F1-Score do RandomForest foi de 86%\n"
          ]
        }
      ]
    },
    {
      "cell_type": "code",
      "source": [
        "set()\n",
        "plt.figure(figsize=(8,4), dpi=80)\n",
        "sns.heatmap(confusion_matrix(y_test, previsao_svc), annot=True, fmt='.1f').set(xlabel = 'previsto', ylabel= 'real')\n",
        "plt.show()"
      ],
      "metadata": {
        "colab": {
          "base_uri": "https://localhost:8080/",
          "height": 311
        },
        "id": "3aSrEIMCMYC8",
        "outputId": "e9d64454-c4f8-4057-b8b6-2c57b1060334"
      },
      "execution_count": 89,
      "outputs": [
        {
          "output_type": "display_data",
          "data": {
            "text/plain": [
              "<Figure size 640x320 with 2 Axes>"
            ],
            "image/png": "[encoded data removed]"
          },
          "metadata": {}
        }
      ]
    },
    {
      "cell_type": "markdown",
      "source": [
        "### Resultados RandomForestClassifier"
      ],
      "metadata": {
        "id": "9NNaKQyhOmUk"
      }
    },
    {
      "cell_type": "code",
      "source": [
        "modelo_final_Random = RandomForestClassifier(class_weight= 'balanced', criterion= 'gini', max_depth= 11,\n",
        "                                            min_samples_leaf= 1, min_samples_split= 14, n_estimators= 100)\n",
        "\n",
        "modelo_final_Random.fit(X_train, y_train)\n",
        "previsao_random = modelo_final_Random.predict(X_test)"
      ],
      "metadata": {
        "id": "lIynxvVGM1hs"
      },
      "execution_count": 93,
      "outputs": []
    },
    {
      "cell_type": "code",
      "source": [
        "print('A Acurácia do RandomForest foi de %d%% \\n' % (accuracy_score(y_test, previsao_random)*100))\n",
        "print('A Precisao do RandomForest foi de %d%% \\n' % (precision_score(y_test, previsao_random)*100))\n",
        "print('O Reccal_score do RandomForest foi de %d%% \\n' % (recall_score(y_test, previsao_random)*100))\n",
        "print('O F1-Score do RandomForest foi de %d%%' % (f1_score(y_test, previsao_random)*100))"
      ],
      "metadata": {
        "colab": {
          "base_uri": "https://localhost:8080/"
        },
        "id": "1XAY_0iTNSa8",
        "outputId": "fd7e1d24-6a98-4472-d5a1-fcdf4f1762d3"
      },
      "execution_count": 94,
      "outputs": [
        {
          "output_type": "stream",
          "name": "stdout",
          "text": [
            "A Acurácia do RandomForest foi de 84% \n",
            "\n",
            "A Precisao do RandomForest foi de 79% \n",
            "\n",
            "O Reccal_score do RandomForest foi de 92% \n",
            "\n",
            "O F1-Score do RandomForest foi de 85%\n"
          ]
        }
      ]
    },
    {
      "cell_type": "code",
      "source": [
        "set()\n",
        "plt.figure(figsize=(8,4), dpi=80)\n",
        "sns.heatmap(confusion_matrix(y_test, previsao_random), annot=True, fmt='.1f').set(xlabel = 'previsto', ylabel= 'real')\n",
        "plt.show()"
      ],
      "metadata": {
        "colab": {
          "base_uri": "https://localhost:8080/",
          "height": 311
        },
        "id": "_ttqiM_WNV8c",
        "outputId": "92e6181c-a0c2-4943-f0b0-8854a90e4633"
      },
      "execution_count": 96,
      "outputs": [
        {
          "output_type": "display_data",
          "data": {
            "text/plain": [
              "<Figure size 640x320 with 2 Axes>"
            ],
            "image/png": "[encoded data removed]"
          },
          "metadata": {}
        }
      ]
    },
    {
      "cell_type": "markdown",
      "source": [
        "# Conclusão"
      ],
      "metadata": {
        "id": "qJU2VNu0Sz-0"
      }
    },
    {
      "cell_type": "markdown",
      "source": [
        "Em nosso caso, as métricas mais relevantes são a Acurácia e a Revocação. A primeira mede o nível geral de acerto nas classificações e o segundo reduz ao máximo a possibilidade de Falsos Negativos.\n",
        "\n",
        "Caso hajam muitos \"falsos positivos\", o algoritmo concederá crédito a clientes inaptos, o que pode gerar perda de dinheiro devido ao alto risco. E quando o algoritmo tiver muitos falsos negativos, pode perder boas oportunidades de gerar crédito para bons pagadores. Por esse motivo o ideal é manter os dois níveis baixos. E esse equilibrio pode ser mensurado pela métrica F1_Score.\n",
        "\n",
        "Tanto na acurácia, quanto revocação e F1_score o SVC se saiu melhor, reduzindo o número de erros para pessoas que recebem crédito indevido, e classificando corretamente maior número de pessoas que não deveriam receber a liberação do valor.\n",
        "\n",
        "Por essas razões, é recomendado o uso do SVC para inicio dos testes na empresa ( Acurácia 84% | Reccal_score 99% )"
      ],
      "metadata": {
        "id": "XSXjBz-DKsTL"
      }
    }
  ]
}