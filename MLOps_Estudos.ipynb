{
  "nbformat": 4,
  "nbformat_minor": 0,
  "metadata": {
    "colab": {
      "provenance": [],
      "collapsed_sections": [
        "WNgpiGcS_nuA",
        "Z7q24xCR-eLr",
        "Wh1t0bOZI-A3",
        "JXbFHIx-F0WY",
        "Hv_k8pINHbIh"
      ],
      "include_colab_link": true
    },
    "kernelspec": {
      "name": "python3",
      "display_name": "Python 3"
    }
  },
  "cells": [
    {
      "cell_type": "markdown",
      "metadata": {
        "id": "view-in-github",
        "colab_type": "text"
      },
      "source": [
        "<a href=\"https://colab.research.google.com/github/LucasBezerraSantos/Projetos_Pessoias/blob/master/MLOps_Estudos.ipynb\" target=\"_parent\"><img src=\"https://colab.research.google.com/assets/colab-badge.svg\" alt=\"Open In Colab\"/></a>"
      ]
    },
    {
      "cell_type": "markdown",
      "source": [
        "# MLOps"
      ],
      "metadata": {
        "id": "x3zfVFFa-PoJ"
      }
    },
    {
      "cell_type": "markdown",
      "source": [
        "Este projeto tem o objetivo de reunir conceitos básico de MLOps para permitir que os Modelos sejão consumidos e compartilhados através de APIs.\n",
        "\n",
        "*   Os passos envolvem criação de API\n",
        "*   Conceito de Endpoint\n",
        "*   Consumo de APIs via postman, JupyterLab e WEB\n",
        "*   Autenticação\n",
        "*   Serialização\n",
        "*   Criação de Maquinas Virtuais e Controle de Dependências\n"
      ],
      "metadata": {
        "id": "Bs143lFi7l2e"
      }
    },
    {
      "cell_type": "markdown",
      "source": [
        "## Modelo simples de Regressão Linear para aplicar na API"
      ],
      "metadata": {
        "id": "WNgpiGcS_nuA"
      }
    },
    {
      "cell_type": "code",
      "metadata": {
        "id": "4UiOGnIy31sS"
      },
      "source": [
        "import pandas as pd\n",
        "from sklearn.model_selection import train_test_split\n",
        "from sklearn.linear_model import LinearRegression\n",
        "from google.colab import files\n",
        "import io"
      ],
      "execution_count": 18,
      "outputs": []
    },
    {
      "cell_type": "markdown",
      "source": [
        "OBS. *A biblioteca \"io\" em Python é utilizada para trabalhar com operações de entrada e saída (I/O), oferecendo classes e funções para manipular streams e dados de diferentes fontes, como arquivos e strings.*"
      ],
      "metadata": {
        "id": "yfKQp_yw-2m_"
      }
    },
    {
      "cell_type": "code",
      "source": [
        "uploaded = files.upload() # leitura de arquivos"
      ],
      "metadata": {
        "colab": {
          "base_uri": "https://localhost:8080/",
          "height": 73
        },
        "id": "ERNNuZDMGJfw",
        "outputId": "fee7d117-de14-4eb6-bc89-b3e6f7de10eb"
      },
      "execution_count": 19,
      "outputs": [
        {
          "output_type": "display_data",
          "data": {
            "text/plain": [
              "<IPython.core.display.HTML object>"
            ],
            "text/html": [
              "\n",
              "     <input type=\"file\" id=\"files-ff11fbc5-6ebb-4653-ad57-04a87cacc06f\" name=\"files[]\" multiple disabled\n",
              "        style=\"border:none\" />\n",
              "     <output id=\"result-ff11fbc5-6ebb-4653-ad57-04a87cacc06f\">\n",
              "      Upload widget is only available when the cell has been executed in the\n",
              "      current browser session. Please rerun this cell to enable.\n",
              "      </output>\n",
              "      <script>// Copyright 2017 Google LLC\n",
              "//\n",
              "// Licensed under the Apache License, Version 2.0 (the \"License\");\n",
              "// you may not use this file except in compliance with the License.\n",
              "// You may obtain a copy of the License at\n",
              "//\n",
              "//      http://www.apache.org/licenses/LICENSE-2.0\n",
              "//\n",
              "// Unless required by applicable law or agreed to in writing, software\n",
              "// distributed under the License is distributed on an \"AS IS\" BASIS,\n",
              "// WITHOUT WARRANTIES OR CONDITIONS OF ANY KIND, either express or implied.\n",
              "// See the License for the specific language governing permissions and\n",
              "// limitations under the License.\n",
              "\n",
              "/**\n",
              " * @fileoverview Helpers for google.colab Python module.\n",
              " */\n",
              "(function(scope) {\n",
              "function span(text, styleAttributes = {}) {\n",
              "  const element = document.createElement('span');\n",
              "  element.textContent = text;\n",
              "  for (const key of Object.keys(styleAttributes)) {\n",
              "    element.style[key] = styleAttributes[key];\n",
              "  }\n",
              "  return element;\n",
              "}\n",
              "\n",
              "// Max number of bytes which will be uploaded at a time.\n",
              "const MAX_PAYLOAD_SIZE = 100 * 1024;\n",
              "\n",
              "function _uploadFiles(inputId, outputId) {\n",
              "  const steps = uploadFilesStep(inputId, outputId);\n",
              "  const outputElement = document.getElementById(outputId);\n",
              "  // Cache steps on the outputElement to make it available for the next call\n",
              "  // to uploadFilesContinue from Python.\n",
              "  outputElement.steps = steps;\n",
              "\n",
              "  return _uploadFilesContinue(outputId);\n",
              "}\n",
              "\n",
              "// This is roughly an async generator (not supported in the browser yet),\n",
              "// where there are multiple asynchronous steps and the Python side is going\n",
              "// to poll for completion of each step.\n",
              "// This uses a Promise to block the python side on completion of each step,\n",
              "// then passes the result of the previous step as the input to the next step.\n",
              "function _uploadFilesContinue(outputId) {\n",
              "  const outputElement = document.getElementById(outputId);\n",
              "  const steps = outputElement.steps;\n",
              "\n",
              "  const next = steps.next(outputElement.lastPromiseValue);\n",
              "  return Promise.resolve(next.value.promise).then((value) => {\n",
              "    // Cache the last promise value to make it available to the next\n",
              "    // step of the generator.\n",
              "    outputElement.lastPromiseValue = value;\n",
              "    return next.value.response;\n",
              "  });\n",
              "}\n",
              "\n",
              "/**\n",
              " * Generator function which is called between each async step of the upload\n",
              " * process.\n",
              " * @param {string} inputId Element ID of the input file picker element.\n",
              " * @param {string} outputId Element ID of the output display.\n",
              " * @return {!Iterable<!Object>} Iterable of next steps.\n",
              " */\n",
              "function* uploadFilesStep(inputId, outputId) {\n",
              "  const inputElement = document.getElementById(inputId);\n",
              "  inputElement.disabled = false;\n",
              "\n",
              "  const outputElement = document.getElementById(outputId);\n",
              "  outputElement.innerHTML = '';\n",
              "\n",
              "  const pickedPromise = new Promise((resolve) => {\n",
              "    inputElement.addEventListener('change', (e) => {\n",
              "      resolve(e.target.files);\n",
              "    });\n",
              "  });\n",
              "\n",
              "  const cancel = document.createElement('button');\n",
              "  inputElement.parentElement.appendChild(cancel);\n",
              "  cancel.textContent = 'Cancel upload';\n",
              "  const cancelPromise = new Promise((resolve) => {\n",
              "    cancel.onclick = () => {\n",
              "      resolve(null);\n",
              "    };\n",
              "  });\n",
              "\n",
              "  // Wait for the user to pick the files.\n",
              "  const files = yield {\n",
              "    promise: Promise.race([pickedPromise, cancelPromise]),\n",
              "    response: {\n",
              "      action: 'starting',\n",
              "    }\n",
              "  };\n",
              "\n",
              "  cancel.remove();\n",
              "\n",
              "  // Disable the input element since further picks are not allowed.\n",
              "  inputElement.disabled = true;\n",
              "\n",
              "  if (!files) {\n",
              "    return {\n",
              "      response: {\n",
              "        action: 'complete',\n",
              "      }\n",
              "    };\n",
              "  }\n",
              "\n",
              "  for (const file of files) {\n",
              "    const li = document.createElement('li');\n",
              "    li.append(span(file.name, {fontWeight: 'bold'}));\n",
              "    li.append(span(\n",
              "        `(${file.type || 'n/a'}) - ${file.size} bytes, ` +\n",
              "        `last modified: ${\n",
              "            file.lastModifiedDate ? file.lastModifiedDate.toLocaleDateString() :\n",
              "                                    'n/a'} - `));\n",
              "    const percent = span('0% done');\n",
              "    li.appendChild(percent);\n",
              "\n",
              "    outputElement.appendChild(li);\n",
              "\n",
              "    const fileDataPromise = new Promise((resolve) => {\n",
              "      const reader = new FileReader();\n",
              "      reader.onload = (e) => {\n",
              "        resolve(e.target.result);\n",
              "      };\n",
              "      reader.readAsArrayBuffer(file);\n",
              "    });\n",
              "    // Wait for the data to be ready.\n",
              "    let fileData = yield {\n",
              "      promise: fileDataPromise,\n",
              "      response: {\n",
              "        action: 'continue',\n",
              "      }\n",
              "    };\n",
              "\n",
              "    // Use a chunked sending to avoid message size limits. See b/62115660.\n",
              "    let position = 0;\n",
              "    do {\n",
              "      const length = Math.min(fileData.byteLength - position, MAX_PAYLOAD_SIZE);\n",
              "      const chunk = new Uint8Array(fileData, position, length);\n",
              "      position += length;\n",
              "\n",
              "      const base64 = btoa(String.fromCharCode.apply(null, chunk));\n",
              "      yield {\n",
              "        response: {\n",
              "          action: 'append',\n",
              "          file: file.name,\n",
              "          data: base64,\n",
              "        },\n",
              "      };\n",
              "\n",
              "      let percentDone = fileData.byteLength === 0 ?\n",
              "          100 :\n",
              "          Math.round((position / fileData.byteLength) * 100);\n",
              "      percent.textContent = `${percentDone}% done`;\n",
              "\n",
              "    } while (position < fileData.byteLength);\n",
              "  }\n",
              "\n",
              "  // All done.\n",
              "  yield {\n",
              "    response: {\n",
              "      action: 'complete',\n",
              "    }\n",
              "  };\n",
              "}\n",
              "\n",
              "scope.google = scope.google || {};\n",
              "scope.google.colab = scope.google.colab || {};\n",
              "scope.google.colab._files = {\n",
              "  _uploadFiles,\n",
              "  _uploadFilesContinue,\n",
              "};\n",
              "})(self);\n",
              "</script> "
            ]
          },
          "metadata": {}
        },
        {
          "output_type": "stream",
          "name": "stdout",
          "text": [
            "Saving casas.csv to casas (1).csv\n"
          ]
        }
      ]
    },
    {
      "cell_type": "code",
      "source": [
        "df = pd.read_csv(io.BytesIO(uploaded['casas (1).csv'])) # conversão em DF\n",
        "df.head()"
      ],
      "metadata": {
        "colab": {
          "base_uri": "https://localhost:8080/",
          "height": 206
        },
        "id": "kIy2NNhFGOqK",
        "outputId": "b5ce8092-5f10-4ad8-bbc3-c3526ac83999"
      },
      "execution_count": 22,
      "outputs": [
        {
          "output_type": "execute_result",
          "data": {
            "text/plain": [
              "   tamanho   ano  garagem   preco\n",
              "0    159.0  2003        2  208500\n",
              "1    117.0  1976        2  181500\n",
              "2    166.0  2001        2  223500\n",
              "3    160.0  1915        3  140000\n",
              "4    204.0  2000        3  250000"
            ],
            "text/html": [
              "\n",
              "\n",
              "  <div id=\"df-ce19cc6b-fdf2-4039-89bd-67357a0e7381\">\n",
              "    <div class=\"colab-df-container\">\n",
              "      <div>\n",
              "<style scoped>\n",
              "    .dataframe tbody tr th:only-of-type {\n",
              "        vertical-align: middle;\n",
              "    }\n",
              "\n",
              "    .dataframe tbody tr th {\n",
              "        vertical-align: top;\n",
              "    }\n",
              "\n",
              "    .dataframe thead th {\n",
              "        text-align: right;\n",
              "    }\n",
              "</style>\n",
              "<table border=\"1\" class=\"dataframe\">\n",
              "  <thead>\n",
              "    <tr style=\"text-align: right;\">\n",
              "      <th></th>\n",
              "      <th>tamanho</th>\n",
              "      <th>ano</th>\n",
              "      <th>garagem</th>\n",
              "      <th>preco</th>\n",
              "    </tr>\n",
              "  </thead>\n",
              "  <tbody>\n",
              "    <tr>\n",
              "      <th>0</th>\n",
              "      <td>159.0</td>\n",
              "      <td>2003</td>\n",
              "      <td>2</td>\n",
              "      <td>208500</td>\n",
              "    </tr>\n",
              "    <tr>\n",
              "      <th>1</th>\n",
              "      <td>117.0</td>\n",
              "      <td>1976</td>\n",
              "      <td>2</td>\n",
              "      <td>181500</td>\n",
              "    </tr>\n",
              "    <tr>\n",
              "      <th>2</th>\n",
              "      <td>166.0</td>\n",
              "      <td>2001</td>\n",
              "      <td>2</td>\n",
              "      <td>223500</td>\n",
              "    </tr>\n",
              "    <tr>\n",
              "      <th>3</th>\n",
              "      <td>160.0</td>\n",
              "      <td>1915</td>\n",
              "      <td>3</td>\n",
              "      <td>140000</td>\n",
              "    </tr>\n",
              "    <tr>\n",
              "      <th>4</th>\n",
              "      <td>204.0</td>\n",
              "      <td>2000</td>\n",
              "      <td>3</td>\n",
              "      <td>250000</td>\n",
              "    </tr>\n",
              "  </tbody>\n",
              "</table>\n",
              "</div>\n",
              "      <button class=\"colab-df-convert\" onclick=\"convertToInteractive('df-ce19cc6b-fdf2-4039-89bd-67357a0e7381')\"\n",
              "              title=\"Convert this dataframe to an interactive table.\"\n",
              "              style=\"display:none;\">\n",
              "\n",
              "  <svg xmlns=\"http://www.w3.org/2000/svg\" height=\"24px\"viewBox=\"0 0 24 24\"\n",
              "       width=\"24px\">\n",
              "    <path d=\"M0 0h24v24H0V0z\" fill=\"none\"/>\n",
              "    <path d=\"M18.56 5.44l.94 2.06.94-2.06 2.06-.94-2.06-.94-.94-2.06-.94 2.06-2.06.94zm-11 1L8.5 8.5l.94-2.06 2.06-.94-2.06-.94L8.5 2.5l-.94 2.06-2.06.94zm10 10l.94 2.06.94-2.06 2.06-.94-2.06-.94-.94-2.06-.94 2.06-2.06.94z\"/><path d=\"M17.41 7.96l-1.37-1.37c-.4-.4-.92-.59-1.43-.59-.52 0-1.04.2-1.43.59L10.3 9.45l-7.72 7.72c-.78.78-.78 2.05 0 2.83L4 21.41c.39.39.9.59 1.41.59.51 0 1.02-.2 1.41-.59l7.78-7.78 2.81-2.81c.8-.78.8-2.07 0-2.86zM5.41 20L4 18.59l7.72-7.72 1.47 1.35L5.41 20z\"/>\n",
              "  </svg>\n",
              "      </button>\n",
              "\n",
              "\n",
              "\n",
              "    <div id=\"df-27bfb0bc-159e-45a9-8280-d55570f9780f\">\n",
              "      <button class=\"colab-df-quickchart\" onclick=\"quickchart('df-27bfb0bc-159e-45a9-8280-d55570f9780f')\"\n",
              "              title=\"Suggest charts.\"\n",
              "              style=\"display:none;\">\n",
              "\n",
              "<svg xmlns=\"http://www.w3.org/2000/svg\" height=\"24px\"viewBox=\"0 0 24 24\"\n",
              "     width=\"24px\">\n",
              "    <g>\n",
              "        <path d=\"M19 3H5c-1.1 0-2 .9-2 2v14c0 1.1.9 2 2 2h14c1.1 0 2-.9 2-2V5c0-1.1-.9-2-2-2zM9 17H7v-7h2v7zm4 0h-2V7h2v10zm4 0h-2v-4h2v4z\"/>\n",
              "    </g>\n",
              "</svg>\n",
              "      </button>\n",
              "    </div>\n",
              "\n",
              "<style>\n",
              "  .colab-df-quickchart {\n",
              "    background-color: #E8F0FE;\n",
              "    border: none;\n",
              "    border-radius: 50%;\n",
              "    cursor: pointer;\n",
              "    display: none;\n",
              "    fill: #1967D2;\n",
              "    height: 32px;\n",
              "    padding: 0 0 0 0;\n",
              "    width: 32px;\n",
              "  }\n",
              "\n",
              "  .colab-df-quickchart:hover {\n",
              "    background-color: #E2EBFA;\n",
              "    box-shadow: 0px 1px 2px rgba(60, 64, 67, 0.3), 0px 1px 3px 1px rgba(60, 64, 67, 0.15);\n",
              "    fill: #174EA6;\n",
              "  }\n",
              "\n",
              "  [theme=dark] .colab-df-quickchart {\n",
              "    background-color: #3B4455;\n",
              "    fill: #D2E3FC;\n",
              "  }\n",
              "\n",
              "  [theme=dark] .colab-df-quickchart:hover {\n",
              "    background-color: #434B5C;\n",
              "    box-shadow: 0px 1px 3px 1px rgba(0, 0, 0, 0.15);\n",
              "    filter: drop-shadow(0px 1px 2px rgba(0, 0, 0, 0.3));\n",
              "    fill: #FFFFFF;\n",
              "  }\n",
              "</style>\n",
              "\n",
              "    <script>\n",
              "      async function quickchart(key) {\n",
              "        const containerElement = document.querySelector('#' + key);\n",
              "        const charts = await google.colab.kernel.invokeFunction(\n",
              "            'suggestCharts', [key], {});\n",
              "      }\n",
              "    </script>\n",
              "\n",
              "      <script>\n",
              "\n",
              "function displayQuickchartButton(domScope) {\n",
              "  let quickchartButtonEl =\n",
              "    domScope.querySelector('#df-27bfb0bc-159e-45a9-8280-d55570f9780f button.colab-df-quickchart');\n",
              "  quickchartButtonEl.style.display =\n",
              "    google.colab.kernel.accessAllowed ? 'block' : 'none';\n",
              "}\n",
              "\n",
              "        displayQuickchartButton(document);\n",
              "      </script>\n",
              "      <style>\n",
              "    .colab-df-container {\n",
              "      display:flex;\n",
              "      flex-wrap:wrap;\n",
              "      gap: 12px;\n",
              "    }\n",
              "\n",
              "    .colab-df-convert {\n",
              "      background-color: #E8F0FE;\n",
              "      border: none;\n",
              "      border-radius: 50%;\n",
              "      cursor: pointer;\n",
              "      display: none;\n",
              "      fill: #1967D2;\n",
              "      height: 32px;\n",
              "      padding: 0 0 0 0;\n",
              "      width: 32px;\n",
              "    }\n",
              "\n",
              "    .colab-df-convert:hover {\n",
              "      background-color: #E2EBFA;\n",
              "      box-shadow: 0px 1px 2px rgba(60, 64, 67, 0.3), 0px 1px 3px 1px rgba(60, 64, 67, 0.15);\n",
              "      fill: #174EA6;\n",
              "    }\n",
              "\n",
              "    [theme=dark] .colab-df-convert {\n",
              "      background-color: #3B4455;\n",
              "      fill: #D2E3FC;\n",
              "    }\n",
              "\n",
              "    [theme=dark] .colab-df-convert:hover {\n",
              "      background-color: #434B5C;\n",
              "      box-shadow: 0px 1px 3px 1px rgba(0, 0, 0, 0.15);\n",
              "      filter: drop-shadow(0px 1px 2px rgba(0, 0, 0, 0.3));\n",
              "      fill: #FFFFFF;\n",
              "    }\n",
              "  </style>\n",
              "\n",
              "      <script>\n",
              "        const buttonEl =\n",
              "          document.querySelector('#df-ce19cc6b-fdf2-4039-89bd-67357a0e7381 button.colab-df-convert');\n",
              "        buttonEl.style.display =\n",
              "          google.colab.kernel.accessAllowed ? 'block' : 'none';\n",
              "\n",
              "        async function convertToInteractive(key) {\n",
              "          const element = document.querySelector('#df-ce19cc6b-fdf2-4039-89bd-67357a0e7381');\n",
              "          const dataTable =\n",
              "            await google.colab.kernel.invokeFunction('convertToInteractive',\n",
              "                                                     [key], {});\n",
              "          if (!dataTable) return;\n",
              "\n",
              "          const docLinkHtml = 'Like what you see? Visit the ' +\n",
              "            '<a target=\"_blank\" href=https://colab.research.google.com/notebooks/data_table.ipynb>data table notebook</a>'\n",
              "            + ' to learn more about interactive tables.';\n",
              "          element.innerHTML = '';\n",
              "          dataTable['output_type'] = 'display_data';\n",
              "          await google.colab.output.renderOutput(dataTable, element);\n",
              "          const docLink = document.createElement('div');\n",
              "          docLink.innerHTML = docLinkHtml;\n",
              "          element.appendChild(docLink);\n",
              "        }\n",
              "      </script>\n",
              "    </div>\n",
              "  </div>\n"
            ]
          },
          "metadata": {},
          "execution_count": 22
        }
      ]
    },
    {
      "cell_type": "code",
      "source": [
        "X = df.drop('preco', axis=1)\n",
        "y = df.preco\n",
        "\n",
        "X_train, X_test, y_train, y_test = train_test_split( X, y, test_size=0.30, random_state=42 )\n",
        "\n",
        "modelo_linear = LinearRegression()\n",
        "modelo_linear.fit(X_train, y_train)\n",
        "\n",
        "resultado = modelo_linear.predict([[120, 2001, 2]]) # teste\n",
        "print('Preço do Imóvel: ', round(*resultado))"
      ],
      "metadata": {
        "colab": {
          "base_uri": "https://localhost:8080/"
        },
        "id": "xX2K_ltFGzVr",
        "outputId": "ee810553-2ad0-4726-d207-4babd1916e69"
      },
      "execution_count": 32,
      "outputs": [
        {
          "output_type": "stream",
          "name": "stdout",
          "text": [
            "Preço do Imóvel:  191437\n"
          ]
        },
        {
          "output_type": "stream",
          "name": "stderr",
          "text": [
            "/usr/local/lib/python3.10/dist-packages/sklearn/base.py:439: UserWarning: X does not have valid feature names, but LinearRegression was fitted with feature names\n",
            "  warnings.warn(\n"
          ]
        }
      ]
    },
    {
      "cell_type": "markdown",
      "source": [
        "**Serialização**\n",
        "\n",
        "É possível salvar o Modelo em um arquivo e reutiliza-lo em outra IDE ou ambiente de codificação. Isso aumenta a produtividade pois elimina a necessidade de ter que transportar o código inteiro para outra IDE."
      ],
      "metadata": {
        "id": "R2zXEhr8AVWg"
      }
    },
    {
      "cell_type": "code",
      "source": [
        "import pickle\n",
        "pickle.dump(modelo_linear, open('modelo.sav', 'wb'))"
      ],
      "metadata": {
        "id": "Ym5q-w6PRIqg"
      },
      "execution_count": 13,
      "outputs": []
    },
    {
      "cell_type": "code",
      "source": [
        "files.download('modelo.sav') # gera um arquivo com o modelo salvo"
      ],
      "metadata": {
        "colab": {
          "base_uri": "https://localhost:8080/",
          "height": 17
        },
        "id": "0Cx1TuF8ZrAu",
        "outputId": "c2516b97-2293-48c9-992b-31a4ada52ab3"
      },
      "execution_count": 15,
      "outputs": [
        {
          "output_type": "display_data",
          "data": {
            "text/plain": [
              "<IPython.core.display.Javascript object>"
            ],
            "application/javascript": [
              "\n",
              "    async function download(id, filename, size) {\n",
              "      if (!google.colab.kernel.accessAllowed) {\n",
              "        return;\n",
              "      }\n",
              "      const div = document.createElement('div');\n",
              "      const label = document.createElement('label');\n",
              "      label.textContent = `Downloading \"${filename}\": `;\n",
              "      div.appendChild(label);\n",
              "      const progress = document.createElement('progress');\n",
              "      progress.max = size;\n",
              "      div.appendChild(progress);\n",
              "      document.body.appendChild(div);\n",
              "\n",
              "      const buffers = [];\n",
              "      let downloaded = 0;\n",
              "\n",
              "      const channel = await google.colab.kernel.comms.open(id);\n",
              "      // Send a message to notify the kernel that we're ready.\n",
              "      channel.send({})\n",
              "\n",
              "      for await (const message of channel.messages) {\n",
              "        // Send a message to notify the kernel that we're ready.\n",
              "        channel.send({})\n",
              "        if (message.buffers) {\n",
              "          for (const buffer of message.buffers) {\n",
              "            buffers.push(buffer);\n",
              "            downloaded += buffer.byteLength;\n",
              "            progress.value = downloaded;\n",
              "          }\n",
              "        }\n",
              "      }\n",
              "      const blob = new Blob(buffers, {type: 'application/binary'});\n",
              "      const a = document.createElement('a');\n",
              "      a.href = window.URL.createObjectURL(blob);\n",
              "      a.download = filename;\n",
              "      div.appendChild(a);\n",
              "      a.click();\n",
              "      div.remove();\n",
              "    }\n",
              "  "
            ]
          },
          "metadata": {}
        },
        {
          "output_type": "display_data",
          "data": {
            "text/plain": [
              "<IPython.core.display.Javascript object>"
            ],
            "application/javascript": [
              "download(\"download_c206638a-b10e-47d8-ae60-9e7d7bda7574\", \"modelo.sav\", 564)"
            ]
          },
          "metadata": {}
        }
      ]
    },
    {
      "cell_type": "markdown",
      "source": [
        "OBS. *A biblioteca \"pickle\" em Python é usada para serializar e desserializar objetos Python. Ela converte objetos complexos em uma representação binária para armazenamento em disco ou transmissão pela rede, permitindo a recuperação dos dados com sua estrutura e estado originais. É útil em caching, criação de pontos de salvamento, compartilhamento de dados entre aplicativos ou componentes, e ambientes de computação distribuída e paralela, mas requer cuidado com dados não confiáveis devido a possíveis riscos de segurança na desserialização.*"
      ],
      "metadata": {
        "id": "H-dzBKRAAsvl"
      }
    },
    {
      "cell_type": "markdown",
      "source": [
        "## Criando uma API"
      ],
      "metadata": {
        "id": "Z7q24xCR-eLr"
      }
    },
    {
      "cell_type": "markdown",
      "source": [
        "*Uma API (Interface de Programação de Aplicativos) é um conjunto de regras e protocolos que permite que diferentes aplicativos e sistemas interajam e se comuniquem entre si. Ela define os métodos e formatos de solicitação e resposta que os desenvolvedores podem usar para acessar e utilizar os serviços ou funcionalidades oferecidas por uma aplicação, serviço web ou plataforma. As APIs atuam como intermediárias, permitindo que aplicativos se conectem de maneira padronizada, facilitando a integração e a troca de dados.*"
      ],
      "metadata": {
        "id": "yGBD5UXkCexd"
      }
    },
    {
      "cell_type": "code",
      "source": [
        "# para construção da API foi utilizado o Visual Studio Code\n",
        "\n",
        "from flask import Flask, request, jsonify\n",
        "import pickle\n",
        "from flask_basicauth import BasicAuth"
      ],
      "metadata": {
        "id": "PyOz01A7CPm5"
      },
      "execution_count": null,
      "outputs": []
    },
    {
      "cell_type": "markdown",
      "source": [
        "```\n",
        "Flask: Uma biblioteca Python para criação de aplicativos web, permitindo a construção de APIs, sites e outros serviços web de forma rápida e simples.\n",
        "\n",
        "Request: Uma parte do Flask que permite acessar os dados enviados pelo cliente ao servidor, como formulários web ou parâmetros de URL, facilitando o tratamento desses dados no aplicativo.\n",
        "\n",
        "Jsonify: Uma função do Flask que converte objetos Python em objetos JSON, útil para retornar respostas em formato JSON a partir do aplicativo web.\n",
        "\n",
        "Pickle: Uma biblioteca para serialização e desserialização de objetos Python, permitindo salvar e carregar estruturas de dados de forma eficiente.\n",
        "\n",
        "Flask-BasicAuth: Uma extensão do Flask que fornece autenticação básica para aplicativos web, permitindo controlar o acesso a certas rotas ou recursos com autenticação de usuário e senha.\n",
        "```\n",
        "\n"
      ],
      "metadata": {
        "id": "OCbH6rU7Dkft"
      }
    },
    {
      "cell_type": "code",
      "source": [
        "colunas = ['tamanho', 'ano', 'garagem']           # lista com colunas da variável X do modelo\n",
        "modelo = pickle.load(open('modelo.sav', 'rb'))    # para abrir o modelo salvo com a Regressão Linear | deve estar no mesmo diretorio do VScode\n",
        "\n",
        "app = Flask(__name__)                             # define o nome para API\n",
        "app.config['BASIC_AUTH_USERNAME'] = 'escolhaonome'\n",
        "app.config['BASIC_AUTH_PASSWORD'] = 'escolha a senha'\n",
        "\n",
        "basic_auth = BasicAuth(app)                       # autenticação simples\n",
        "\n",
        "@app.route('/')                                   # endpoint: cria uma rota para a API chamada de \"app\"\n",
        "@basic_auth.required                              # solicita a verificação conforme autenticação\n",
        "def home():\n",
        "    return \"minha primeira API\"                   # o que a API executa ao ser chamada\n",
        "\n",
        "@app.route('/modelo/', methods=['POST'])          # endpoint: usa método POST para receber variáveis de entrada\n",
        "@basic_auth.required\n",
        "def executa_modelo():\n",
        "    dados = request.get_json()\n",
        "    dados_input = [dados[col] for col in colunas] # ordenada variaveis de entrada conforme colunas definidas\n",
        "    preco = modelo.predict([dados_input])\n",
        "    return jsonify(preco=preco[0])                # devolve a resposta no formato Json\n",
        "\n",
        "app.run(debug=True)"
      ],
      "metadata": {
        "id": "NcHui2KYDOyI"
      },
      "execution_count": null,
      "outputs": []
    },
    {
      "cell_type": "markdown",
      "source": [
        "OBS. *Em APIs, os endpoints são os pontos de acesso específicos aos recursos ou serviços disponibilizados pelo servidor. Cada endpoint é associado a uma URL única que os clientes da API podem usar para interagir com o servidor e realizar operações sobre os dados ou executar ações específicas. Os endpoints definem as diferentes funcionalidades da API e geralmente são usados para executar operações CRUD (Criar, Ler, Atualizar, Excluir) em recursos. Por exemplo, em uma API de um aplicativo de mídia social, poderia haver endpoints como \"/usuarios\" para obter informações de usuários, \"/publicacoes\" para recuperar postagens e \"/amigos\" para gerenciar conexões entre usuários. Os endpoints permitem que aplicativos externos se comuniquem com o servidor de forma padronizada e bem definida, facilitando a integração e o acesso aos recursos oferecidos pela API.*"
      ],
      "metadata": {
        "id": "bRcM-zRZGzyr"
      }
    },
    {
      "cell_type": "markdown",
      "source": [
        "## Consumindo uma API pelo Jupyterlab"
      ],
      "metadata": {
        "id": "Wh1t0bOZI-A3"
      }
    },
    {
      "cell_type": "code",
      "source": [
        "import requests\n",
        "\n",
        "#definindo 3 variáveis:\n",
        "\n",
        "url = 'http://linkdaAPI/'\n",
        "\n",
        "dados_exemplo = {\n",
        "    \"tamanho\": 220,\n",
        "    \"ano\": 2001,\n",
        "    \"garagem\": 2\n",
        "}\n",
        "\n",
        "auth = requests.auth.HTTPBasicAuth('nome', 'senha')\n",
        "\n",
        "response = requests.post( url, json=dados_exemplo, auth=auth )\n",
        "\n",
        "#response. contém variáveis de acesso aos dados da API"
      ],
      "metadata": {
        "id": "43vzAMW_JC2G"
      },
      "execution_count": null,
      "outputs": []
    },
    {
      "cell_type": "markdown",
      "source": [
        "## Prompt de Comando"
      ],
      "metadata": {
        "id": "JXbFHIx-F0WY"
      }
    },
    {
      "cell_type": "markdown",
      "source": [
        "Após esta etapa é preciso abrir o Prompt de Comando e localizar o diretório onde o arquivo do VS-CODE com o código está salvo. Depois chamar: python \"nomedoarquivo.py\"\n",
        "\n",
        "Para que seja executado corretamente, todas as bibliotécas devem estar instaladas com a mesma versão que estão no VS-CODE e na criação do modelo.\n",
        "\n",
        "O Prompt vai gerar a URL com o código da maquina, onde será possível consultar a API na WEB."
      ],
      "metadata": {
        "id": "LgknmOLRF3Jh"
      }
    },
    {
      "cell_type": "code",
      "source": [
        "# Usando o POSTMAN as configurações abaixo permitem acessar o modelo através da API\n",
        "\n",
        "#   POSTMAN\n",
        "#   POST\n",
        "#   BODY: ROW\n",
        "#   {\n",
        "#       \"tamanho\": 220,\n",
        "#        \"ano\": 2001,\n",
        "#       \"garagem\": 2\n",
        "#   }\n",
        "\n",
        "#   HEADERS: Content-Type\n",
        "#   VALUE: application/json"
      ],
      "metadata": {
        "id": "FVx1Q317Ghmr"
      },
      "execution_count": null,
      "outputs": []
    },
    {
      "cell_type": "markdown",
      "source": [
        "## Máquina Virtual com Virtualenv"
      ],
      "metadata": {
        "id": "Hv_k8pINHbIh"
      }
    },
    {
      "cell_type": "markdown",
      "source": [
        "Para criar uma máquina virtual é possível usar a bibliotéca Python Virtualenv, inserindo no Prompt: **C:\\>python -m virtualenv \"nomedamaquinavirtual\"**\n",
        "\n",
        "---\n",
        "\n",
        "Para reunir todas as versões de Bibliotecas usadas Prompt use: **pip freeze > requirements.txt** (esse comando cria um arquivo txt no diretório com todas as bibliotécas e versões utilizadas no Virtualenv)\n",
        "\n",
        "---\n",
        "\n",
        "Para instalar todas as bibliotécas em novo ambiente virtual, use: **pip install -r requirements.txt**\n",
        "\n",
        "OBS. Importante a máquina virtual estar dentro do mesmo diretório do projeto para que possa executar com o comando **python \"nomedoarquivo.py\"**\n",
        "\n"
      ],
      "metadata": {
        "id": "iZ1aFTp4HgmB"
      }
    }
  ]
}